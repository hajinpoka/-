{
 "cells": [
  {
   "cell_type": "code",
   "execution_count": null,
   "id": "5e6cf653",
   "metadata": {},
   "outputs": [],
   "source": [
    "n = int(input(\"\"))\n",
    "\n",
    "if n >= 90:\n",
    "    print(\"A\")\n",
    "elif n >= 80:\n",
    "    print(\"B\")\n",
    "elif n >= 70:\n",
    "    print(\"C\")\n",
    "elif n >= 60:\n",
    "    print(\"D\")\n",
    "else:\n",
    "    print(\"F\")"
   ]
  },
  {
   "cell_type": "code",
   "execution_count": null,
   "id": "e11bd9c8",
   "metadata": {},
   "outputs": [],
   "source": [
    "x = int(input(\"\"))\n",
    "y = int(input(\"\"))\n",
    "\n",
    "if x > 0 and y > 0:\n",
    "    print(\"1\")\n",
    "elif x < 0 and y > 0:\n",
    "    print(\"2\")\n",
    "elif x > 0 and y < 0:\n",
    "    print(\"4\")\n",
    "elif x < 0 and y < 0:\n",
    "    print(\"3\")"
   ]
  },
  {
   "cell_type": "code",
   "execution_count": null,
   "id": "7d27002b",
   "metadata": {},
   "outputs": [],
   "source": [
    "H, M = input(\"\").split()\n",
    "H = int(H)\n",
    "M = int(M)\n",
    "\n",
    "if M > 44:\n",
    "    print(H,M-45)\n",
    "elif M <= 44 and H > 0:\n",
    "    print(H-1,M+15)\n",
    "else:\n",
    "    print(23, M+15)"
   ]
  },
  {
   "cell_type": "code",
   "execution_count": null,
   "id": "e2cb306f",
   "metadata": {},
   "outputs": [],
   "source": [
    "A,B = input(\"\").split()\n",
    "C = int(input(\"\"))\n",
    "A = int(A)\n",
    "B = int(B)"
   ]
  },
  {
   "cell_type": "code",
   "execution_count": null,
   "id": "8178ba72",
   "metadata": {},
   "outputs": [],
   "source": [
    "A,B,C = input(\"\").split()\n",
    "A = int(A)\n",
    "B = int(B)\n",
    "C = int(C)\n",
    "\n",
    "if A == B == C :\n",
    "    sum = A * 1000 + 10000\n",
    "    print(sum)\n",
    "elif A == B or A == C:\n",
    "    sum1 = 1000 + A * 100\n",
    "    print(sum1)\n",
    "elif B == C :\n",
    "    sum2 = 1000 + C * 100\n",
    "    print(sum2)\n",
    "else:\n",
    "    if A > B and A > C:\n",
    "        sum3 = A*100\n",
    "        print(sum3)\n",
    "    elif B > C:\n",
    "        sum4 = B * 100\n",
    "        print(sum4)\n",
    "    else:\n",
    "        sum5 = C * 100\n",
    "        print(sum5)"
   ]
  },
  {
   "cell_type": "code",
   "execution_count": null,
   "id": "a39e39c6",
   "metadata": {},
   "outputs": [],
   "source": [
    "n = int(input(\"\"))\n",
    "\n",
    "for i in range(1, 10):\n",
    "    print(f\"{n} * {i} =\", n*i)"
   ]
  },
  {
   "cell_type": "code",
   "execution_count": null,
   "id": "64ad6f2c",
   "metadata": {},
   "outputs": [],
   "source": [
    "t = int(input(\"\"))\n",
    "for i in range(1, t+1):\n",
    "    a,b = input(\"\").split()\n",
    "    a = int(a)\n",
    "    b = int(b)\n",
    "    print(a+b)"
   ]
  },
  {
   "cell_type": "code",
   "execution_count": null,
   "id": "d4237bfc",
   "metadata": {},
   "outputs": [],
   "source": [
    "t = int(input(\"\"))\n",
    "for i in range(1, t+1):\n",
    "    a,b = input(\"\").split()\n",
    "    a = int(a)\n",
    "    b = int(b)\n",
    "    print(f\"Case #{i}:\", a+b)"
   ]
  },
  {
   "cell_type": "code",
   "execution_count": null,
   "id": "60a892ec",
   "metadata": {},
   "outputs": [],
   "source": [
    "t = int(input(\"\"))\n",
    "for i in range(1, t+1):\n",
    "    a,b = input(\"\").split()\n",
    "    a = int(a)\n",
    "    b = int(b)\n",
    "    print(f\"Case #{i}:\", a,\"+\",b,\"=\", a+b)"
   ]
  },
  {
   "cell_type": "code",
   "execution_count": null,
   "id": "aa798e56",
   "metadata": {},
   "outputs": [],
   "source": [
    "n = int(input(\"\"))\n",
    "for i in range(1, n+1):\n",
    "    print(\"*\"*i, end=\"\\n\")"
   ]
  },
  {
   "cell_type": "code",
   "execution_count": null,
   "id": "7cf8cd02",
   "metadata": {},
   "outputs": [],
   "source": [
    "n = int(input(\"\"))\n",
    "for i in range(1, n+1):\n",
    "    print(\" \"*(n-i), end=\"\")\n",
    "    print(\"*\"*i)"
   ]
  },
  {
   "cell_type": "code",
   "execution_count": null,
   "id": "ceaa349c",
   "metadata": {},
   "outputs": [],
   "source": [
    "while True: # 무한반복\n",
    "    A,B = input(\"\").split()\n",
    "    A = int(A)\n",
    "    B = int(B)\n",
    "    if A == 0 and B == 0:\n",
    "        break\n",
    "    else:\n",
    "        print(A+B)\n",
    "        continue\n",
    "    print()"
   ]
  },
  {
   "cell_type": "code",
   "execution_count": null,
   "id": "8ffe010f",
   "metadata": {},
   "outputs": [],
   "source": [
    "while True:\n",
    "    try:\n",
    "        A,B = input(\"\").split()\n",
    "        A = int(A)\n",
    "        B = int(B)\n",
    "        print(A+B)\n",
    "    except:\n",
    "        break"
   ]
  },
  {
   "cell_type": "code",
   "execution_count": null,
   "id": "dde020eb",
   "metadata": {},
   "outputs": [],
   "source": [
    "h, m = input(\"\").split()\n",
    "h = int(h)\n",
    "m = int(m)\n",
    "\n",
    "if m > 44:\n",
    "    print(h, m-45)\n",
    "elif h > 0 :\n",
    "    print(h-1, m+15)\n",
    "else:\n",
    "    print(23, m+15)"
   ]
  },
  {
   "cell_type": "code",
   "execution_count": null,
   "id": "ca9da50e",
   "metadata": {},
   "outputs": [],
   "source": [
    "a,b = input(\"\").split()\n",
    "a = int(a[::-1])\n",
    "b = int(b[::-1])\n",
    "\n",
    "if a > b:\n",
    "    print(a)\n",
    "else:\n",
    "    print(b)"
   ]
  },
  {
   "cell_type": "code",
   "execution_count": null,
   "id": "4626e960",
   "metadata": {},
   "outputs": [],
   "source": [
    "while True:\n",
    "    try:\n",
    "        print(input())\n",
    "    except:\n",
    "        break"
   ]
  },
  {
   "cell_type": "code",
   "execution_count": null,
   "id": "d6d06b9d",
   "metadata": {},
   "outputs": [],
   "source": [
    "A,B = map(int, input().split())\n",
    "print(A+B)"
   ]
  },
  {
   "cell_type": "code",
   "execution_count": null,
   "id": "10bbc865",
   "metadata": {},
   "outputs": [],
   "source": [
    "A,B,C = map(int, input().split())\n",
    "\n",
    "if A > B and A > C:\n",
    "    print(A)\n",
    "elif B > C: # B > A , C > A\n",
    "    print(B)\n",
    "else:\n",
    "    print(C)"
   ]
  },
  {
   "cell_type": "code",
   "execution_count": null,
   "id": "c186daf0",
   "metadata": {},
   "outputs": [],
   "source": [
    "A,B,C = map(int, input().split())\n",
    "\n",
    "if A == B == C:\n",
    "    print(A)\n",
    "elif A == B or A == C:\n",
    "    print(A)\n",
    "elif B == C or B == A:\n",
    "    print(B)\n",
    "elif C == A or C == B:\n",
    "    print(C)\n",
    "elif A > B and A > C:\n",
    "    if B > C:\n",
    "        print(B)\n",
    "    else:\n",
    "        print(C)\n",
    "elif B > C and B > A:\n",
    "    if A > C:\n",
    "        print(A)\n",
    "    else:\n",
    "        print(C)\n",
    "elif C > A and C > B:\n",
    "    if A > B :\n",
    "        print(A)\n",
    "    else:\n",
    "        print(B)"
   ]
  },
  {
   "cell_type": "code",
   "execution_count": null,
   "id": "010c9246",
   "metadata": {},
   "outputs": [],
   "source": [
    "n = int(input())\n",
    "for i in range(1, n+1):\n",
    "    print(\"*\"*i)"
   ]
  },
  {
   "cell_type": "code",
   "execution_count": null,
   "id": "eb3a58ce",
   "metadata": {},
   "outputs": [],
   "source": [
    "n = int(input())\n",
    "for i in range(1, n+1):\n",
    "    print(\"*\"*(n-i+1))"
   ]
  },
  {
   "cell_type": "code",
   "execution_count": null,
   "id": "f6c4fb39",
   "metadata": {},
   "outputs": [],
   "source": [
    "n = int(input())\n",
    "for i in range(1, n+1):\n",
    "    print(\" \"*(n-i+1)+\"*\"*i)"
   ]
  },
  {
   "cell_type": "code",
   "execution_count": null,
   "id": "950eb0dd",
   "metadata": {},
   "outputs": [],
   "source": [
    "A,B = map(int, input().split())\n",
    "print(A+B)"
   ]
  },
  {
   "cell_type": "code",
   "execution_count": null,
   "id": "3b48fb07",
   "metadata": {},
   "outputs": [],
   "source": [
    "n = int(input())\n",
    "sum = 1\n",
    "for i in range(n, 0, -1):\n",
    "    sum = sum * i\n",
    "print(sum)"
   ]
  },
  {
   "cell_type": "code",
   "execution_count": null,
   "id": "d76eaca5",
   "metadata": {},
   "outputs": [],
   "source": [
    "sum = 0\n",
    "for i in range(5):\n",
    "    a = int(input(\"\"))\n",
    "    if a > 39:\n",
    "        sum = sum + a\n",
    "    else:\n",
    "        sum = sum + 40\n",
    "print(sum//5)"
   ]
  },
  {
   "cell_type": "code",
   "execution_count": null,
   "id": "85e84f49",
   "metadata": {},
   "outputs": [],
   "source": [
    "n = int(input())\n",
    "f1 = 0\n",
    "f2 = 1\n",
    "f3 = f1 + f2\n",
    "\n",
    "for i in range(n-1):\n",
    "    f3 = f1 + f2\n",
    "    f1 = f2\n",
    "    f2 = f3\n",
    "print(f3)"
   ]
  },
  {
   "cell_type": "code",
   "execution_count": null,
   "id": "3858daf5",
   "metadata": {},
   "outputs": [],
   "source": [
    "money,member = map(int, input().split())\n",
    "\n",
    "print(money//member)\n",
    "print(money%member)\n"
   ]
  },
  {
   "cell_type": "code",
   "execution_count": null,
   "id": "d2c61ba7",
   "metadata": {},
   "outputs": [],
   "source": [
    "R1, S = map(int, input().split())\n",
    "R2 = 2*S - R1\n",
    "print(R2)"
   ]
  },
  {
   "cell_type": "code",
   "execution_count": null,
   "id": "1e498b5b",
   "metadata": {},
   "outputs": [],
   "source": [
    "N,M = map(int, input().split())\n",
    "if N > M:\n",
    "    print(N-M)\n",
    "else:\n",
    "    print(M-N)"
   ]
  },
  {
   "cell_type": "code",
   "execution_count": null,
   "id": "d4f7e308",
   "metadata": {},
   "outputs": [],
   "source": [
    "n = int(input())\n",
    "print(n - 1946)"
   ]
  },
  {
   "cell_type": "code",
   "execution_count": null,
   "id": "6b299cac",
   "metadata": {},
   "outputs": [],
   "source": [
    "T = int(input())\n",
    "A = T // 300\n",
    "B = (T-A*300) // 60\n",
    "C = (T-(A*300+B*60)) // 10\n",
    "if T % 10 != 0:\n",
    "    print(-1)\n",
    "else:\n",
    "    print(A, B, C)"
   ]
  },
  {
   "cell_type": "code",
   "execution_count": null,
   "id": "9292f4b4",
   "metadata": {
    "scrolled": true
   },
   "outputs": [],
   "source": [
    "print(\"\"\"       _.-;;-._\n",
    "'-..-'|   ||   |\n",
    "'-..-'|_.-;;-._|\n",
    "'-..-'|   ||   |\n",
    "'-..-'|_.-''-._|\"\"\")"
   ]
  },
  {
   "cell_type": "code",
   "execution_count": null,
   "id": "4d838c0e",
   "metadata": {},
   "outputs": [],
   "source": []
  },
  {
   "cell_type": "code",
   "execution_count": null,
   "id": "97c272e7",
   "metadata": {},
   "outputs": [],
   "source": [
    "import sys\n",
    "n = int(input(\"\"))\n",
    "input = sys.stdin.readline\n",
    "for i in range(n):\n",
    "    A,B = map(int, input().rstrip().split())\n",
    "    print(A+B)"
   ]
  },
  {
   "cell_type": "code",
   "execution_count": null,
   "id": "c4d386bc",
   "metadata": {},
   "outputs": [],
   "source": [
    "sentence = []\n",
    "n = input()\n",
    "sentence.append(n)\n",
    "print(sentence)\n",
    "len(sentence)"
   ]
  },
  {
   "cell_type": "code",
   "execution_count": null,
   "id": "ad22f4eb",
   "metadata": {},
   "outputs": [],
   "source": [
    "n = int(input())\n",
    "numbers = list(map(int, input().split()))\n",
    "numbers.sort()\n",
    "print(numbers[0], numbers[-1])"
   ]
  },
  {
   "cell_type": "code",
   "execution_count": null,
   "id": "ec837b97",
   "metadata": {},
   "outputs": [],
   "source": [
    "numbers = []\n",
    "for i in range(9):\n",
    "    n = int(input())\n",
    "    numbers.append(n)\n",
    "print(max(numbers))\n",
    "print(numbers.index(max(numbers))+1)"
   ]
  },
  {
   "cell_type": "code",
   "execution_count": null,
   "id": "487ba7f4",
   "metadata": {},
   "outputs": [],
   "source": [
    "print(\"\"\"     /~\\\\\n",
    "    ( oo|\n",
    "    _\\\\=/_\n",
    "   /  _  \\\\\n",
    "  //|/.\\\\|\\\\\\\\\n",
    " ||  \\\\ /  ||\n",
    "============\n",
    "|          |\n",
    "|          |\n",
    "|          |\"\"\")\n"
   ]
  },
  {
   "cell_type": "code",
   "execution_count": null,
   "id": "4374b01f",
   "metadata": {},
   "outputs": [],
   "source": [
    "a,b = map(int, input().split())\n",
    "c = int(input())\n",
    "a = a + c // 60\n",
    "b = b + c % 60\n",
    "\n",
    "if b >= 60:\n",
    "    a = a + 1\n",
    "    b = b - 60\n",
    "if a >= 24:\n",
    "    a = a - 24\n",
    "print(a, b)"
   ]
  },
  {
   "cell_type": "code",
   "execution_count": null,
   "id": "be181d6d",
   "metadata": {},
   "outputs": [],
   "source": [
    "a,b = map(int, input().split())\n",
    "\n",
    "if b > 44 :\n",
    "    print(a, b-45)\n",
    "elif a > 0 : # elif 는 b <= 44 내장\n",
    "    print(a-1, b+15) # + 15 인 이유는 ? b = 44, 44 - 45 = -1\n",
    "else: # 60 - 1 = 59 = 44 + 15\n",
    "    print(23, b+15)"
   ]
  },
  {
   "cell_type": "code",
   "execution_count": null,
   "id": "ce5d0880",
   "metadata": {
    "scrolled": true
   },
   "outputs": [],
   "source": [
    "n,x = map(int, input().split())\n",
    "numbers = list(map(int, input().split()))\n",
    "low = []\n",
    "for i in range(n):\n",
    "    if numbers[i] < x:\n",
    "        low.append(numbers[i])\n",
    "for j in range(len(low)):\n",
    "    print(low[j], end = \" \")"
   ]
  },
  {
   "cell_type": "code",
   "execution_count": null,
   "id": "2ca83f05",
   "metadata": {},
   "outputs": [],
   "source": [
    "# using list comprehension\n",
    "# to convert number to list of integers\n",
    "# res = [int(x) for x in str(num)]\n",
    "A = int(input())\n",
    "B = int(input())\n",
    "C = int(input())\n",
    "res = A*B*C\n",
    "x = [int(a) for a in str(res)]\n",
    "for i in range(10):\n",
    "    print(x.count(i))"
   ]
  },
  {
   "cell_type": "code",
   "execution_count": null,
   "id": "14642820",
   "metadata": {},
   "outputs": [],
   "source": [
    "n = int(input())\n",
    "num = n\n",
    "cnt = 0\n",
    "\n",
    "while True:\n",
    "    a = num // 10\n",
    "    b = num % 10\n",
    "    c = (a+b)%10\n",
    "    num = b=(b * 10) + c\n",
    "    cnt += 1\n",
    "    if num == n :\n",
    "        break\n",
    "print(cnt)"
   ]
  },
  {
   "cell_type": "code",
   "execution_count": null,
   "id": "94296352",
   "metadata": {},
   "outputs": [],
   "source": [
    "d,h,w = map(int,input().split())\n",
    "r = d/(h**2+w**2)**0.5\n",
    "print(int(h*r),int(w*r))"
   ]
  },
  {
   "cell_type": "code",
   "execution_count": null,
   "id": "ae9bd310",
   "metadata": {},
   "outputs": [],
   "source": [
    "A,B,C = map(int, input().split())\n",
    "D = int(input()) \n",
    "\n",
    "C+=D\n",
    "B+=C//60\n",
    "A+=B//60\n",
    "C%=60\n",
    "B%=60\n",
    "A%=24\n",
    "print(A,B,C)"
   ]
  },
  {
   "cell_type": "code",
   "execution_count": null,
   "id": "341dbd55",
   "metadata": {},
   "outputs": [],
   "source": [
    "a = int(input())\n",
    "b = int(input())\n",
    "print(a+b)\n",
    "print(a-b)\n",
    "print(a*b)"
   ]
  },
  {
   "cell_type": "code",
   "execution_count": null,
   "id": "e07843ef",
   "metadata": {},
   "outputs": [],
   "source": [
    "print(\"\"\"NFC West       W   L  T\n",
    "-----------------------\n",
    "Seattle        13  3  0\n",
    "San Francisco  12  4  0\n",
    "Arizona        10  6  0\n",
    "St. Louis      7   9  0\n",
    "\n",
    "NFC North      W   L  T\n",
    "-----------------------\n",
    "Green Bay      8   7  1\n",
    "Chicago        8   8  0\n",
    "Detroit        7   9  0\n",
    "Minnesota      5  10  1\"\"\")"
   ]
  },
  {
   "cell_type": "code",
   "execution_count": null,
   "id": "22a1870e",
   "metadata": {},
   "outputs": [],
   "source": [
    "words = tuple(input().split())\n",
    "len(words)"
   ]
  },
  {
   "cell_type": "code",
   "execution_count": null,
   "id": "c2d0ec32",
   "metadata": {},
   "outputs": [],
   "source": [
    "while True:\n",
    "    a,b = map(int, input().split())\n",
    "    if a - b > 0: # a is bigger than b\n",
    "        print(\"Yes\")\n",
    "    elif a - b < 0: # a is smaller than b\n",
    "        print(\"No\")\n",
    "    elif a == 0 and b == 0:\n",
    "        break\n",
    "    elif a - b == 0:\n",
    "        print(\"No\")"
   ]
  },
  {
   "cell_type": "code",
   "execution_count": null,
   "id": "c21c490b",
   "metadata": {},
   "outputs": [],
   "source": [
    "while True:\n",
    "    a,b = map(int, input().split())\n",
    "    if a == 0 and b == 0:\n",
    "        break\n",
    "    elif a > b:\n",
    "        print(\"Yes\")\n",
    "    else:\n",
    "        print(\"No\")"
   ]
  },
  {
   "cell_type": "code",
   "execution_count": null,
   "id": "8631f409",
   "metadata": {},
   "outputs": [],
   "source": [
    "a,b,c,d,e,f,g,h = map(int, input().split())\n",
    "\n",
    "if a > b > c > d > e > f > g > h :\n",
    "    print(\"descending\")\n",
    "elif a < b < c < d < e < f < g < h:\n",
    "    print(\"ascending\")\n",
    "else:\n",
    "    print(\"mixed\")\n"
   ]
  },
  {
   "cell_type": "code",
   "execution_count": null,
   "id": "f7cb2db8",
   "metadata": {},
   "outputs": [],
   "source": [
    "ref = []\n",
    "while True:\n",
    "    try:\n",
    "        a, food = input().split()\n",
    "        if a == '+':\n",
    "            ref.append(food)\n",
    "        elif a == '-':\n",
    "            if food not in ref:\n",
    "                pass\n",
    "            else:\n",
    "                ref.remove(food)\n",
    "        elif a == 'x':\n",
    "            break\n",
    "    except:\n",
    "        break\n",
    "print(ref)"
   ]
  },
  {
   "cell_type": "code",
   "execution_count": null,
   "id": "5a4ae864",
   "metadata": {},
   "outputs": [],
   "source": [
    "import sys\n",
    " \n",
    "for _ in range(3):\n",
    "    N = int(sys.stdin.readline())\n",
    "    sum = 0\n",
    "    for i in range(N):\n",
    "       num = int(sys.stdin.readline())\n",
    "       sum += num \n",
    "    \n",
    "    if sum > 0:\n",
    "        print(\"+\")\n",
    "    elif sum < 0:\n",
    "        print(\"-\")\n",
    "    else:\n",
    "        print(\"0\")"
   ]
  },
  {
   "cell_type": "code",
   "execution_count": null,
   "id": "751d0f17",
   "metadata": {},
   "outputs": [],
   "source": [
    "A,B = map(int, input().split())\n",
    "\n",
    "if A < B:\n",
    "    print((A+B)*(B-A+1)//2)\n",
    "elif A > B:\n",
    "    print((A+B)*(A-B+1)//2)\n",
    "elif A == B:\n",
    "    print(A)"
   ]
  },
  {
   "cell_type": "code",
   "execution_count": null,
   "id": "f4623449",
   "metadata": {},
   "outputs": [],
   "source": [
    "list = []\n",
    "list1 = []\n",
    "for x in range(10):\n",
    "    n = int(input())\n",
    "    list.append(n)\n",
    "for y in range(10):\n",
    "    k = list[y] % 42\n",
    "    list1.append(k)\n",
    "s = set(list1) # 중복된 요소를 제거해주는 함수\n",
    "print(len(s))"
   ]
  },
  {
   "cell_type": "code",
   "execution_count": null,
   "id": "d3ed0872",
   "metadata": {},
   "outputs": [],
   "source": [
    "n = int(input()) #과목 갯수\n",
    "test_list = list(map(int, input().split())) # 과목 별 점수\n",
    "newgrade = [] \n",
    "for score in test_list: # test_list 안의 요소들을 score 로 반환\n",
    "    grade = score / max(test_list)*100\n",
    "    newgrade.append(grade)\n",
    "middle = sum(newgrade) / n\n",
    "print(middle)"
   ]
  },
  {
   "cell_type": "code",
   "execution_count": null,
   "id": "dcfd057b",
   "metadata": {},
   "outputs": [],
   "source": [
    "n = int(input())\n",
    "cnt = 0\n",
    "for x in range(n):\n",
    "    grades = list(map(int, input().split()))\n",
    "    for y in grades[1:]:\n",
    "        avg = sum(grades[1:]) / grades[0]\n",
    "        if avg < y:\n",
    "            cnt += 1\n",
    "        else:\n",
    "            pass\n",
    "    rate = (cnt/grades[0])*100\n",
    "    print(f'{rate:.3f}%')\n",
    "    cnt = 0"
   ]
  },
  {
   "cell_type": "code",
   "execution_count": null,
   "id": "e801e0dd",
   "metadata": {},
   "outputs": [],
   "source": [
    "correct = int(input())\n",
    "id = input()\n",
    "print(correct)\n",
    "print(id)"
   ]
  },
  {
   "cell_type": "code",
   "execution_count": null,
   "id": "9a968b75",
   "metadata": {},
   "outputs": [],
   "source": [
    "n = int(input())\n",
    "for i in range(1,n+1):\n",
    "    print(\"*\"*i, end=\"\\n\")\n",
    "for x in range(n-1):\n",
    "    print(\"*\"*(n-x-1), end=\"\\n\")"
   ]
  },
  {
   "cell_type": "code",
   "execution_count": null,
   "id": "8b5f68e0",
   "metadata": {},
   "outputs": [],
   "source": [
    "n = int(input())\n",
    "for i in range(n):\n",
    "    ox_list = list(input())\n",
    "    sum = 0\n",
    "    sum_real = 0\n",
    "    for ox in ox_list:\n",
    "        if ox == 'O':\n",
    "            sum += 1\n",
    "            sum_real += sum\n",
    "        else:\n",
    "            sum = 0\n",
    "    print(sum_real)"
   ]
  },
  {
   "cell_type": "code",
   "execution_count": null,
   "id": "db07cbd7",
   "metadata": {},
   "outputs": [],
   "source": [
    "n = int(input())\n",
    "num = input()\n",
    "sum = 0\n",
    "for i in range(n):\n",
    "    sum += int(num[i])\n",
    "print(sum)"
   ]
  },
  {
   "cell_type": "code",
   "execution_count": null,
   "id": "8c537918",
   "metadata": {},
   "outputs": [],
   "source": [
    "import sys\n",
    "\n",
    "for _ in range(3):\n",
    "    sum = 0\n",
    "    n = int(input())\n",
    "    for x in range(n):\n",
    "        num = int(input())\n",
    "        sum += num\n",
    "    if sum > 0:\n",
    "        print(\"+\")\n",
    "    elif sum < 0:\n",
    "        print('-')\n",
    "    else:\n",
    "        print(\"0\")"
   ]
  },
  {
   "cell_type": "code",
   "execution_count": null,
   "id": "f44fccb0",
   "metadata": {},
   "outputs": [],
   "source": [
    "child1 = int(input())\n",
    "child2 = int(input())\n",
    "arithmetic = child2 - child1\n",
    "print(child2 + arithmetic)"
   ]
  },
  {
   "cell_type": "code",
   "execution_count": null,
   "id": "62fc7896",
   "metadata": {},
   "outputs": [],
   "source": [
    "n = int(input())\n",
    "cost = 0\n",
    "record = []\n",
    "for i in range(n):\n",
    "    country = input()\n",
    "    record.append(country)\n",
    "    if country == 'botswana':\n",
    "        cost += 0\n",
    "        if 'zimbabwe' in record:\n",
    "            record.remove(zimbabwe)\n",
    "        if 'zambia' in record:\n",
    "            record.remove(zambia)\n",
    "    elif country == 'ethiopia':\n",
    "        cost += 50\n",
    "        if 'zimbabwe' in record:\n",
    "            record.remove(zimbabwe)\n",
    "        if 'zambia' in record:\n",
    "            record.remove(zambia)\n",
    "    elif country == 'kenya':\n",
    "        cost += 50\n",
    "        if 'zimbabwe' in record:\n",
    "            record.remove(zimbabwe)\n",
    "        if 'zambia' in record:\n",
    "            record.remove(zambia)\n",
    "    elif country == 'namibia':\n",
    "        if 'south-africa' in record:\n",
    "            cost += 40\n",
    "            if 'zimbabwe' in record:\n",
    "            record.remove(zimbabwe)\n",
    "        if 'zambia' in record:\n",
    "            record.remove(zambia)\n",
    "        else:\n",
    "            cost += 140\n",
    "            if 'zimbabwe' in record:\n",
    "            record.remove(zimbabwe)\n",
    "        if 'zambia' in record:\n",
    "            record.remove(zambia)\n",
    "    elif country == 'south-africa':\n",
    "        cost += 0\n",
    "        if 'zimbabwe' in record:\n",
    "            record.remove(zimbabwe)\n",
    "        if 'zambia' in record:\n",
    "            record.remove(zambia)\n",
    "    elif country == 'tanzania':\n",
    "        cost += 50\n",
    "        if 'zimbabwe' in record:\n",
    "            record.remove(zimbabwe)\n",
    "        if 'zambia' in record:\n",
    "            record.remove(zambia)\n",
    "    elif country == 'zambia':\n",
    "        if 'zimbabwe' in record:\n",
    "            cost += 20\n",
    "        else:\n",
    "            cost += 50\n",
    "    elif country == 'zimbabwe':\n",
    "        if 'zambia' in record:\n",
    "            cost += 0\n",
    "        else:\n",
    "            cost += 30\n",
    "print(cost)"
   ]
  },
  {
   "cell_type": "code",
   "execution_count": null,
   "id": "162dbdeb",
   "metadata": {},
   "outputs": [],
   "source": [
    "a,b = map(int, input().split())\n",
    "for i in range(a):\n",
    "    c,d = map(int, input().split())\n",
    "print(\"비와이\")"
   ]
  },
  {
   "cell_type": "code",
   "execution_count": null,
   "id": "52f7c28c",
   "metadata": {},
   "outputs": [],
   "source": [
    "n = int(input())\n",
    "sum1 = 0\n",
    "\n",
    "for i in range(1, n+1):\n",
    "    if n % i == 0:\n",
    "        sum1 += (n//i)*i\n",
    "print(sum1)"
   ]
  },
  {
   "cell_type": "code",
   "execution_count": null,
   "id": "c0bdb86e",
   "metadata": {},
   "outputs": [],
   "source": [
    "print(\"\"\"    8888888888  888    88888\n",
    "   88     88   88 88   88  88\n",
    "    8888  88  88   88  88888\n",
    "       88 88 888888888 88   88\n",
    "88888888  88 88     88 88    888888\n",
    "\n",
    "88  88  88   888    88888    888888\n",
    "88  88  88  88 88   88  88  88\n",
    "88 8888 88 88   88  88888    8888\n",
    " 888  888 888888888 88  88      88\n",
    "  88  88  88     88 88   88888888\"\"\")"
   ]
  },
  {
   "cell_type": "code",
   "execution_count": null,
   "id": "3fa73929",
   "metadata": {},
   "outputs": [],
   "source": [
    "S = input()\n",
    "letter ='abcdefghijklmnopqrstuvwxyz'\n",
    "for i in letter:\n",
    "    if i in S:\n",
    "        print(S.index(i), end =' ')\n",
    "    else:\n",
    "        print(\"-1\", end = ' ')"
   ]
  },
  {
   "cell_type": "code",
   "execution_count": null,
   "id": "17161768",
   "metadata": {},
   "outputs": [],
   "source": [
    "test = int(input())\n",
    "for _ in range(test):\n",
    "    R, S = input().split()\n",
    "    for x in S:\n",
    "        print(x*int(R), end =\"\")\n",
    "    print()"
   ]
  },
  {
   "cell_type": "code",
   "execution_count": null,
   "id": "55a132e3",
   "metadata": {},
   "outputs": [],
   "source": [
    "print(\"\"\"SHIP NAME      CLASS          DEPLOYMENT IN SERVICE\n",
    "N2 Bomber      Heavy Fighter  Limited    21        \n",
    "J-Type 327     Light Combat   Unlimited  1         \n",
    "NX Cruiser     Medium Fighter Limited    18        \n",
    "N1 Starfighter Medium Fighter Unlimited  25        \n",
    "Royal Cruiser  Light Combat   Limited    4         \"\"\")"
   ]
  },
  {
   "cell_type": "code",
   "execution_count": null,
   "id": "a2c8a6a9",
   "metadata": {},
   "outputs": [],
   "source": [
    "a,b = map(int,input().split())\n",
    "steal = a/b\n",
    "\n",
    "print(1-steal)"
   ]
  },
  {
   "cell_type": "code",
   "execution_count": null,
   "id": "1e0d46a4",
   "metadata": {},
   "outputs": [],
   "source": [
    "A,B = map(int, input().split())\n",
    "special = (A+B)*(A-B)\n",
    "print(special)"
   ]
  },
  {
   "cell_type": "code",
   "execution_count": null,
   "id": "520d75e7",
   "metadata": {},
   "outputs": [],
   "source": [
    "a,b,c = map(int, input().split())\n",
    "\n",
    "if b>=c:\n",
    "    print(-1)\n",
    "else:\n",
    "    print(int(a/(c-b)+1))"
   ]
  },
  {
   "cell_type": "code",
   "execution_count": null,
   "id": "c3ad3081",
   "metadata": {},
   "outputs": [],
   "source": [
    "A,B,V = map(int, input().split())\n",
    "day = A-B\n",
    "cnt = 0\n",
    "status = 0\n",
    "\n",
    "while True:\n",
    "    V = V - day\n",
    "    cnt += 1\n",
    "    if V - A == 0:\n",
    "        cnt += 1\n",
    "        break\n",
    "    elif V <= 0:\n",
    "        break\n",
    "        \n",
    "print(cnt)"
   ]
  },
  {
   "cell_type": "code",
   "execution_count": null,
   "id": "4a08121d",
   "metadata": {},
   "outputs": [],
   "source": [
    "S = input()\n",
    "count = {}\n",
    "for ch in S:\n",
    "    count[ch] = count.get(ch, 0) + 1\n",
    "    \n",
    "print(max(count.keys().upper()))"
   ]
  },
  {
   "cell_type": "code",
   "execution_count": null,
   "id": "cc45c536",
   "metadata": {},
   "outputs": [],
   "source": [
    "def fibo(n):\n",
    "    a,b = 0, 1\n",
    "    for i in range(n):\n",
    "        a, b = b, a+b\n",
    "    return a\n",
    "\n",
    "n = int(input())\n",
    "print(fibo(n))"
   ]
  },
  {
   "cell_type": "code",
   "execution_count": null,
   "id": "08c2d8c1",
   "metadata": {},
   "outputs": [],
   "source": [
    "T = int(input())\n",
    "for i in range(T):\n",
    "    k = int(input())\n",
    "    n = int(input())\n",
    "    "
   ]
  },
  {
   "cell_type": "code",
   "execution_count": null,
   "id": "ebeb7246",
   "metadata": {},
   "outputs": [],
   "source": [
    "n = int(input()) # 설탕 kg\n",
    "five = n // 5\n",
    "three = (n - 5*five) // 3\n",
    "\n",
    "if n % 5 == n and n % 3 == n :"
   ]
  },
  {
   "cell_type": "code",
   "execution_count": null,
   "id": "98a802e3",
   "metadata": {},
   "outputs": [],
   "source": [
    "N, M, K = map(int, input().split()) #  N 여학생, M 남학생, K 인턴쉽\n",
    "team = 0\n",
    "\n",
    "while N >= 2 and M >= 1 and N + M >=  K + 3 :\n",
    "    N -= 2\n",
    "    M -= 1\n",
    "    team += 1\n",
    "print(team)"
   ]
  },
  {
   "cell_type": "code",
   "execution_count": null,
   "id": "de59db12",
   "metadata": {},
   "outputs": [],
   "source": [
    "while True:\n",
    "    try:\n",
    "        print(input())\n",
    "    except:\n",
    "        break"
   ]
  },
  {
   "cell_type": "code",
   "execution_count": null,
   "id": "4b12d7ad",
   "metadata": {},
   "outputs": [],
   "source": [
    "a = \"world\"\n",
    "len(a)"
   ]
  },
  {
   "cell_type": "code",
   "execution_count": null,
   "id": "3e9aa82c",
   "metadata": {},
   "outputs": [],
   "source": []
  },
  {
   "cell_type": "code",
   "execution_count": null,
   "id": "ae918095",
   "metadata": {},
   "outputs": [],
   "source": [
    "n = int(input())\n",
    "cnt = n\n",
    "for _ in range(n):\n",
    "    word = input()\n",
    "    for i in range(len(word)-1):\n",
    "        if word[i] != word[i+1]:\n",
    "            if word[i+1] in word[:i]:\n",
    "                cnt -= 1\n",
    "                break\n",
    "print(cnt)"
   ]
  },
  {
   "cell_type": "code",
   "execution_count": null,
   "id": "c5a0d4ea",
   "metadata": {},
   "outputs": [],
   "source": [
    "lst = []\n",
    "a,b,c = map(int, input().split())\n",
    "lst.append(a)\n",
    "lst.append(b)\n",
    "lst.append(c)\n",
    "d = sorted(lst)\n",
    "print(d[0],d[1],d[2], sep = ' ')"
   ]
  },
  {
   "cell_type": "code",
   "execution_count": null,
   "id": "230fc27c",
   "metadata": {},
   "outputs": [],
   "source": [
    "n = int(input())\n",
    "a,b,c,d,e = map(int, input().split())\n",
    "s = [a,b,c,d,e]\n",
    "cnt = 0\n",
    "for x in range(5):\n",
    "    if n < 10:\n",
    "        if s[x] == n:\n",
    "            cnt += 1\n",
    "        else:\n",
    "            pass\n",
    "    elif n > 10:\n",
    "        if s[x] == (n % 10):\n",
    "            cnt += 1\n",
    "        else:\n",
    "            pass\n",
    "print(cnt)"
   ]
  },
  {
   "cell_type": "code",
   "execution_count": null,
   "id": "a09fcb5a",
   "metadata": {},
   "outputs": [],
   "source": [
    "a,b,c,d,e = map(int, input().split())\n",
    "q,p,r,s,t = map(int, input().split())\n",
    "toggle = 0\n",
    "if a or q > 0:\n",
    "    toggle = 1\n",
    "\n",
    "if toggle == 1:\n",
    "    point1 = (a*6 + b*3 + c*2 + )"
   ]
  },
  {
   "cell_type": "code",
   "execution_count": null,
   "id": "aa229679",
   "metadata": {},
   "outputs": [],
   "source": [
    "print(\"\"\"         ,r'\"7\n",
    "r`-_   ,'  ,/\n",
    " \\. \". L_r'\n",
    "   `~\\/\n",
    "      |\n",
    "      |\"\"\")"
   ]
  },
  {
   "cell_type": "code",
   "execution_count": null,
   "id": "d3c0bb5b",
   "metadata": {},
   "outputs": [],
   "source": [
    "def selfnum():\n",
    "    n = 1\n",
    "    n_1 = n // 10\n",
    "    n_2 = n % 10\n",
    "    self_num = n + n_1 + n_2\n",
    "    return self_num \n",
    "print(selfnum())"
   ]
  },
  {
   "cell_type": "code",
   "execution_count": null,
   "id": "3a9b30af",
   "metadata": {
    "scrolled": true
   },
   "outputs": [],
   "source": [
    " list = []\n",
    "toggle = 0\n",
    "for i in range(7):\n",
    "    n = int(input())\n",
    "    if n % 2 != 0:\n",
    "        list.append(n)\n",
    "        toggle = 1\n",
    "    else:\n",
    "        pass\n",
    "\n",
    "if toggle == 0:\n",
    "    print(\"-1\")\n",
    "else:\n",
    "    print(sum(list))\n",
    "    print(min(list))"
   ]
  },
  {
   "cell_type": "code",
   "execution_count": null,
   "id": "6a136f22",
   "metadata": {},
   "outputs": [],
   "source": [
    "def gcd(a, b):\n",
    "    while b > 0:\n",
    "        a, b = b, a % b\n",
    "    return a\n",
    "\n",
    "T = int(input())\n",
    "for i in range(T):\n",
    "    a, b = map(int, input().split())\n",
    "    lcm = a * b / gcd(a, b)\n",
    "    print(int(lcm))"
   ]
  },
  {
   "cell_type": "code",
   "execution_count": null,
   "id": "4f6a8a4d",
   "metadata": {},
   "outputs": [],
   "source": [
    "def gcd(a, b):\n",
    "    while b > 0:\n",
    "        a, b = b, a % b\n",
    "    return a\n",
    "\n",
    "def lcm(a, b):\n",
    "    lcm = a * b // gcd(a, b)\n",
    "    return lcm\n",
    "\n",
    "a,b = map(int, input().split())\n",
    "print(gcd(a, b))\n",
    "print(lcm(a, b))"
   ]
  },
  {
   "cell_type": "code",
   "execution_count": null,
   "id": "75ca4ba3",
   "metadata": {},
   "outputs": [],
   "source": [
    "def gcd(a, b):\n",
    "    while b > 0:\n",
    "        a, b = b, a % b\n",
    "    return a\n",
    "\n",
    "def lcm(a, b):\n",
    "    lcm = a * b // gcd(a, b)\n",
    "    return lcm\n",
    "\n",
    "n = int(input())\n",
    "for i in range(n):\n",
    "    a,b = map(int, input().split())\n",
    "    print(lcm(a, b))"
   ]
  },
  {
   "cell_type": "markdown",
   "id": "1ba11235",
   "metadata": {},
   "source": [
    "\\ "
   ]
  },
  {
   "cell_type": "code",
   "execution_count": null,
   "id": "516e35e1",
   "metadata": {},
   "outputs": [],
   "source": [
    "def fibo(n):\n",
    "    f1 = 0\n",
    "    f2 = 1\n",
    "    f3 = f1 + f2\n",
    "    for _ in range(n-1):\n",
    "        f3 = f1 + f2\n",
    "        f1 = f2\n",
    "        f2 = f3\n",
    "    return f3\n",
    "\n",
    "n = int(input())\n",
    "print(fibo(n))"
   ]
  },
  {
   "cell_type": "code",
   "execution_count": null,
   "id": "ae43b209",
   "metadata": {},
   "outputs": [],
   "source": [
    "n = input()\n",
    "for i in range(0,len(n),10):\n",
    "    print(n[i:i+10])"
   ]
  },
  {
   "cell_type": "code",
   "execution_count": null,
   "id": "1fb15001",
   "metadata": {},
   "outputs": [],
   "source": [
    "n = input()\n",
    "for i in range(1,len(n)):\n",
    "    left = right = 1\n",
    "    for x in n[:i]:\n",
    "        left *= int(x)\n",
    "    for y in n[i:]:\n",
    "        right *= int(y)\n",
    "    if left == right:\n",
    "        print(\"YES\")\n",
    "        break\n",
    "else:\n",
    "    print('NO')"
   ]
  },
  {
   "cell_type": "code",
   "execution_count": null,
   "id": "5fc51fbc",
   "metadata": {},
   "outputs": [],
   "source": [
    "word = input().upper()\n",
    "wordlist = list(set(word))\n",
    "cnt = []\n",
    "\n",
    "for i in wordlist:\n",
    "    count = word.count\n",
    "    cnt.append(count(i))\n",
    "\n",
    "if cnt.count(max(cnt)) > 1:\n",
    "    print(\"?\")\n",
    "\n",
    "else:\n",
    "    print(wordlist[(cnt.index(max(cnt)))])"
   ]
  },
  {
   "cell_type": "markdown",
   "id": "16ba34a5",
   "metadata": {},
   "source": [
    "#### n = int(input())\n",
    "number = map(int, input().split())\n",
    "\n",
    "for i in number:\n",
    "    cnt = 0\n",
    "    if i == 1:\n",
    "        continue\n",
    "    for x in range(2, n+1):\n",
    "        if i % x == 0:\n",
    "            pass\n",
    "        else:\n",
    "            cnt+=1\n",
    "print(cnt)"
   ]
  },
  {
   "cell_type": "code",
   "execution_count": null,
   "id": "a7f8fa59",
   "metadata": {},
   "outputs": [],
   "source": [
    "n = int(input())\n",
    "number = list(map(int, input().split()))\n",
    "cnt = 0\n",
    "\n",
    "for x in number:\n",
    "    for i in range(2, x+1):\n",
    "        if x % i == 0:\n",
    "            if x == i:\n",
    "                cnt +=1\n",
    "                \n",
    "        break\n",
    "print(cnt)"
   ]
  },
  {
   "cell_type": "code",
   "execution_count": null,
   "id": "7afb8c24",
   "metadata": {},
   "outputs": [],
   "source": [
    "n = int(input())\n",
    "num = []\n",
    "for i in range(n):\n",
    "    num.append(int(input()))\n",
    "\n",
    "num.sort()\n",
    "for i in num:\n",
    "    print(i)"
   ]
  },
  {
   "cell_type": "code",
   "execution_count": null,
   "id": "4430a291",
   "metadata": {},
   "outputs": [],
   "source": [
    "import sys\n",
    "n = int(input())\n",
    "num = []\n",
    "for _ in range(n):\n",
    "    num.append(int(sys.stdin.readline()))\n",
    "num.sort()\n",
    "for i in num:\n",
    "    print(i)"
   ]
  },
  {
   "cell_type": "code",
   "execution_count": 1,
   "id": "ab4a9177",
   "metadata": {},
   "outputs": [
    {
     "name": "stdout",
     "output_type": "stream",
     "text": [
      "121\n",
      "yes\n",
      "1231\n",
      "no\n",
      "12421\n",
      "yes\n",
      "0\n"
     ]
    }
   ],
   "source": [
    "while True:\n",
    "    try:\n",
    "        n = input()\n",
    "        if n == '0':\n",
    "            break\n",
    "        else:\n",
    "            if n[::1] == n[::-1]:\n",
    "                print(\"yes\")\n",
    "            else:\n",
    "                print(\"no\")\n",
    "    except:\n",
    "        break"
   ]
  },
  {
   "cell_type": "code",
   "execution_count": 2,
   "id": "0f7d93dc",
   "metadata": {},
   "outputs": [
    {
     "name": "stdout",
     "output_type": "stream",
     "text": [
      "653 375 1000 1000\n",
      "347\n"
     ]
    }
   ],
   "source": [
    "x,y,w,h = map(int, input().split())\n",
    "print(min(x, y, w-x, h-y))"
   ]
  }
 ],
 "metadata": {
  "kernelspec": {
   "display_name": "Python 3 (ipykernel)",
   "language": "python",
   "name": "python3"
  },
  "language_info": {
   "codemirror_mode": {
    "name": "ipython",
    "version": 3
   },
   "file_extension": ".py",
   "mimetype": "text/x-python",
   "name": "python",
   "nbconvert_exporter": "python",
   "pygments_lexer": "ipython3",
   "version": "3.9.7"
  }
 },
 "nbformat": 4,
 "nbformat_minor": 5
}
