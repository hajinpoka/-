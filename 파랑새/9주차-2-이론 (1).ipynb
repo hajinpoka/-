{
 "cells": [
  {
   "cell_type": "code",
   "execution_count": 4,
   "id": "fd715809",
   "metadata": {},
   "outputs": [
    {
     "name": "stdout",
     "output_type": "stream",
     "text": [
      "A :\n",
      " [[1 2 3]\n",
      " [4 5 6]]\n"
     ]
    }
   ],
   "source": [
    "#ndarray 생성 - 리스트 사용\n",
    "import numpy as np\n",
    "A = np.array([[1,2,3],[4,5,6]], dtype=np.int32) # 정수형, 32비트 #dtype = 'i4' 4바이트 (32비트)\n",
    "print(\"A :\\n\", A)"
   ]
  },
  {
   "cell_type": "code",
   "execution_count": 8,
   "id": "d9e0811f",
   "metadata": {},
   "outputs": [
    {
     "name": "stdout",
     "output_type": "stream",
     "text": [
      "A : [0 1 2]\n"
     ]
    }
   ],
   "source": [
    "#ndarray 생성 - arange() 사용\n",
    "import numpy as np\n",
    "A = np.arange(3)\n",
    "print(\"A :\", A)"
   ]
  },
  {
   "cell_type": "code",
   "execution_count": 12,
   "id": "eeefff20",
   "metadata": {},
   "outputs": [
    {
     "name": "stdout",
     "output_type": "stream",
     "text": [
      "E1 : [ 0.   2.5  5.   7.5 10. ]\n",
      "E2 : [ 1.25892541  1.58489319  1.99526231  2.51188643  3.16227766  3.98107171\n",
      "  5.01187234  6.30957344  7.94328235 10.        ]\n"
     ]
    }
   ],
   "source": [
    "#ndarray 생성 - linspace(), logspace() 사용\n",
    "import numpy as np\n",
    "E1 = np.linspace(0.0, 10.0, num=5) # 5개 만들기\n",
    "print(\"E1 :\", E1)\n",
    "E2 = np.logspace(0.1, 1, num = 10) # 10개 만들기\n",
    "print(\"E2 :\", E2)"
   ]
  },
  {
   "cell_type": "code",
   "execution_count": 14,
   "id": "51a193b4",
   "metadata": {},
   "outputs": [],
   "source": [
    "#numpy 는 속도가 빠르다."
   ]
  },
  {
   "cell_type": "code",
   "execution_count": 16,
   "id": "0a5ff384",
   "metadata": {},
   "outputs": [
    {
     "name": "stdout",
     "output_type": "stream",
     "text": [
      "[10 10 10 10 10  5  6  7  8  9]\n",
      "[5 6 7 8 9]\n",
      "[10 10 10 10 10 20  6  7  8  9]\n",
      "[30  6  7  8  9]\n",
      "[10 10 10 10 10 30  6  7  8  9]\n"
     ]
    }
   ],
   "source": [
    "#ndarray에 대한 인덱싱과 슬라이싱\n",
    "A = np.arange(10)\n",
    "\n",
    "A[:5] = 10\n",
    "print(A)\n",
    "\n",
    "B = A[5:]\n",
    "print(B)\n",
    "\n",
    "B[0] = 20 # shallow copy\n",
    "print(A)\n",
    "\n",
    "C = A[5:].copy() # deep copy\n",
    "B[0] = 30\n",
    "print(B)\n",
    "\n",
    "print(A)"
   ]
  },
  {
   "cell_type": "code",
   "execution_count": 17,
   "id": "3c627bd3",
   "metadata": {},
   "outputs": [],
   "source": [
    "#ndarray 배열에 대한 연산"
   ]
  },
  {
   "cell_type": "code",
   "execution_count": null,
   "id": "47c43828",
   "metadata": {},
   "outputs": [],
   "source": [
    "#ndarray에 대한 관계연산과 논리 연산"
   ]
  }
 ],
 "metadata": {
  "kernelspec": {
   "display_name": "Python 3 (ipykernel)",
   "language": "python",
   "name": "python3"
  },
  "language_info": {
   "codemirror_mode": {
    "name": "ipython",
    "version": 3
   },
   "file_extension": ".py",
   "mimetype": "text/x-python",
   "name": "python",
   "nbconvert_exporter": "python",
   "pygments_lexer": "ipython3",
   "version": "3.9.7"
  }
 },
 "nbformat": 4,
 "nbformat_minor": 5
}
