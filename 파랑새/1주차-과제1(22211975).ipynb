{
 "cells": [
  {
   "cell_type": "code",
   "execution_count": 38,
   "id": "384aa8aa",
   "metadata": {},
   "outputs": [
    {
     "name": "stdout",
     "output_type": "stream",
     "text": [
      "중심점의 좌표는 (3.3, 3.95) 입니다.\n",
      "두 점 사이의 거리는 4.0853396431631 입니다.\n"
     ]
    }
   ],
   "source": [
    "import math\n",
    "\n",
    "x1 = 5.2\n",
    "y1 = 4.7\n",
    "x2 = 1.4\n",
    "y2 = 3.2\n",
    "\n",
    "xmid = (x1 + x2) / 2\n",
    "ymid = (y1 + y2) / 2\n",
    "print(f\"중심점의 좌표는 ({xmid}, {ymid}) 입니다.\")\n",
    "\n",
    "dist = (x2 - x1) ** 2 + (y2 - y1) ** 2\n",
    "dista = math.sqrt(dist)\n",
    "\n",
    "print(f\"두 점 사이의 거리는 {dista} 입니다.\")"
   ]
  }
 ],
 "metadata": {
  "kernelspec": {
   "display_name": "Python 3 (ipykernel)",
   "language": "python",
   "name": "python3"
  },
  "language_info": {
   "codemirror_mode": {
    "name": "ipython",
    "version": 3
   },
   "file_extension": ".py",
   "mimetype": "text/x-python",
   "name": "python",
   "nbconvert_exporter": "python",
   "pygments_lexer": "ipython3",
   "version": "3.9.7"
  }
 },
 "nbformat": 4,
 "nbformat_minor": 5
}
