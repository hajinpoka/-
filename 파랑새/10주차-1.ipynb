{
 "cells": [
  {
   "cell_type": "code",
   "execution_count": 1,
   "id": "0ca48c41",
   "metadata": {},
   "outputs": [],
   "source": [
    "import pandas as pd\n",
    "import numpy as np"
   ]
  },
  {
   "cell_type": "code",
   "execution_count": 2,
   "id": "67bf3311",
   "metadata": {},
   "outputs": [],
   "source": [
    "s = s = pd.Series([1,2,6,7,np.nan,9,10,11]) #리스트 형태의 값들로 Series를 생성"
   ]
  },
  {
   "cell_type": "code",
   "execution_count": 3,
   "id": "1e1c309c",
   "metadata": {},
   "outputs": [
    {
     "data": {
      "text/plain": [
       "0     1.0\n",
       "1     2.0\n",
       "2     6.0\n",
       "3     7.0\n",
       "4     NaN\n",
       "5     9.0\n",
       "6    10.0\n",
       "7    11.0\n",
       "dtype: float64"
      ]
     },
     "execution_count": 3,
     "metadata": {},
     "output_type": "execute_result"
    }
   ],
   "source": [
    "s"
   ]
  },
  {
   "cell_type": "code",
   "execution_count": 4,
   "id": "59d909c0",
   "metadata": {},
   "outputs": [],
   "source": [
    "dates = pd.date_range('20130101', periods=6) # numpy 배열로 부터 dataframe 을 생성"
   ]
  },
  {
   "cell_type": "code",
   "execution_count": 5,
   "id": "d653b976",
   "metadata": {},
   "outputs": [
    {
     "data": {
      "text/plain": [
       "DatetimeIndex(['2013-01-01', '2013-01-02', '2013-01-03', '2013-01-04',\n",
       "               '2013-01-05', '2013-01-06'],\n",
       "              dtype='datetime64[ns]', freq='D')"
      ]
     },
     "execution_count": 5,
     "metadata": {},
     "output_type": "execute_result"
    }
   ],
   "source": [
    "dates"
   ]
  },
  {
   "cell_type": "code",
   "execution_count": 6,
   "id": "b17fba0a",
   "metadata": {},
   "outputs": [],
   "source": [
    "df = pd.DataFrame(np.random.randn(6,4), index=dates, columns=list('ABCD'))"
   ]
  },
  {
   "cell_type": "code",
   "execution_count": 7,
   "id": "d7782184",
   "metadata": {},
   "outputs": [
    {
     "data": {
      "text/html": [
       "<div>\n",
       "<style scoped>\n",
       "    .dataframe tbody tr th:only-of-type {\n",
       "        vertical-align: middle;\n",
       "    }\n",
       "\n",
       "    .dataframe tbody tr th {\n",
       "        vertical-align: top;\n",
       "    }\n",
       "\n",
       "    .dataframe thead th {\n",
       "        text-align: right;\n",
       "    }\n",
       "</style>\n",
       "<table border=\"1\" class=\"dataframe\">\n",
       "  <thead>\n",
       "    <tr style=\"text-align: right;\">\n",
       "      <th></th>\n",
       "      <th>A</th>\n",
       "      <th>B</th>\n",
       "      <th>C</th>\n",
       "      <th>D</th>\n",
       "    </tr>\n",
       "  </thead>\n",
       "  <tbody>\n",
       "    <tr>\n",
       "      <th>2013-01-01</th>\n",
       "      <td>-0.877260</td>\n",
       "      <td>0.824536</td>\n",
       "      <td>-0.484570</td>\n",
       "      <td>-0.583992</td>\n",
       "    </tr>\n",
       "    <tr>\n",
       "      <th>2013-01-02</th>\n",
       "      <td>-2.028032</td>\n",
       "      <td>-0.343961</td>\n",
       "      <td>0.153556</td>\n",
       "      <td>0.242912</td>\n",
       "    </tr>\n",
       "    <tr>\n",
       "      <th>2013-01-03</th>\n",
       "      <td>-1.050082</td>\n",
       "      <td>-1.281609</td>\n",
       "      <td>-0.415629</td>\n",
       "      <td>-0.140809</td>\n",
       "    </tr>\n",
       "    <tr>\n",
       "      <th>2013-01-04</th>\n",
       "      <td>-0.278468</td>\n",
       "      <td>0.621267</td>\n",
       "      <td>-0.062605</td>\n",
       "      <td>-0.622226</td>\n",
       "    </tr>\n",
       "    <tr>\n",
       "      <th>2013-01-05</th>\n",
       "      <td>0.045598</td>\n",
       "      <td>-0.691996</td>\n",
       "      <td>-0.566960</td>\n",
       "      <td>0.624947</td>\n",
       "    </tr>\n",
       "    <tr>\n",
       "      <th>2013-01-06</th>\n",
       "      <td>1.446088</td>\n",
       "      <td>-0.634451</td>\n",
       "      <td>-1.037672</td>\n",
       "      <td>-0.151491</td>\n",
       "    </tr>\n",
       "  </tbody>\n",
       "</table>\n",
       "</div>"
      ],
      "text/plain": [
       "                   A         B         C         D\n",
       "2013-01-01 -0.877260  0.824536 -0.484570 -0.583992\n",
       "2013-01-02 -2.028032 -0.343961  0.153556  0.242912\n",
       "2013-01-03 -1.050082 -1.281609 -0.415629 -0.140809\n",
       "2013-01-04 -0.278468  0.621267 -0.062605 -0.622226\n",
       "2013-01-05  0.045598 -0.691996 -0.566960  0.624947\n",
       "2013-01-06  1.446088 -0.634451 -1.037672 -0.151491"
      ]
     },
     "execution_count": 7,
     "metadata": {},
     "output_type": "execute_result"
    }
   ],
   "source": [
    "df # index 값을 날짜로 사용, 열 이름 A,B,C,D"
   ]
  },
  {
   "cell_type": "code",
   "execution_count": 10,
   "id": "33bb3f57",
   "metadata": {},
   "outputs": [],
   "source": [
    "df2 = pd.DataFrame({'A': 1.,\n",
    "                    'B': pd.Timestamp('20130102'),\n",
    "                    'C': pd.Series(1, index=list(range(4)), dtype='float32'),\n",
    "                    'D': np.array([3]*4, dtype='int32'),\n",
    "                    'E': pd.Categorical([\"test\", \"train\", \"test\", \"train\"]),\n",
    "                    'F': 'foo'})"
   ]
  },
  {
   "cell_type": "code",
   "execution_count": 11,
   "id": "eaa96b75",
   "metadata": {},
   "outputs": [
    {
     "data": {
      "text/html": [
       "<div>\n",
       "<style scoped>\n",
       "    .dataframe tbody tr th:only-of-type {\n",
       "        vertical-align: middle;\n",
       "    }\n",
       "\n",
       "    .dataframe tbody tr th {\n",
       "        vertical-align: top;\n",
       "    }\n",
       "\n",
       "    .dataframe thead th {\n",
       "        text-align: right;\n",
       "    }\n",
       "</style>\n",
       "<table border=\"1\" class=\"dataframe\">\n",
       "  <thead>\n",
       "    <tr style=\"text-align: right;\">\n",
       "      <th></th>\n",
       "      <th>A</th>\n",
       "      <th>B</th>\n",
       "      <th>C</th>\n",
       "      <th>D</th>\n",
       "      <th>E</th>\n",
       "      <th>F</th>\n",
       "    </tr>\n",
       "  </thead>\n",
       "  <tbody>\n",
       "    <tr>\n",
       "      <th>0</th>\n",
       "      <td>1.0</td>\n",
       "      <td>2013-01-02</td>\n",
       "      <td>1.0</td>\n",
       "      <td>3</td>\n",
       "      <td>test</td>\n",
       "      <td>foo</td>\n",
       "    </tr>\n",
       "    <tr>\n",
       "      <th>1</th>\n",
       "      <td>1.0</td>\n",
       "      <td>2013-01-02</td>\n",
       "      <td>1.0</td>\n",
       "      <td>3</td>\n",
       "      <td>train</td>\n",
       "      <td>foo</td>\n",
       "    </tr>\n",
       "    <tr>\n",
       "      <th>2</th>\n",
       "      <td>1.0</td>\n",
       "      <td>2013-01-02</td>\n",
       "      <td>1.0</td>\n",
       "      <td>3</td>\n",
       "      <td>test</td>\n",
       "      <td>foo</td>\n",
       "    </tr>\n",
       "    <tr>\n",
       "      <th>3</th>\n",
       "      <td>1.0</td>\n",
       "      <td>2013-01-02</td>\n",
       "      <td>1.0</td>\n",
       "      <td>3</td>\n",
       "      <td>train</td>\n",
       "      <td>foo</td>\n",
       "    </tr>\n",
       "  </tbody>\n",
       "</table>\n",
       "</div>"
      ],
      "text/plain": [
       "     A          B    C  D      E    F\n",
       "0  1.0 2013-01-02  1.0  3   test  foo\n",
       "1  1.0 2013-01-02  1.0  3  train  foo\n",
       "2  1.0 2013-01-02  1.0  3   test  foo\n",
       "3  1.0 2013-01-02  1.0  3  train  foo"
      ]
     },
     "execution_count": 11,
     "metadata": {},
     "output_type": "execute_result"
    }
   ],
   "source": [
    "df2"
   ]
  },
  {
   "cell_type": "code",
   "execution_count": 12,
   "id": "72e35ae4",
   "metadata": {},
   "outputs": [
    {
     "data": {
      "text/plain": [
       "A           float64\n",
       "B    datetime64[ns]\n",
       "C           float32\n",
       "D             int32\n",
       "E          category\n",
       "F            object\n",
       "dtype: object"
      ]
     },
     "execution_count": 12,
     "metadata": {},
     "output_type": "execute_result"
    }
   ],
   "source": [
    "df2.dtypes # 각 열은 각각 다른 타입의 데이터를 가지고있음"
   ]
  },
  {
   "cell_type": "code",
   "execution_count": 13,
   "id": "9ebac2b5",
   "metadata": {},
   "outputs": [
    {
     "data": {
      "text/html": [
       "<div>\n",
       "<style scoped>\n",
       "    .dataframe tbody tr th:only-of-type {\n",
       "        vertical-align: middle;\n",
       "    }\n",
       "\n",
       "    .dataframe tbody tr th {\n",
       "        vertical-align: top;\n",
       "    }\n",
       "\n",
       "    .dataframe thead th {\n",
       "        text-align: right;\n",
       "    }\n",
       "</style>\n",
       "<table border=\"1\" class=\"dataframe\">\n",
       "  <thead>\n",
       "    <tr style=\"text-align: right;\">\n",
       "      <th></th>\n",
       "      <th>A</th>\n",
       "      <th>B</th>\n",
       "      <th>C</th>\n",
       "      <th>D</th>\n",
       "    </tr>\n",
       "  </thead>\n",
       "  <tbody>\n",
       "    <tr>\n",
       "      <th>2013-01-01</th>\n",
       "      <td>-0.877260</td>\n",
       "      <td>0.824536</td>\n",
       "      <td>-0.484570</td>\n",
       "      <td>-0.583992</td>\n",
       "    </tr>\n",
       "    <tr>\n",
       "      <th>2013-01-02</th>\n",
       "      <td>-2.028032</td>\n",
       "      <td>-0.343961</td>\n",
       "      <td>0.153556</td>\n",
       "      <td>0.242912</td>\n",
       "    </tr>\n",
       "    <tr>\n",
       "      <th>2013-01-03</th>\n",
       "      <td>-1.050082</td>\n",
       "      <td>-1.281609</td>\n",
       "      <td>-0.415629</td>\n",
       "      <td>-0.140809</td>\n",
       "    </tr>\n",
       "    <tr>\n",
       "      <th>2013-01-04</th>\n",
       "      <td>-0.278468</td>\n",
       "      <td>0.621267</td>\n",
       "      <td>-0.062605</td>\n",
       "      <td>-0.622226</td>\n",
       "    </tr>\n",
       "    <tr>\n",
       "      <th>2013-01-05</th>\n",
       "      <td>0.045598</td>\n",
       "      <td>-0.691996</td>\n",
       "      <td>-0.566960</td>\n",
       "      <td>0.624947</td>\n",
       "    </tr>\n",
       "  </tbody>\n",
       "</table>\n",
       "</div>"
      ],
      "text/plain": [
       "                   A         B         C         D\n",
       "2013-01-01 -0.877260  0.824536 -0.484570 -0.583992\n",
       "2013-01-02 -2.028032 -0.343961  0.153556  0.242912\n",
       "2013-01-03 -1.050082 -1.281609 -0.415629 -0.140809\n",
       "2013-01-04 -0.278468  0.621267 -0.062605 -0.622226\n",
       "2013-01-05  0.045598 -0.691996 -0.566960  0.624947"
      ]
     },
     "execution_count": 13,
     "metadata": {},
     "output_type": "execute_result"
    }
   ],
   "source": [
    "df.head() # 괄호안의 숫자만큼의 시작 줄을 df에서 보여준다. 기본값 : 5"
   ]
  },
  {
   "cell_type": "code",
   "execution_count": 14,
   "id": "7ee5cfd0",
   "metadata": {},
   "outputs": [
    {
     "data": {
      "text/html": [
       "<div>\n",
       "<style scoped>\n",
       "    .dataframe tbody tr th:only-of-type {\n",
       "        vertical-align: middle;\n",
       "    }\n",
       "\n",
       "    .dataframe tbody tr th {\n",
       "        vertical-align: top;\n",
       "    }\n",
       "\n",
       "    .dataframe thead th {\n",
       "        text-align: right;\n",
       "    }\n",
       "</style>\n",
       "<table border=\"1\" class=\"dataframe\">\n",
       "  <thead>\n",
       "    <tr style=\"text-align: right;\">\n",
       "      <th></th>\n",
       "      <th>A</th>\n",
       "      <th>B</th>\n",
       "      <th>C</th>\n",
       "      <th>D</th>\n",
       "    </tr>\n",
       "  </thead>\n",
       "  <tbody>\n",
       "    <tr>\n",
       "      <th>2013-01-04</th>\n",
       "      <td>-0.278468</td>\n",
       "      <td>0.621267</td>\n",
       "      <td>-0.062605</td>\n",
       "      <td>-0.622226</td>\n",
       "    </tr>\n",
       "    <tr>\n",
       "      <th>2013-01-05</th>\n",
       "      <td>0.045598</td>\n",
       "      <td>-0.691996</td>\n",
       "      <td>-0.566960</td>\n",
       "      <td>0.624947</td>\n",
       "    </tr>\n",
       "    <tr>\n",
       "      <th>2013-01-06</th>\n",
       "      <td>1.446088</td>\n",
       "      <td>-0.634451</td>\n",
       "      <td>-1.037672</td>\n",
       "      <td>-0.151491</td>\n",
       "    </tr>\n",
       "  </tbody>\n",
       "</table>\n",
       "</div>"
      ],
      "text/plain": [
       "                   A         B         C         D\n",
       "2013-01-04 -0.278468  0.621267 -0.062605 -0.622226\n",
       "2013-01-05  0.045598 -0.691996 -0.566960  0.624947\n",
       "2013-01-06  1.446088 -0.634451 -1.037672 -0.151491"
      ]
     },
     "execution_count": 14,
     "metadata": {},
     "output_type": "execute_result"
    }
   ],
   "source": [
    "df.tail(3) # 괄호안의 숫자만큼의 마지막 줄을 df에서 보여준다. 기본값 : 5"
   ]
  },
  {
   "cell_type": "code",
   "execution_count": 15,
   "id": "7b075e3e",
   "metadata": {},
   "outputs": [
    {
     "data": {
      "text/plain": [
       "DatetimeIndex(['2013-01-01', '2013-01-02', '2013-01-03', '2013-01-04',\n",
       "               '2013-01-05', '2013-01-06'],\n",
       "              dtype='datetime64[ns]', freq='D')"
      ]
     },
     "execution_count": 15,
     "metadata": {},
     "output_type": "execute_result"
    }
   ],
   "source": [
    "df.index # 인덱스 값"
   ]
  },
  {
   "cell_type": "code",
   "execution_count": 16,
   "id": "372ce9b0",
   "metadata": {},
   "outputs": [
    {
     "data": {
      "text/plain": [
       "Index(['A', 'B', 'C', 'D'], dtype='object')"
      ]
     },
     "execution_count": 16,
     "metadata": {},
     "output_type": "execute_result"
    }
   ],
   "source": [
    "df.columns # 열 값"
   ]
  },
  {
   "cell_type": "code",
   "execution_count": 19,
   "id": "de06f64e",
   "metadata": {},
   "outputs": [],
   "source": [
    "# numpy 형태로 보기"
   ]
  },
  {
   "cell_type": "code",
   "execution_count": 20,
   "id": "14add556",
   "metadata": {},
   "outputs": [
    {
     "data": {
      "text/plain": [
       "array([[-0.87725977,  0.82453602, -0.48456986, -0.58399193],\n",
       "       [-2.0280315 , -0.34396118,  0.15355642,  0.24291209],\n",
       "       [-1.05008213, -1.28160928, -0.41562887, -0.14080877],\n",
       "       [-0.27846766,  0.62126689, -0.06260462, -0.62222583],\n",
       "       [ 0.04559795, -0.69199638, -0.56695981,  0.62494672],\n",
       "       [ 1.44608813, -0.63445068, -1.03767167, -0.15149126]])"
      ]
     },
     "execution_count": 20,
     "metadata": {},
     "output_type": "execute_result"
    }
   ],
   "source": [
    "df.to_numpy()"
   ]
  },
  {
   "cell_type": "code",
   "execution_count": 18,
   "id": "032de089",
   "metadata": {},
   "outputs": [
    {
     "data": {
      "text/plain": [
       "array([[1.0, Timestamp('2013-01-02 00:00:00'), 1.0, 3, 'test', 'foo'],\n",
       "       [1.0, Timestamp('2013-01-02 00:00:00'), 1.0, 3, 'train', 'foo'],\n",
       "       [1.0, Timestamp('2013-01-02 00:00:00'), 1.0, 3, 'test', 'foo'],\n",
       "       [1.0, Timestamp('2013-01-02 00:00:00'), 1.0, 3, 'train', 'foo']],\n",
       "      dtype=object)"
      ]
     },
     "execution_count": 18,
     "metadata": {},
     "output_type": "execute_result"
    }
   ],
   "source": [
    "df2.to_numpy()"
   ]
  },
  {
   "cell_type": "code",
   "execution_count": 21,
   "id": "3d091146",
   "metadata": {},
   "outputs": [],
   "source": [
    "# df2 각 컬럼의 데이터 타입이 다를 경우 시간이나 리소스를 많이 소모할 수 있다. 왜냐하면, Pandas는 각 열별로 다른 타입을 가질 수 있는 반면에 \u000b",
    "NumPy는 배열 전체가 하나의 타입을 가져야 하기 때문이다."
   ]
  },
  {
   "cell_type": "code",
   "execution_count": 22,
   "id": "dec475ec",
   "metadata": {},
   "outputs": [
    {
     "data": {
      "text/html": [
       "<div>\n",
       "<style scoped>\n",
       "    .dataframe tbody tr th:only-of-type {\n",
       "        vertical-align: middle;\n",
       "    }\n",
       "\n",
       "    .dataframe tbody tr th {\n",
       "        vertical-align: top;\n",
       "    }\n",
       "\n",
       "    .dataframe thead th {\n",
       "        text-align: right;\n",
       "    }\n",
       "</style>\n",
       "<table border=\"1\" class=\"dataframe\">\n",
       "  <thead>\n",
       "    <tr style=\"text-align: right;\">\n",
       "      <th></th>\n",
       "      <th>A</th>\n",
       "      <th>B</th>\n",
       "      <th>C</th>\n",
       "      <th>D</th>\n",
       "    </tr>\n",
       "  </thead>\n",
       "  <tbody>\n",
       "    <tr>\n",
       "      <th>count</th>\n",
       "      <td>6.000000</td>\n",
       "      <td>6.000000</td>\n",
       "      <td>6.000000</td>\n",
       "      <td>6.000000</td>\n",
       "    </tr>\n",
       "    <tr>\n",
       "      <th>mean</th>\n",
       "      <td>-0.457026</td>\n",
       "      <td>-0.251036</td>\n",
       "      <td>-0.402313</td>\n",
       "      <td>-0.105110</td>\n",
       "    </tr>\n",
       "    <tr>\n",
       "      <th>std</th>\n",
       "      <td>1.174966</td>\n",
       "      <td>0.816080</td>\n",
       "      <td>0.415241</td>\n",
       "      <td>0.480472</td>\n",
       "    </tr>\n",
       "    <tr>\n",
       "      <th>min</th>\n",
       "      <td>-2.028032</td>\n",
       "      <td>-1.281609</td>\n",
       "      <td>-1.037672</td>\n",
       "      <td>-0.622226</td>\n",
       "    </tr>\n",
       "    <tr>\n",
       "      <th>25%</th>\n",
       "      <td>-1.006877</td>\n",
       "      <td>-0.677610</td>\n",
       "      <td>-0.546362</td>\n",
       "      <td>-0.475867</td>\n",
       "    </tr>\n",
       "    <tr>\n",
       "      <th>50%</th>\n",
       "      <td>-0.577864</td>\n",
       "      <td>-0.489206</td>\n",
       "      <td>-0.450099</td>\n",
       "      <td>-0.146150</td>\n",
       "    </tr>\n",
       "    <tr>\n",
       "      <th>75%</th>\n",
       "      <td>-0.035418</td>\n",
       "      <td>0.379960</td>\n",
       "      <td>-0.150861</td>\n",
       "      <td>0.146982</td>\n",
       "    </tr>\n",
       "    <tr>\n",
       "      <th>max</th>\n",
       "      <td>1.446088</td>\n",
       "      <td>0.824536</td>\n",
       "      <td>0.153556</td>\n",
       "      <td>0.624947</td>\n",
       "    </tr>\n",
       "  </tbody>\n",
       "</table>\n",
       "</div>"
      ],
      "text/plain": [
       "              A         B         C         D\n",
       "count  6.000000  6.000000  6.000000  6.000000\n",
       "mean  -0.457026 -0.251036 -0.402313 -0.105110\n",
       "std    1.174966  0.816080  0.415241  0.480472\n",
       "min   -2.028032 -1.281609 -1.037672 -0.622226\n",
       "25%   -1.006877 -0.677610 -0.546362 -0.475867\n",
       "50%   -0.577864 -0.489206 -0.450099 -0.146150\n",
       "75%   -0.035418  0.379960 -0.150861  0.146982\n",
       "max    1.446088  0.824536  0.153556  0.624947"
      ]
     },
     "execution_count": 22,
     "metadata": {},
     "output_type": "execute_result"
    }
   ],
   "source": [
    "df.describe() # 간단한 통계 정보"
   ]
  },
  {
   "cell_type": "code",
   "execution_count": 23,
   "id": "30e389b7",
   "metadata": {},
   "outputs": [
    {
     "data": {
      "text/html": [
       "<div>\n",
       "<style scoped>\n",
       "    .dataframe tbody tr th:only-of-type {\n",
       "        vertical-align: middle;\n",
       "    }\n",
       "\n",
       "    .dataframe tbody tr th {\n",
       "        vertical-align: top;\n",
       "    }\n",
       "\n",
       "    .dataframe thead th {\n",
       "        text-align: right;\n",
       "    }\n",
       "</style>\n",
       "<table border=\"1\" class=\"dataframe\">\n",
       "  <thead>\n",
       "    <tr style=\"text-align: right;\">\n",
       "      <th></th>\n",
       "      <th>2013-01-01</th>\n",
       "      <th>2013-01-02</th>\n",
       "      <th>2013-01-03</th>\n",
       "      <th>2013-01-04</th>\n",
       "      <th>2013-01-05</th>\n",
       "      <th>2013-01-06</th>\n",
       "    </tr>\n",
       "  </thead>\n",
       "  <tbody>\n",
       "    <tr>\n",
       "      <th>A</th>\n",
       "      <td>-0.877260</td>\n",
       "      <td>-2.028032</td>\n",
       "      <td>-1.050082</td>\n",
       "      <td>-0.278468</td>\n",
       "      <td>0.045598</td>\n",
       "      <td>1.446088</td>\n",
       "    </tr>\n",
       "    <tr>\n",
       "      <th>B</th>\n",
       "      <td>0.824536</td>\n",
       "      <td>-0.343961</td>\n",
       "      <td>-1.281609</td>\n",
       "      <td>0.621267</td>\n",
       "      <td>-0.691996</td>\n",
       "      <td>-0.634451</td>\n",
       "    </tr>\n",
       "    <tr>\n",
       "      <th>C</th>\n",
       "      <td>-0.484570</td>\n",
       "      <td>0.153556</td>\n",
       "      <td>-0.415629</td>\n",
       "      <td>-0.062605</td>\n",
       "      <td>-0.566960</td>\n",
       "      <td>-1.037672</td>\n",
       "    </tr>\n",
       "    <tr>\n",
       "      <th>D</th>\n",
       "      <td>-0.583992</td>\n",
       "      <td>0.242912</td>\n",
       "      <td>-0.140809</td>\n",
       "      <td>-0.622226</td>\n",
       "      <td>0.624947</td>\n",
       "      <td>-0.151491</td>\n",
       "    </tr>\n",
       "  </tbody>\n",
       "</table>\n",
       "</div>"
      ],
      "text/plain": [
       "   2013-01-01  2013-01-02  2013-01-03  2013-01-04  2013-01-05  2013-01-06\n",
       "A   -0.877260   -2.028032   -1.050082   -0.278468    0.045598    1.446088\n",
       "B    0.824536   -0.343961   -1.281609    0.621267   -0.691996   -0.634451\n",
       "C   -0.484570    0.153556   -0.415629   -0.062605   -0.566960   -1.037672\n",
       "D   -0.583992    0.242912   -0.140809   -0.622226    0.624947   -0.151491"
      ]
     },
     "execution_count": 23,
     "metadata": {},
     "output_type": "execute_result"
    }
   ],
   "source": [
    "df.T # 전치행렬"
   ]
  },
  {
   "cell_type": "code",
   "execution_count": 25,
   "id": "fbb47b0b",
   "metadata": {},
   "outputs": [],
   "source": [
    "# axis = 0 (index 정렬, 기본값)\n",
    "# axis = 1 (열 정렬)\n",
    "# ascending = True (오름차순, 기본값)\n",
    "# ascending = False (내림차순)"
   ]
  },
  {
   "cell_type": "code",
   "execution_count": 26,
   "id": "98fc4efa",
   "metadata": {},
   "outputs": [
    {
     "data": {
      "text/html": [
       "<div>\n",
       "<style scoped>\n",
       "    .dataframe tbody tr th:only-of-type {\n",
       "        vertical-align: middle;\n",
       "    }\n",
       "\n",
       "    .dataframe tbody tr th {\n",
       "        vertical-align: top;\n",
       "    }\n",
       "\n",
       "    .dataframe thead th {\n",
       "        text-align: right;\n",
       "    }\n",
       "</style>\n",
       "<table border=\"1\" class=\"dataframe\">\n",
       "  <thead>\n",
       "    <tr style=\"text-align: right;\">\n",
       "      <th></th>\n",
       "      <th>D</th>\n",
       "      <th>C</th>\n",
       "      <th>B</th>\n",
       "      <th>A</th>\n",
       "    </tr>\n",
       "  </thead>\n",
       "  <tbody>\n",
       "    <tr>\n",
       "      <th>2013-01-01</th>\n",
       "      <td>-0.583992</td>\n",
       "      <td>-0.484570</td>\n",
       "      <td>0.824536</td>\n",
       "      <td>-0.877260</td>\n",
       "    </tr>\n",
       "    <tr>\n",
       "      <th>2013-01-02</th>\n",
       "      <td>0.242912</td>\n",
       "      <td>0.153556</td>\n",
       "      <td>-0.343961</td>\n",
       "      <td>-2.028032</td>\n",
       "    </tr>\n",
       "    <tr>\n",
       "      <th>2013-01-03</th>\n",
       "      <td>-0.140809</td>\n",
       "      <td>-0.415629</td>\n",
       "      <td>-1.281609</td>\n",
       "      <td>-1.050082</td>\n",
       "    </tr>\n",
       "    <tr>\n",
       "      <th>2013-01-04</th>\n",
       "      <td>-0.622226</td>\n",
       "      <td>-0.062605</td>\n",
       "      <td>0.621267</td>\n",
       "      <td>-0.278468</td>\n",
       "    </tr>\n",
       "    <tr>\n",
       "      <th>2013-01-05</th>\n",
       "      <td>0.624947</td>\n",
       "      <td>-0.566960</td>\n",
       "      <td>-0.691996</td>\n",
       "      <td>0.045598</td>\n",
       "    </tr>\n",
       "    <tr>\n",
       "      <th>2013-01-06</th>\n",
       "      <td>-0.151491</td>\n",
       "      <td>-1.037672</td>\n",
       "      <td>-0.634451</td>\n",
       "      <td>1.446088</td>\n",
       "    </tr>\n",
       "  </tbody>\n",
       "</table>\n",
       "</div>"
      ],
      "text/plain": [
       "                   D         C         B         A\n",
       "2013-01-01 -0.583992 -0.484570  0.824536 -0.877260\n",
       "2013-01-02  0.242912  0.153556 -0.343961 -2.028032\n",
       "2013-01-03 -0.140809 -0.415629 -1.281609 -1.050082\n",
       "2013-01-04 -0.622226 -0.062605  0.621267 -0.278468\n",
       "2013-01-05  0.624947 -0.566960 -0.691996  0.045598\n",
       "2013-01-06 -0.151491 -1.037672 -0.634451  1.446088"
      ]
     },
     "execution_count": 26,
     "metadata": {},
     "output_type": "execute_result"
    }
   ],
   "source": [
    "df.sort_index(axis=1, ascending=False)"
   ]
  },
  {
   "cell_type": "code",
   "execution_count": 27,
   "id": "d11fb57f",
   "metadata": {},
   "outputs": [
    {
     "data": {
      "text/html": [
       "<div>\n",
       "<style scoped>\n",
       "    .dataframe tbody tr th:only-of-type {\n",
       "        vertical-align: middle;\n",
       "    }\n",
       "\n",
       "    .dataframe tbody tr th {\n",
       "        vertical-align: top;\n",
       "    }\n",
       "\n",
       "    .dataframe thead th {\n",
       "        text-align: right;\n",
       "    }\n",
       "</style>\n",
       "<table border=\"1\" class=\"dataframe\">\n",
       "  <thead>\n",
       "    <tr style=\"text-align: right;\">\n",
       "      <th></th>\n",
       "      <th>A</th>\n",
       "      <th>B</th>\n",
       "      <th>C</th>\n",
       "      <th>D</th>\n",
       "    </tr>\n",
       "  </thead>\n",
       "  <tbody>\n",
       "    <tr>\n",
       "      <th>2013-01-03</th>\n",
       "      <td>-1.050082</td>\n",
       "      <td>-1.281609</td>\n",
       "      <td>-0.415629</td>\n",
       "      <td>-0.140809</td>\n",
       "    </tr>\n",
       "    <tr>\n",
       "      <th>2013-01-05</th>\n",
       "      <td>0.045598</td>\n",
       "      <td>-0.691996</td>\n",
       "      <td>-0.566960</td>\n",
       "      <td>0.624947</td>\n",
       "    </tr>\n",
       "    <tr>\n",
       "      <th>2013-01-06</th>\n",
       "      <td>1.446088</td>\n",
       "      <td>-0.634451</td>\n",
       "      <td>-1.037672</td>\n",
       "      <td>-0.151491</td>\n",
       "    </tr>\n",
       "    <tr>\n",
       "      <th>2013-01-02</th>\n",
       "      <td>-2.028032</td>\n",
       "      <td>-0.343961</td>\n",
       "      <td>0.153556</td>\n",
       "      <td>0.242912</td>\n",
       "    </tr>\n",
       "    <tr>\n",
       "      <th>2013-01-04</th>\n",
       "      <td>-0.278468</td>\n",
       "      <td>0.621267</td>\n",
       "      <td>-0.062605</td>\n",
       "      <td>-0.622226</td>\n",
       "    </tr>\n",
       "    <tr>\n",
       "      <th>2013-01-01</th>\n",
       "      <td>-0.877260</td>\n",
       "      <td>0.824536</td>\n",
       "      <td>-0.484570</td>\n",
       "      <td>-0.583992</td>\n",
       "    </tr>\n",
       "  </tbody>\n",
       "</table>\n",
       "</div>"
      ],
      "text/plain": [
       "                   A         B         C         D\n",
       "2013-01-03 -1.050082 -1.281609 -0.415629 -0.140809\n",
       "2013-01-05  0.045598 -0.691996 -0.566960  0.624947\n",
       "2013-01-06  1.446088 -0.634451 -1.037672 -0.151491\n",
       "2013-01-02 -2.028032 -0.343961  0.153556  0.242912\n",
       "2013-01-04 -0.278468  0.621267 -0.062605 -0.622226\n",
       "2013-01-01 -0.877260  0.824536 -0.484570 -0.583992"
      ]
     },
     "execution_count": 27,
     "metadata": {},
     "output_type": "execute_result"
    }
   ],
   "source": [
    "df.sort_values(by='B')"
   ]
  },
  {
   "cell_type": "code",
   "execution_count": 28,
   "id": "06d98f29",
   "metadata": {},
   "outputs": [
    {
     "data": {
      "text/plain": [
       "2013-01-01   -0.877260\n",
       "2013-01-02   -2.028032\n",
       "2013-01-03   -1.050082\n",
       "2013-01-04   -0.278468\n",
       "2013-01-05    0.045598\n",
       "2013-01-06    1.446088\n",
       "Freq: D, Name: A, dtype: float64"
      ]
     },
     "execution_count": 28,
     "metadata": {},
     "output_type": "execute_result"
    }
   ],
   "source": [
    "df['A'] # 한 개의 열 선택"
   ]
  },
  {
   "cell_type": "code",
   "execution_count": 29,
   "id": "38ce6d4f",
   "metadata": {},
   "outputs": [
    {
     "data": {
      "text/html": [
       "<div>\n",
       "<style scoped>\n",
       "    .dataframe tbody tr th:only-of-type {\n",
       "        vertical-align: middle;\n",
       "    }\n",
       "\n",
       "    .dataframe tbody tr th {\n",
       "        vertical-align: top;\n",
       "    }\n",
       "\n",
       "    .dataframe thead th {\n",
       "        text-align: right;\n",
       "    }\n",
       "</style>\n",
       "<table border=\"1\" class=\"dataframe\">\n",
       "  <thead>\n",
       "    <tr style=\"text-align: right;\">\n",
       "      <th></th>\n",
       "      <th>A</th>\n",
       "      <th>B</th>\n",
       "      <th>C</th>\n",
       "      <th>D</th>\n",
       "    </tr>\n",
       "  </thead>\n",
       "  <tbody>\n",
       "    <tr>\n",
       "      <th>2013-01-01</th>\n",
       "      <td>-0.877260</td>\n",
       "      <td>0.824536</td>\n",
       "      <td>-0.484570</td>\n",
       "      <td>-0.583992</td>\n",
       "    </tr>\n",
       "    <tr>\n",
       "      <th>2013-01-02</th>\n",
       "      <td>-2.028032</td>\n",
       "      <td>-0.343961</td>\n",
       "      <td>0.153556</td>\n",
       "      <td>0.242912</td>\n",
       "    </tr>\n",
       "    <tr>\n",
       "      <th>2013-01-03</th>\n",
       "      <td>-1.050082</td>\n",
       "      <td>-1.281609</td>\n",
       "      <td>-0.415629</td>\n",
       "      <td>-0.140809</td>\n",
       "    </tr>\n",
       "  </tbody>\n",
       "</table>\n",
       "</div>"
      ],
      "text/plain": [
       "                   A         B         C         D\n",
       "2013-01-01 -0.877260  0.824536 -0.484570 -0.583992\n",
       "2013-01-02 -2.028032 -0.343961  0.153556  0.242912\n",
       "2013-01-03 -1.050082 -1.281609 -0.415629 -0.140809"
      ]
     },
     "execution_count": 29,
     "metadata": {},
     "output_type": "execute_result"
    }
   ],
   "source": [
    "df[0:3] # 행 분할 선택 (slicing)"
   ]
  },
  {
   "cell_type": "code",
   "execution_count": 31,
   "id": "c1b37518",
   "metadata": {},
   "outputs": [
    {
     "data": {
      "text/html": [
       "<div>\n",
       "<style scoped>\n",
       "    .dataframe tbody tr th:only-of-type {\n",
       "        vertical-align: middle;\n",
       "    }\n",
       "\n",
       "    .dataframe tbody tr th {\n",
       "        vertical-align: top;\n",
       "    }\n",
       "\n",
       "    .dataframe thead th {\n",
       "        text-align: right;\n",
       "    }\n",
       "</style>\n",
       "<table border=\"1\" class=\"dataframe\">\n",
       "  <thead>\n",
       "    <tr style=\"text-align: right;\">\n",
       "      <th></th>\n",
       "      <th>A</th>\n",
       "      <th>B</th>\n",
       "      <th>C</th>\n",
       "      <th>D</th>\n",
       "    </tr>\n",
       "  </thead>\n",
       "  <tbody>\n",
       "    <tr>\n",
       "      <th>2013-01-02</th>\n",
       "      <td>-2.028032</td>\n",
       "      <td>-0.343961</td>\n",
       "      <td>0.153556</td>\n",
       "      <td>0.242912</td>\n",
       "    </tr>\n",
       "    <tr>\n",
       "      <th>2013-01-03</th>\n",
       "      <td>-1.050082</td>\n",
       "      <td>-1.281609</td>\n",
       "      <td>-0.415629</td>\n",
       "      <td>-0.140809</td>\n",
       "    </tr>\n",
       "    <tr>\n",
       "      <th>2013-01-04</th>\n",
       "      <td>-0.278468</td>\n",
       "      <td>0.621267</td>\n",
       "      <td>-0.062605</td>\n",
       "      <td>-0.622226</td>\n",
       "    </tr>\n",
       "  </tbody>\n",
       "</table>\n",
       "</div>"
      ],
      "text/plain": [
       "                   A         B         C         D\n",
       "2013-01-02 -2.028032 -0.343961  0.153556  0.242912\n",
       "2013-01-03 -1.050082 -1.281609 -0.415629 -0.140809\n",
       "2013-01-04 -0.278468  0.621267 -0.062605 -0.622226"
      ]
     },
     "execution_count": 31,
     "metadata": {},
     "output_type": "execute_result"
    }
   ],
   "source": [
    "df['20130102':'20130104']"
   ]
  },
  {
   "cell_type": "code",
   "execution_count": 32,
   "id": "8ff7de99",
   "metadata": {},
   "outputs": [
    {
     "data": {
      "text/plain": [
       "A   -0.877260\n",
       "B    0.824536\n",
       "C   -0.484570\n",
       "D   -0.583992\n",
       "Name: 2013-01-01 00:00:00, dtype: float64"
      ]
     },
     "execution_count": 32,
     "metadata": {},
     "output_type": "execute_result"
    }
   ],
   "source": [
    "df.loc[dates[0]] # 한 개의 Label로 선택"
   ]
  },
  {
   "cell_type": "code",
   "execution_count": 34,
   "id": "8c7b0cfa",
   "metadata": {},
   "outputs": [
    {
     "data": {
      "text/html": [
       "<div>\n",
       "<style scoped>\n",
       "    .dataframe tbody tr th:only-of-type {\n",
       "        vertical-align: middle;\n",
       "    }\n",
       "\n",
       "    .dataframe tbody tr th {\n",
       "        vertical-align: top;\n",
       "    }\n",
       "\n",
       "    .dataframe thead th {\n",
       "        text-align: right;\n",
       "    }\n",
       "</style>\n",
       "<table border=\"1\" class=\"dataframe\">\n",
       "  <thead>\n",
       "    <tr style=\"text-align: right;\">\n",
       "      <th></th>\n",
       "      <th>A</th>\n",
       "      <th>B</th>\n",
       "    </tr>\n",
       "  </thead>\n",
       "  <tbody>\n",
       "    <tr>\n",
       "      <th>2013-01-01</th>\n",
       "      <td>-0.877260</td>\n",
       "      <td>0.824536</td>\n",
       "    </tr>\n",
       "    <tr>\n",
       "      <th>2013-01-02</th>\n",
       "      <td>-2.028032</td>\n",
       "      <td>-0.343961</td>\n",
       "    </tr>\n",
       "    <tr>\n",
       "      <th>2013-01-03</th>\n",
       "      <td>-1.050082</td>\n",
       "      <td>-1.281609</td>\n",
       "    </tr>\n",
       "    <tr>\n",
       "      <th>2013-01-04</th>\n",
       "      <td>-0.278468</td>\n",
       "      <td>0.621267</td>\n",
       "    </tr>\n",
       "    <tr>\n",
       "      <th>2013-01-05</th>\n",
       "      <td>0.045598</td>\n",
       "      <td>-0.691996</td>\n",
       "    </tr>\n",
       "    <tr>\n",
       "      <th>2013-01-06</th>\n",
       "      <td>1.446088</td>\n",
       "      <td>-0.634451</td>\n",
       "    </tr>\n",
       "  </tbody>\n",
       "</table>\n",
       "</div>"
      ],
      "text/plain": [
       "                   A         B\n",
       "2013-01-01 -0.877260  0.824536\n",
       "2013-01-02 -2.028032 -0.343961\n",
       "2013-01-03 -1.050082 -1.281609\n",
       "2013-01-04 -0.278468  0.621267\n",
       "2013-01-05  0.045598 -0.691996\n",
       "2013-01-06  1.446088 -0.634451"
      ]
     },
     "execution_count": 34,
     "metadata": {},
     "output_type": "execute_result"
    }
   ],
   "source": [
    "df.loc[:, ['A','B']] # 여러 축으로 선택"
   ]
  },
  {
   "cell_type": "code",
   "execution_count": 35,
   "id": "f68c2007",
   "metadata": {},
   "outputs": [
    {
     "data": {
      "text/html": [
       "<div>\n",
       "<style scoped>\n",
       "    .dataframe tbody tr th:only-of-type {\n",
       "        vertical-align: middle;\n",
       "    }\n",
       "\n",
       "    .dataframe tbody tr th {\n",
       "        vertical-align: top;\n",
       "    }\n",
       "\n",
       "    .dataframe thead th {\n",
       "        text-align: right;\n",
       "    }\n",
       "</style>\n",
       "<table border=\"1\" class=\"dataframe\">\n",
       "  <thead>\n",
       "    <tr style=\"text-align: right;\">\n",
       "      <th></th>\n",
       "      <th>A</th>\n",
       "      <th>B</th>\n",
       "    </tr>\n",
       "  </thead>\n",
       "  <tbody>\n",
       "    <tr>\n",
       "      <th>2013-01-02</th>\n",
       "      <td>-2.028032</td>\n",
       "      <td>-0.343961</td>\n",
       "    </tr>\n",
       "    <tr>\n",
       "      <th>2013-01-03</th>\n",
       "      <td>-1.050082</td>\n",
       "      <td>-1.281609</td>\n",
       "    </tr>\n",
       "    <tr>\n",
       "      <th>2013-01-04</th>\n",
       "      <td>-0.278468</td>\n",
       "      <td>0.621267</td>\n",
       "    </tr>\n",
       "  </tbody>\n",
       "</table>\n",
       "</div>"
      ],
      "text/plain": [
       "                   A         B\n",
       "2013-01-02 -2.028032 -0.343961\n",
       "2013-01-03 -1.050082 -1.281609\n",
       "2013-01-04 -0.278468  0.621267"
      ]
     },
     "execution_count": 35,
     "metadata": {},
     "output_type": "execute_result"
    }
   ],
   "source": [
    "df.loc['20130102':'20130104',['A','B']] # 행 분할, 특정 열 선택"
   ]
  },
  {
   "cell_type": "code",
   "execution_count": 36,
   "id": "60703a1e",
   "metadata": {},
   "outputs": [
    {
     "data": {
      "text/plain": [
       "-0.8772597658788468"
      ]
     },
     "execution_count": 36,
     "metadata": {},
     "output_type": "execute_result"
    }
   ],
   "source": [
    "df.loc[dates[0],'A'] #스칼라 값"
   ]
  },
  {
   "cell_type": "code",
   "execution_count": 37,
   "id": "b5830070",
   "metadata": {},
   "outputs": [
    {
     "data": {
      "text/plain": [
       "-0.8772597658788468"
      ]
     },
     "execution_count": 37,
     "metadata": {},
     "output_type": "execute_result"
    }
   ],
   "source": [
    "df.at[dates[0],'A'] # 더 빠르게 얻기 sys랑ㅂ ㅣ슷"
   ]
  },
  {
   "cell_type": "code",
   "execution_count": 38,
   "id": "6ef1ee40",
   "metadata": {},
   "outputs": [
    {
     "data": {
      "text/plain": [
       "A   -0.278468\n",
       "B    0.621267\n",
       "C   -0.062605\n",
       "D   -0.622226\n",
       "Name: 2013-01-04 00:00:00, dtype: float64"
      ]
     },
     "execution_count": 38,
     "metadata": {},
     "output_type": "execute_result"
    }
   ],
   "source": [
    "df.iloc[3] # 정수값 위치를 통한 선택"
   ]
  },
  {
   "cell_type": "code",
   "execution_count": 39,
   "id": "fad0f0f2",
   "metadata": {},
   "outputs": [
    {
     "data": {
      "text/html": [
       "<div>\n",
       "<style scoped>\n",
       "    .dataframe tbody tr th:only-of-type {\n",
       "        vertical-align: middle;\n",
       "    }\n",
       "\n",
       "    .dataframe tbody tr th {\n",
       "        vertical-align: top;\n",
       "    }\n",
       "\n",
       "    .dataframe thead th {\n",
       "        text-align: right;\n",
       "    }\n",
       "</style>\n",
       "<table border=\"1\" class=\"dataframe\">\n",
       "  <thead>\n",
       "    <tr style=\"text-align: right;\">\n",
       "      <th></th>\n",
       "      <th>A</th>\n",
       "      <th>B</th>\n",
       "    </tr>\n",
       "  </thead>\n",
       "  <tbody>\n",
       "    <tr>\n",
       "      <th>2013-01-04</th>\n",
       "      <td>-0.278468</td>\n",
       "      <td>0.621267</td>\n",
       "    </tr>\n",
       "    <tr>\n",
       "      <th>2013-01-05</th>\n",
       "      <td>0.045598</td>\n",
       "      <td>-0.691996</td>\n",
       "    </tr>\n",
       "  </tbody>\n",
       "</table>\n",
       "</div>"
      ],
      "text/plain": [
       "                   A         B\n",
       "2013-01-04 -0.278468  0.621267\n",
       "2013-01-05  0.045598 -0.691996"
      ]
     },
     "execution_count": 39,
     "metadata": {},
     "output_type": "execute_result"
    }
   ],
   "source": [
    "df.iloc[3:5,0:2] #분할해서 선택하기"
   ]
  },
  {
   "cell_type": "code",
   "execution_count": 40,
   "id": "102b4657",
   "metadata": {},
   "outputs": [
    {
     "data": {
      "text/html": [
       "<div>\n",
       "<style scoped>\n",
       "    .dataframe tbody tr th:only-of-type {\n",
       "        vertical-align: middle;\n",
       "    }\n",
       "\n",
       "    .dataframe tbody tr th {\n",
       "        vertical-align: top;\n",
       "    }\n",
       "\n",
       "    .dataframe thead th {\n",
       "        text-align: right;\n",
       "    }\n",
       "</style>\n",
       "<table border=\"1\" class=\"dataframe\">\n",
       "  <thead>\n",
       "    <tr style=\"text-align: right;\">\n",
       "      <th></th>\n",
       "      <th>A</th>\n",
       "      <th>C</th>\n",
       "    </tr>\n",
       "  </thead>\n",
       "  <tbody>\n",
       "    <tr>\n",
       "      <th>2013-01-02</th>\n",
       "      <td>-2.028032</td>\n",
       "      <td>0.153556</td>\n",
       "    </tr>\n",
       "    <tr>\n",
       "      <th>2013-01-03</th>\n",
       "      <td>-1.050082</td>\n",
       "      <td>-0.415629</td>\n",
       "    </tr>\n",
       "    <tr>\n",
       "      <th>2013-01-05</th>\n",
       "      <td>0.045598</td>\n",
       "      <td>-0.566960</td>\n",
       "    </tr>\n",
       "  </tbody>\n",
       "</table>\n",
       "</div>"
      ],
      "text/plain": [
       "                   A         C\n",
       "2013-01-02 -2.028032  0.153556\n",
       "2013-01-03 -1.050082 -0.415629\n",
       "2013-01-05  0.045598 -0.566960"
      ]
     },
     "execution_count": 40,
     "metadata": {},
     "output_type": "execute_result"
    }
   ],
   "source": [
    "df.iloc[[1,2,4],[0,2]] #특정 행, 열 선택"
   ]
  },
  {
   "cell_type": "code",
   "execution_count": 42,
   "id": "9292b7af",
   "metadata": {},
   "outputs": [
    {
     "data": {
      "text/html": [
       "<div>\n",
       "<style scoped>\n",
       "    .dataframe tbody tr th:only-of-type {\n",
       "        vertical-align: middle;\n",
       "    }\n",
       "\n",
       "    .dataframe tbody tr th {\n",
       "        vertical-align: top;\n",
       "    }\n",
       "\n",
       "    .dataframe thead th {\n",
       "        text-align: right;\n",
       "    }\n",
       "</style>\n",
       "<table border=\"1\" class=\"dataframe\">\n",
       "  <thead>\n",
       "    <tr style=\"text-align: right;\">\n",
       "      <th></th>\n",
       "      <th>A</th>\n",
       "      <th>B</th>\n",
       "      <th>C</th>\n",
       "      <th>D</th>\n",
       "    </tr>\n",
       "  </thead>\n",
       "  <tbody>\n",
       "    <tr>\n",
       "      <th>2013-01-02</th>\n",
       "      <td>-2.028032</td>\n",
       "      <td>-0.343961</td>\n",
       "      <td>0.153556</td>\n",
       "      <td>0.242912</td>\n",
       "    </tr>\n",
       "    <tr>\n",
       "      <th>2013-01-03</th>\n",
       "      <td>-1.050082</td>\n",
       "      <td>-1.281609</td>\n",
       "      <td>-0.415629</td>\n",
       "      <td>-0.140809</td>\n",
       "    </tr>\n",
       "  </tbody>\n",
       "</table>\n",
       "</div>"
      ],
      "text/plain": [
       "                   A         B         C         D\n",
       "2013-01-02 -2.028032 -0.343961  0.153556  0.242912\n",
       "2013-01-03 -1.050082 -1.281609 -0.415629 -0.140809"
      ]
     },
     "execution_count": 42,
     "metadata": {},
     "output_type": "execute_result"
    }
   ],
   "source": [
    "df.iloc[1:3,:] # 특정 행 선택"
   ]
  },
  {
   "cell_type": "code",
   "execution_count": 43,
   "id": "cd0049cf",
   "metadata": {},
   "outputs": [
    {
     "data": {
      "text/html": [
       "<div>\n",
       "<style scoped>\n",
       "    .dataframe tbody tr th:only-of-type {\n",
       "        vertical-align: middle;\n",
       "    }\n",
       "\n",
       "    .dataframe tbody tr th {\n",
       "        vertical-align: top;\n",
       "    }\n",
       "\n",
       "    .dataframe thead th {\n",
       "        text-align: right;\n",
       "    }\n",
       "</style>\n",
       "<table border=\"1\" class=\"dataframe\">\n",
       "  <thead>\n",
       "    <tr style=\"text-align: right;\">\n",
       "      <th></th>\n",
       "      <th>B</th>\n",
       "      <th>C</th>\n",
       "    </tr>\n",
       "  </thead>\n",
       "  <tbody>\n",
       "    <tr>\n",
       "      <th>2013-01-01</th>\n",
       "      <td>0.824536</td>\n",
       "      <td>-0.484570</td>\n",
       "    </tr>\n",
       "    <tr>\n",
       "      <th>2013-01-02</th>\n",
       "      <td>-0.343961</td>\n",
       "      <td>0.153556</td>\n",
       "    </tr>\n",
       "    <tr>\n",
       "      <th>2013-01-03</th>\n",
       "      <td>-1.281609</td>\n",
       "      <td>-0.415629</td>\n",
       "    </tr>\n",
       "    <tr>\n",
       "      <th>2013-01-04</th>\n",
       "      <td>0.621267</td>\n",
       "      <td>-0.062605</td>\n",
       "    </tr>\n",
       "    <tr>\n",
       "      <th>2013-01-05</th>\n",
       "      <td>-0.691996</td>\n",
       "      <td>-0.566960</td>\n",
       "    </tr>\n",
       "    <tr>\n",
       "      <th>2013-01-06</th>\n",
       "      <td>-0.634451</td>\n",
       "      <td>-1.037672</td>\n",
       "    </tr>\n",
       "  </tbody>\n",
       "</table>\n",
       "</div>"
      ],
      "text/plain": [
       "                   B         C\n",
       "2013-01-01  0.824536 -0.484570\n",
       "2013-01-02 -0.343961  0.153556\n",
       "2013-01-03 -1.281609 -0.415629\n",
       "2013-01-04  0.621267 -0.062605\n",
       "2013-01-05 -0.691996 -0.566960\n",
       "2013-01-06 -0.634451 -1.037672"
      ]
     },
     "execution_count": 43,
     "metadata": {},
     "output_type": "execute_result"
    }
   ],
   "source": [
    "df.iloc[:, 1:3] # 특정 열"
   ]
  },
  {
   "cell_type": "code",
   "execution_count": 44,
   "id": "58db251d",
   "metadata": {},
   "outputs": [
    {
     "data": {
      "text/html": [
       "<div>\n",
       "<style scoped>\n",
       "    .dataframe tbody tr th:only-of-type {\n",
       "        vertical-align: middle;\n",
       "    }\n",
       "\n",
       "    .dataframe tbody tr th {\n",
       "        vertical-align: top;\n",
       "    }\n",
       "\n",
       "    .dataframe thead th {\n",
       "        text-align: right;\n",
       "    }\n",
       "</style>\n",
       "<table border=\"1\" class=\"dataframe\">\n",
       "  <thead>\n",
       "    <tr style=\"text-align: right;\">\n",
       "      <th></th>\n",
       "      <th>A</th>\n",
       "      <th>B</th>\n",
       "      <th>C</th>\n",
       "      <th>D</th>\n",
       "    </tr>\n",
       "  </thead>\n",
       "  <tbody>\n",
       "    <tr>\n",
       "      <th>2013-01-05</th>\n",
       "      <td>0.045598</td>\n",
       "      <td>-0.691996</td>\n",
       "      <td>-0.566960</td>\n",
       "      <td>0.624947</td>\n",
       "    </tr>\n",
       "    <tr>\n",
       "      <th>2013-01-06</th>\n",
       "      <td>1.446088</td>\n",
       "      <td>-0.634451</td>\n",
       "      <td>-1.037672</td>\n",
       "      <td>-0.151491</td>\n",
       "    </tr>\n",
       "  </tbody>\n",
       "</table>\n",
       "</div>"
      ],
      "text/plain": [
       "                   A         B         C         D\n",
       "2013-01-05  0.045598 -0.691996 -0.566960  0.624947\n",
       "2013-01-06  1.446088 -0.634451 -1.037672 -0.151491"
      ]
     },
     "execution_count": 44,
     "metadata": {},
     "output_type": "execute_result"
    }
   ],
   "source": [
    "df[df.A>0] # 조건식을 만족하는 열을 가진 행만 선택"
   ]
  },
  {
   "cell_type": "code",
   "execution_count": 45,
   "id": "77848e3e",
   "metadata": {},
   "outputs": [
    {
     "data": {
      "text/html": [
       "<div>\n",
       "<style scoped>\n",
       "    .dataframe tbody tr th:only-of-type {\n",
       "        vertical-align: middle;\n",
       "    }\n",
       "\n",
       "    .dataframe tbody tr th {\n",
       "        vertical-align: top;\n",
       "    }\n",
       "\n",
       "    .dataframe thead th {\n",
       "        text-align: right;\n",
       "    }\n",
       "</style>\n",
       "<table border=\"1\" class=\"dataframe\">\n",
       "  <thead>\n",
       "    <tr style=\"text-align: right;\">\n",
       "      <th></th>\n",
       "      <th>A</th>\n",
       "      <th>B</th>\n",
       "      <th>C</th>\n",
       "      <th>D</th>\n",
       "    </tr>\n",
       "  </thead>\n",
       "  <tbody>\n",
       "    <tr>\n",
       "      <th>2013-01-01</th>\n",
       "      <td>NaN</td>\n",
       "      <td>0.824536</td>\n",
       "      <td>NaN</td>\n",
       "      <td>NaN</td>\n",
       "    </tr>\n",
       "    <tr>\n",
       "      <th>2013-01-02</th>\n",
       "      <td>NaN</td>\n",
       "      <td>NaN</td>\n",
       "      <td>0.153556</td>\n",
       "      <td>0.242912</td>\n",
       "    </tr>\n",
       "    <tr>\n",
       "      <th>2013-01-03</th>\n",
       "      <td>NaN</td>\n",
       "      <td>NaN</td>\n",
       "      <td>NaN</td>\n",
       "      <td>NaN</td>\n",
       "    </tr>\n",
       "    <tr>\n",
       "      <th>2013-01-04</th>\n",
       "      <td>NaN</td>\n",
       "      <td>0.621267</td>\n",
       "      <td>NaN</td>\n",
       "      <td>NaN</td>\n",
       "    </tr>\n",
       "    <tr>\n",
       "      <th>2013-01-05</th>\n",
       "      <td>0.045598</td>\n",
       "      <td>NaN</td>\n",
       "      <td>NaN</td>\n",
       "      <td>0.624947</td>\n",
       "    </tr>\n",
       "    <tr>\n",
       "      <th>2013-01-06</th>\n",
       "      <td>1.446088</td>\n",
       "      <td>NaN</td>\n",
       "      <td>NaN</td>\n",
       "      <td>NaN</td>\n",
       "    </tr>\n",
       "  </tbody>\n",
       "</table>\n",
       "</div>"
      ],
      "text/plain": [
       "                   A         B         C         D\n",
       "2013-01-01       NaN  0.824536       NaN       NaN\n",
       "2013-01-02       NaN       NaN  0.153556  0.242912\n",
       "2013-01-03       NaN       NaN       NaN       NaN\n",
       "2013-01-04       NaN  0.621267       NaN       NaN\n",
       "2013-01-05  0.045598       NaN       NaN  0.624947\n",
       "2013-01-06  1.446088       NaN       NaN       NaN"
      ]
     },
     "execution_count": 45,
     "metadata": {},
     "output_type": "execute_result"
    }
   ],
   "source": [
    "df[df>0] # 만족하지 않으면 NaN"
   ]
  },
  {
   "cell_type": "code",
   "execution_count": 46,
   "id": "f226043e",
   "metadata": {},
   "outputs": [],
   "source": [
    "df2 = df.copy()"
   ]
  },
  {
   "cell_type": "code",
   "execution_count": 47,
   "id": "fd75da68",
   "metadata": {},
   "outputs": [],
   "source": [
    "df2['E'] = ['one','one','two','three','four','three']"
   ]
  },
  {
   "cell_type": "code",
   "execution_count": 48,
   "id": "ce840afb",
   "metadata": {},
   "outputs": [
    {
     "data": {
      "text/html": [
       "<div>\n",
       "<style scoped>\n",
       "    .dataframe tbody tr th:only-of-type {\n",
       "        vertical-align: middle;\n",
       "    }\n",
       "\n",
       "    .dataframe tbody tr th {\n",
       "        vertical-align: top;\n",
       "    }\n",
       "\n",
       "    .dataframe thead th {\n",
       "        text-align: right;\n",
       "    }\n",
       "</style>\n",
       "<table border=\"1\" class=\"dataframe\">\n",
       "  <thead>\n",
       "    <tr style=\"text-align: right;\">\n",
       "      <th></th>\n",
       "      <th>A</th>\n",
       "      <th>B</th>\n",
       "      <th>C</th>\n",
       "      <th>D</th>\n",
       "      <th>E</th>\n",
       "    </tr>\n",
       "  </thead>\n",
       "  <tbody>\n",
       "    <tr>\n",
       "      <th>2013-01-01</th>\n",
       "      <td>-0.877260</td>\n",
       "      <td>0.824536</td>\n",
       "      <td>-0.484570</td>\n",
       "      <td>-0.583992</td>\n",
       "      <td>one</td>\n",
       "    </tr>\n",
       "    <tr>\n",
       "      <th>2013-01-02</th>\n",
       "      <td>-2.028032</td>\n",
       "      <td>-0.343961</td>\n",
       "      <td>0.153556</td>\n",
       "      <td>0.242912</td>\n",
       "      <td>one</td>\n",
       "    </tr>\n",
       "    <tr>\n",
       "      <th>2013-01-03</th>\n",
       "      <td>-1.050082</td>\n",
       "      <td>-1.281609</td>\n",
       "      <td>-0.415629</td>\n",
       "      <td>-0.140809</td>\n",
       "      <td>two</td>\n",
       "    </tr>\n",
       "    <tr>\n",
       "      <th>2013-01-04</th>\n",
       "      <td>-0.278468</td>\n",
       "      <td>0.621267</td>\n",
       "      <td>-0.062605</td>\n",
       "      <td>-0.622226</td>\n",
       "      <td>three</td>\n",
       "    </tr>\n",
       "    <tr>\n",
       "      <th>2013-01-05</th>\n",
       "      <td>0.045598</td>\n",
       "      <td>-0.691996</td>\n",
       "      <td>-0.566960</td>\n",
       "      <td>0.624947</td>\n",
       "      <td>four</td>\n",
       "    </tr>\n",
       "    <tr>\n",
       "      <th>2013-01-06</th>\n",
       "      <td>1.446088</td>\n",
       "      <td>-0.634451</td>\n",
       "      <td>-1.037672</td>\n",
       "      <td>-0.151491</td>\n",
       "      <td>three</td>\n",
       "    </tr>\n",
       "  </tbody>\n",
       "</table>\n",
       "</div>"
      ],
      "text/plain": [
       "                   A         B         C         D      E\n",
       "2013-01-01 -0.877260  0.824536 -0.484570 -0.583992    one\n",
       "2013-01-02 -2.028032 -0.343961  0.153556  0.242912    one\n",
       "2013-01-03 -1.050082 -1.281609 -0.415629 -0.140809    two\n",
       "2013-01-04 -0.278468  0.621267 -0.062605 -0.622226  three\n",
       "2013-01-05  0.045598 -0.691996 -0.566960  0.624947   four\n",
       "2013-01-06  1.446088 -0.634451 -1.037672 -0.151491  three"
      ]
     },
     "execution_count": 48,
     "metadata": {},
     "output_type": "execute_result"
    }
   ],
   "source": [
    "df2"
   ]
  },
  {
   "cell_type": "code",
   "execution_count": 49,
   "id": "2e6e2867",
   "metadata": {},
   "outputs": [
    {
     "data": {
      "text/html": [
       "<div>\n",
       "<style scoped>\n",
       "    .dataframe tbody tr th:only-of-type {\n",
       "        vertical-align: middle;\n",
       "    }\n",
       "\n",
       "    .dataframe tbody tr th {\n",
       "        vertical-align: top;\n",
       "    }\n",
       "\n",
       "    .dataframe thead th {\n",
       "        text-align: right;\n",
       "    }\n",
       "</style>\n",
       "<table border=\"1\" class=\"dataframe\">\n",
       "  <thead>\n",
       "    <tr style=\"text-align: right;\">\n",
       "      <th></th>\n",
       "      <th>A</th>\n",
       "      <th>B</th>\n",
       "      <th>C</th>\n",
       "      <th>D</th>\n",
       "      <th>E</th>\n",
       "    </tr>\n",
       "  </thead>\n",
       "  <tbody>\n",
       "    <tr>\n",
       "      <th>2013-01-03</th>\n",
       "      <td>-1.050082</td>\n",
       "      <td>-1.281609</td>\n",
       "      <td>-0.415629</td>\n",
       "      <td>-0.140809</td>\n",
       "      <td>two</td>\n",
       "    </tr>\n",
       "    <tr>\n",
       "      <th>2013-01-05</th>\n",
       "      <td>0.045598</td>\n",
       "      <td>-0.691996</td>\n",
       "      <td>-0.566960</td>\n",
       "      <td>0.624947</td>\n",
       "      <td>four</td>\n",
       "    </tr>\n",
       "  </tbody>\n",
       "</table>\n",
       "</div>"
      ],
      "text/plain": [
       "                   A         B         C         D     E\n",
       "2013-01-03 -1.050082 -1.281609 -0.415629 -0.140809   two\n",
       "2013-01-05  0.045598 -0.691996 -0.566960  0.624947  four"
      ]
     },
     "execution_count": 49,
     "metadata": {},
     "output_type": "execute_result"
    }
   ],
   "source": [
    "df2[df2['E'].isin(['two','four'])]"
   ]
  },
  {
   "cell_type": "code",
   "execution_count": 50,
   "id": "b95de380",
   "metadata": {},
   "outputs": [],
   "source": [
    "s1 = pd.Series([1,2,3,4,5,6], index=pd.date_range('20130102', periods=6))"
   ]
  },
  {
   "cell_type": "code",
   "execution_count": 51,
   "id": "83c9926f",
   "metadata": {},
   "outputs": [
    {
     "data": {
      "text/plain": [
       "2013-01-02    1\n",
       "2013-01-03    2\n",
       "2013-01-04    3\n",
       "2013-01-05    4\n",
       "2013-01-06    5\n",
       "2013-01-07    6\n",
       "Freq: D, dtype: int64"
      ]
     },
     "execution_count": 51,
     "metadata": {},
     "output_type": "execute_result"
    }
   ],
   "source": [
    "s1"
   ]
  },
  {
   "cell_type": "code",
   "execution_count": 52,
   "id": "4d2af8fb",
   "metadata": {},
   "outputs": [],
   "source": [
    "df['F'] = s1 # series 로 설정"
   ]
  },
  {
   "cell_type": "code",
   "execution_count": 53,
   "id": "fd55af07",
   "metadata": {},
   "outputs": [],
   "source": [
    "df.at[dates[0],'A'] = 0 # 레이블로 설정"
   ]
  },
  {
   "cell_type": "code",
   "execution_count": 54,
   "id": "0b375cdf",
   "metadata": {},
   "outputs": [],
   "source": [
    "df.iat[0,1] = 0 # 위치로 설정"
   ]
  },
  {
   "cell_type": "code",
   "execution_count": 56,
   "id": "524faec3",
   "metadata": {},
   "outputs": [],
   "source": [
    "df.loc[:,'D'] = np.array([5]*len(df)) # 배열로 설정"
   ]
  },
  {
   "cell_type": "code",
   "execution_count": 57,
   "id": "8e841194",
   "metadata": {},
   "outputs": [
    {
     "data": {
      "text/html": [
       "<div>\n",
       "<style scoped>\n",
       "    .dataframe tbody tr th:only-of-type {\n",
       "        vertical-align: middle;\n",
       "    }\n",
       "\n",
       "    .dataframe tbody tr th {\n",
       "        vertical-align: top;\n",
       "    }\n",
       "\n",
       "    .dataframe thead th {\n",
       "        text-align: right;\n",
       "    }\n",
       "</style>\n",
       "<table border=\"1\" class=\"dataframe\">\n",
       "  <thead>\n",
       "    <tr style=\"text-align: right;\">\n",
       "      <th></th>\n",
       "      <th>A</th>\n",
       "      <th>B</th>\n",
       "      <th>C</th>\n",
       "      <th>D</th>\n",
       "      <th>F</th>\n",
       "    </tr>\n",
       "  </thead>\n",
       "  <tbody>\n",
       "    <tr>\n",
       "      <th>2013-01-01</th>\n",
       "      <td>0.000000</td>\n",
       "      <td>0.000000</td>\n",
       "      <td>-0.484570</td>\n",
       "      <td>5</td>\n",
       "      <td>NaN</td>\n",
       "    </tr>\n",
       "    <tr>\n",
       "      <th>2013-01-02</th>\n",
       "      <td>-2.028032</td>\n",
       "      <td>-0.343961</td>\n",
       "      <td>0.153556</td>\n",
       "      <td>5</td>\n",
       "      <td>1.0</td>\n",
       "    </tr>\n",
       "    <tr>\n",
       "      <th>2013-01-03</th>\n",
       "      <td>-1.050082</td>\n",
       "      <td>-1.281609</td>\n",
       "      <td>-0.415629</td>\n",
       "      <td>5</td>\n",
       "      <td>2.0</td>\n",
       "    </tr>\n",
       "    <tr>\n",
       "      <th>2013-01-04</th>\n",
       "      <td>-0.278468</td>\n",
       "      <td>0.621267</td>\n",
       "      <td>-0.062605</td>\n",
       "      <td>5</td>\n",
       "      <td>3.0</td>\n",
       "    </tr>\n",
       "    <tr>\n",
       "      <th>2013-01-05</th>\n",
       "      <td>0.045598</td>\n",
       "      <td>-0.691996</td>\n",
       "      <td>-0.566960</td>\n",
       "      <td>5</td>\n",
       "      <td>4.0</td>\n",
       "    </tr>\n",
       "    <tr>\n",
       "      <th>2013-01-06</th>\n",
       "      <td>1.446088</td>\n",
       "      <td>-0.634451</td>\n",
       "      <td>-1.037672</td>\n",
       "      <td>5</td>\n",
       "      <td>5.0</td>\n",
       "    </tr>\n",
       "  </tbody>\n",
       "</table>\n",
       "</div>"
      ],
      "text/plain": [
       "                   A         B         C  D    F\n",
       "2013-01-01  0.000000  0.000000 -0.484570  5  NaN\n",
       "2013-01-02 -2.028032 -0.343961  0.153556  5  1.0\n",
       "2013-01-03 -1.050082 -1.281609 -0.415629  5  2.0\n",
       "2013-01-04 -0.278468  0.621267 -0.062605  5  3.0\n",
       "2013-01-05  0.045598 -0.691996 -0.566960  5  4.0\n",
       "2013-01-06  1.446088 -0.634451 -1.037672  5  5.0"
      ]
     },
     "execution_count": 57,
     "metadata": {},
     "output_type": "execute_result"
    }
   ],
   "source": [
    "df"
   ]
  },
  {
   "cell_type": "code",
   "execution_count": 58,
   "id": "28961006",
   "metadata": {},
   "outputs": [],
   "source": [
    "df2 = df.copy()"
   ]
  },
  {
   "cell_type": "code",
   "execution_count": 59,
   "id": "baee793b",
   "metadata": {},
   "outputs": [],
   "source": [
    "df[df>0] = -df2"
   ]
  },
  {
   "cell_type": "code",
   "execution_count": 60,
   "id": "4a8dfeba",
   "metadata": {},
   "outputs": [
    {
     "data": {
      "text/html": [
       "<div>\n",
       "<style scoped>\n",
       "    .dataframe tbody tr th:only-of-type {\n",
       "        vertical-align: middle;\n",
       "    }\n",
       "\n",
       "    .dataframe tbody tr th {\n",
       "        vertical-align: top;\n",
       "    }\n",
       "\n",
       "    .dataframe thead th {\n",
       "        text-align: right;\n",
       "    }\n",
       "</style>\n",
       "<table border=\"1\" class=\"dataframe\">\n",
       "  <thead>\n",
       "    <tr style=\"text-align: right;\">\n",
       "      <th></th>\n",
       "      <th>A</th>\n",
       "      <th>B</th>\n",
       "      <th>C</th>\n",
       "      <th>D</th>\n",
       "      <th>F</th>\n",
       "    </tr>\n",
       "  </thead>\n",
       "  <tbody>\n",
       "    <tr>\n",
       "      <th>2013-01-01</th>\n",
       "      <td>0.000000</td>\n",
       "      <td>0.000000</td>\n",
       "      <td>-0.484570</td>\n",
       "      <td>5</td>\n",
       "      <td>NaN</td>\n",
       "    </tr>\n",
       "    <tr>\n",
       "      <th>2013-01-02</th>\n",
       "      <td>-2.028032</td>\n",
       "      <td>-0.343961</td>\n",
       "      <td>0.153556</td>\n",
       "      <td>5</td>\n",
       "      <td>1.0</td>\n",
       "    </tr>\n",
       "    <tr>\n",
       "      <th>2013-01-03</th>\n",
       "      <td>-1.050082</td>\n",
       "      <td>-1.281609</td>\n",
       "      <td>-0.415629</td>\n",
       "      <td>5</td>\n",
       "      <td>2.0</td>\n",
       "    </tr>\n",
       "    <tr>\n",
       "      <th>2013-01-04</th>\n",
       "      <td>-0.278468</td>\n",
       "      <td>0.621267</td>\n",
       "      <td>-0.062605</td>\n",
       "      <td>5</td>\n",
       "      <td>3.0</td>\n",
       "    </tr>\n",
       "    <tr>\n",
       "      <th>2013-01-05</th>\n",
       "      <td>0.045598</td>\n",
       "      <td>-0.691996</td>\n",
       "      <td>-0.566960</td>\n",
       "      <td>5</td>\n",
       "      <td>4.0</td>\n",
       "    </tr>\n",
       "    <tr>\n",
       "      <th>2013-01-06</th>\n",
       "      <td>1.446088</td>\n",
       "      <td>-0.634451</td>\n",
       "      <td>-1.037672</td>\n",
       "      <td>5</td>\n",
       "      <td>5.0</td>\n",
       "    </tr>\n",
       "  </tbody>\n",
       "</table>\n",
       "</div>"
      ],
      "text/plain": [
       "                   A         B         C  D    F\n",
       "2013-01-01  0.000000  0.000000 -0.484570  5  NaN\n",
       "2013-01-02 -2.028032 -0.343961  0.153556  5  1.0\n",
       "2013-01-03 -1.050082 -1.281609 -0.415629  5  2.0\n",
       "2013-01-04 -0.278468  0.621267 -0.062605  5  3.0\n",
       "2013-01-05  0.045598 -0.691996 -0.566960  5  4.0\n",
       "2013-01-06  1.446088 -0.634451 -1.037672  5  5.0"
      ]
     },
     "execution_count": 60,
     "metadata": {},
     "output_type": "execute_result"
    }
   ],
   "source": [
    "df2 # 특정 조건을 만족하는 곳의 값만 변경"
   ]
  },
  {
   "cell_type": "code",
   "execution_count": 65,
   "id": "ea15aedc",
   "metadata": {},
   "outputs": [],
   "source": [
    "df1 = df.reindex(index=dates[0:4],columns=list(df.columns)+['E']) # index 를 추가/삭제 하고 결과 return"
   ]
  },
  {
   "cell_type": "code",
   "execution_count": 66,
   "id": "4ded474c",
   "metadata": {},
   "outputs": [],
   "source": [
    "df.loc[dates[0]:dates[1],'E'] = 1"
   ]
  },
  {
   "cell_type": "code",
   "execution_count": 67,
   "id": "0e2d1794",
   "metadata": {},
   "outputs": [
    {
     "data": {
      "text/html": [
       "<div>\n",
       "<style scoped>\n",
       "    .dataframe tbody tr th:only-of-type {\n",
       "        vertical-align: middle;\n",
       "    }\n",
       "\n",
       "    .dataframe tbody tr th {\n",
       "        vertical-align: top;\n",
       "    }\n",
       "\n",
       "    .dataframe thead th {\n",
       "        text-align: right;\n",
       "    }\n",
       "</style>\n",
       "<table border=\"1\" class=\"dataframe\">\n",
       "  <thead>\n",
       "    <tr style=\"text-align: right;\">\n",
       "      <th></th>\n",
       "      <th>A</th>\n",
       "      <th>B</th>\n",
       "      <th>C</th>\n",
       "      <th>D</th>\n",
       "      <th>F</th>\n",
       "      <th>E</th>\n",
       "      <th>E</th>\n",
       "    </tr>\n",
       "  </thead>\n",
       "  <tbody>\n",
       "    <tr>\n",
       "      <th>2013-01-01</th>\n",
       "      <td>0.000000</td>\n",
       "      <td>0.000000</td>\n",
       "      <td>-0.484570</td>\n",
       "      <td>-5</td>\n",
       "      <td>NaN</td>\n",
       "      <td>1.0</td>\n",
       "      <td>1.0</td>\n",
       "    </tr>\n",
       "    <tr>\n",
       "      <th>2013-01-02</th>\n",
       "      <td>-2.028032</td>\n",
       "      <td>-0.343961</td>\n",
       "      <td>-0.153556</td>\n",
       "      <td>-5</td>\n",
       "      <td>-1.0</td>\n",
       "      <td>1.0</td>\n",
       "      <td>1.0</td>\n",
       "    </tr>\n",
       "    <tr>\n",
       "      <th>2013-01-03</th>\n",
       "      <td>-1.050082</td>\n",
       "      <td>-1.281609</td>\n",
       "      <td>-0.415629</td>\n",
       "      <td>-5</td>\n",
       "      <td>-2.0</td>\n",
       "      <td>NaN</td>\n",
       "      <td>NaN</td>\n",
       "    </tr>\n",
       "    <tr>\n",
       "      <th>2013-01-04</th>\n",
       "      <td>-0.278468</td>\n",
       "      <td>-0.621267</td>\n",
       "      <td>-0.062605</td>\n",
       "      <td>-5</td>\n",
       "      <td>-3.0</td>\n",
       "      <td>NaN</td>\n",
       "      <td>NaN</td>\n",
       "    </tr>\n",
       "  </tbody>\n",
       "</table>\n",
       "</div>"
      ],
      "text/plain": [
       "                   A         B         C  D    F    E    E\n",
       "2013-01-01  0.000000  0.000000 -0.484570 -5  NaN  1.0  1.0\n",
       "2013-01-02 -2.028032 -0.343961 -0.153556 -5 -1.0  1.0  1.0\n",
       "2013-01-03 -1.050082 -1.281609 -0.415629 -5 -2.0  NaN  NaN\n",
       "2013-01-04 -0.278468 -0.621267 -0.062605 -5 -3.0  NaN  NaN"
      ]
     },
     "execution_count": 67,
     "metadata": {},
     "output_type": "execute_result"
    }
   ],
   "source": [
    "df1 # missing data = np.nan 으로 표시, 계산에서 제외"
   ]
  },
  {
   "cell_type": "code",
   "execution_count": 68,
   "id": "dc210861",
   "metadata": {},
   "outputs": [
    {
     "data": {
      "text/html": [
       "<div>\n",
       "<style scoped>\n",
       "    .dataframe tbody tr th:only-of-type {\n",
       "        vertical-align: middle;\n",
       "    }\n",
       "\n",
       "    .dataframe tbody tr th {\n",
       "        vertical-align: top;\n",
       "    }\n",
       "\n",
       "    .dataframe thead th {\n",
       "        text-align: right;\n",
       "    }\n",
       "</style>\n",
       "<table border=\"1\" class=\"dataframe\">\n",
       "  <thead>\n",
       "    <tr style=\"text-align: right;\">\n",
       "      <th></th>\n",
       "      <th>A</th>\n",
       "      <th>B</th>\n",
       "      <th>C</th>\n",
       "      <th>D</th>\n",
       "      <th>F</th>\n",
       "      <th>E</th>\n",
       "      <th>E</th>\n",
       "    </tr>\n",
       "  </thead>\n",
       "  <tbody>\n",
       "    <tr>\n",
       "      <th>2013-01-02</th>\n",
       "      <td>-2.028032</td>\n",
       "      <td>-0.343961</td>\n",
       "      <td>-0.153556</td>\n",
       "      <td>-5</td>\n",
       "      <td>-1.0</td>\n",
       "      <td>1.0</td>\n",
       "      <td>1.0</td>\n",
       "    </tr>\n",
       "  </tbody>\n",
       "</table>\n",
       "</div>"
      ],
      "text/plain": [
       "                   A         B         C  D    F    E    E\n",
       "2013-01-02 -2.028032 -0.343961 -0.153556 -5 -1.0  1.0  1.0"
      ]
     },
     "execution_count": 68,
     "metadata": {},
     "output_type": "execute_result"
    }
   ],
   "source": [
    "df1.dropna(how='any') # misisng data 가 있는 행 삭제"
   ]
  },
  {
   "cell_type": "code",
   "execution_count": 69,
   "id": "a6720e87",
   "metadata": {},
   "outputs": [
    {
     "data": {
      "text/html": [
       "<div>\n",
       "<style scoped>\n",
       "    .dataframe tbody tr th:only-of-type {\n",
       "        vertical-align: middle;\n",
       "    }\n",
       "\n",
       "    .dataframe tbody tr th {\n",
       "        vertical-align: top;\n",
       "    }\n",
       "\n",
       "    .dataframe thead th {\n",
       "        text-align: right;\n",
       "    }\n",
       "</style>\n",
       "<table border=\"1\" class=\"dataframe\">\n",
       "  <thead>\n",
       "    <tr style=\"text-align: right;\">\n",
       "      <th></th>\n",
       "      <th>A</th>\n",
       "      <th>B</th>\n",
       "      <th>C</th>\n",
       "      <th>D</th>\n",
       "      <th>F</th>\n",
       "      <th>E</th>\n",
       "      <th>E</th>\n",
       "    </tr>\n",
       "  </thead>\n",
       "  <tbody>\n",
       "    <tr>\n",
       "      <th>2013-01-01</th>\n",
       "      <td>0.000000</td>\n",
       "      <td>0.000000</td>\n",
       "      <td>-0.484570</td>\n",
       "      <td>-5</td>\n",
       "      <td>5.0</td>\n",
       "      <td>1.0</td>\n",
       "      <td>1.0</td>\n",
       "    </tr>\n",
       "    <tr>\n",
       "      <th>2013-01-02</th>\n",
       "      <td>-2.028032</td>\n",
       "      <td>-0.343961</td>\n",
       "      <td>-0.153556</td>\n",
       "      <td>-5</td>\n",
       "      <td>-1.0</td>\n",
       "      <td>1.0</td>\n",
       "      <td>1.0</td>\n",
       "    </tr>\n",
       "    <tr>\n",
       "      <th>2013-01-03</th>\n",
       "      <td>-1.050082</td>\n",
       "      <td>-1.281609</td>\n",
       "      <td>-0.415629</td>\n",
       "      <td>-5</td>\n",
       "      <td>-2.0</td>\n",
       "      <td>5.0</td>\n",
       "      <td>5.0</td>\n",
       "    </tr>\n",
       "    <tr>\n",
       "      <th>2013-01-04</th>\n",
       "      <td>-0.278468</td>\n",
       "      <td>-0.621267</td>\n",
       "      <td>-0.062605</td>\n",
       "      <td>-5</td>\n",
       "      <td>-3.0</td>\n",
       "      <td>5.0</td>\n",
       "      <td>5.0</td>\n",
       "    </tr>\n",
       "  </tbody>\n",
       "</table>\n",
       "</div>"
      ],
      "text/plain": [
       "                   A         B         C  D    F    E    E\n",
       "2013-01-01  0.000000  0.000000 -0.484570 -5  5.0  1.0  1.0\n",
       "2013-01-02 -2.028032 -0.343961 -0.153556 -5 -1.0  1.0  1.0\n",
       "2013-01-03 -1.050082 -1.281609 -0.415629 -5 -2.0  5.0  5.0\n",
       "2013-01-04 -0.278468 -0.621267 -0.062605 -5 -3.0  5.0  5.0"
      ]
     },
     "execution_count": 69,
     "metadata": {},
     "output_type": "execute_result"
    }
   ],
   "source": [
    "df1.fillna(value=5) # missing data 채우기"
   ]
  },
  {
   "cell_type": "code",
   "execution_count": 71,
   "id": "00e2096e",
   "metadata": {},
   "outputs": [
    {
     "data": {
      "text/html": [
       "<div>\n",
       "<style scoped>\n",
       "    .dataframe tbody tr th:only-of-type {\n",
       "        vertical-align: middle;\n",
       "    }\n",
       "\n",
       "    .dataframe tbody tr th {\n",
       "        vertical-align: top;\n",
       "    }\n",
       "\n",
       "    .dataframe thead th {\n",
       "        text-align: right;\n",
       "    }\n",
       "</style>\n",
       "<table border=\"1\" class=\"dataframe\">\n",
       "  <thead>\n",
       "    <tr style=\"text-align: right;\">\n",
       "      <th></th>\n",
       "      <th>A</th>\n",
       "      <th>B</th>\n",
       "      <th>C</th>\n",
       "      <th>D</th>\n",
       "      <th>F</th>\n",
       "      <th>E</th>\n",
       "      <th>E</th>\n",
       "    </tr>\n",
       "  </thead>\n",
       "  <tbody>\n",
       "    <tr>\n",
       "      <th>2013-01-01</th>\n",
       "      <td>False</td>\n",
       "      <td>False</td>\n",
       "      <td>False</td>\n",
       "      <td>False</td>\n",
       "      <td>True</td>\n",
       "      <td>False</td>\n",
       "      <td>False</td>\n",
       "    </tr>\n",
       "    <tr>\n",
       "      <th>2013-01-02</th>\n",
       "      <td>False</td>\n",
       "      <td>False</td>\n",
       "      <td>False</td>\n",
       "      <td>False</td>\n",
       "      <td>False</td>\n",
       "      <td>False</td>\n",
       "      <td>False</td>\n",
       "    </tr>\n",
       "    <tr>\n",
       "      <th>2013-01-03</th>\n",
       "      <td>False</td>\n",
       "      <td>False</td>\n",
       "      <td>False</td>\n",
       "      <td>False</td>\n",
       "      <td>False</td>\n",
       "      <td>True</td>\n",
       "      <td>True</td>\n",
       "    </tr>\n",
       "    <tr>\n",
       "      <th>2013-01-04</th>\n",
       "      <td>False</td>\n",
       "      <td>False</td>\n",
       "      <td>False</td>\n",
       "      <td>False</td>\n",
       "      <td>False</td>\n",
       "      <td>True</td>\n",
       "      <td>True</td>\n",
       "    </tr>\n",
       "  </tbody>\n",
       "</table>\n",
       "</div>"
      ],
      "text/plain": [
       "                A      B      C      D      F      E      E\n",
       "2013-01-01  False  False  False  False   True  False  False\n",
       "2013-01-02  False  False  False  False  False  False  False\n",
       "2013-01-03  False  False  False  False  False   True   True\n",
       "2013-01-04  False  False  False  False  False   True   True"
      ]
     },
     "execution_count": 71,
     "metadata": {},
     "output_type": "execute_result"
    }
   ],
   "source": [
    "pd.isna(df1) # NaN 값을 가진곳의 불리언 마스크 생성 (NaN = True)"
   ]
  },
  {
   "cell_type": "code",
   "execution_count": 72,
   "id": "2db895ca",
   "metadata": {},
   "outputs": [
    {
     "data": {
      "text/plain": [
       "A   -0.808045\n",
       "B   -0.595547\n",
       "C   -0.453499\n",
       "D   -5.000000\n",
       "F   -3.000000\n",
       "E    1.000000\n",
       "dtype: float64"
      ]
     },
     "execution_count": 72,
     "metadata": {},
     "output_type": "execute_result"
    }
   ],
   "source": [
    "df.mean() # 각 열의 평균"
   ]
  },
  {
   "cell_type": "code",
   "execution_count": 73,
   "id": "b1c82f08",
   "metadata": {},
   "outputs": [
    {
     "data": {
      "text/plain": [
       "2013-01-01   -0.896914\n",
       "2013-01-02   -1.254258\n",
       "2013-01-03   -1.949464\n",
       "2013-01-04   -1.792468\n",
       "2013-01-05   -2.060911\n",
       "2013-01-06   -2.623642\n",
       "Freq: D, dtype: float64"
      ]
     },
     "execution_count": 73,
     "metadata": {},
     "output_type": "execute_result"
    }
   ],
   "source": [
    "df.mean(1) # 각 행의 평균"
   ]
  },
  {
   "cell_type": "code",
   "execution_count": 74,
   "id": "6097651c",
   "metadata": {},
   "outputs": [],
   "source": [
    "s = pd.Series([1,3,5,np.nan,6,8], index=dates).shift(2)"
   ]
  },
  {
   "cell_type": "code",
   "execution_count": 75,
   "id": "c4701ed7",
   "metadata": {},
   "outputs": [
    {
     "data": {
      "text/plain": [
       "2013-01-01    NaN\n",
       "2013-01-02    NaN\n",
       "2013-01-03    1.0\n",
       "2013-01-04    3.0\n",
       "2013-01-05    5.0\n",
       "2013-01-06    NaN\n",
       "Freq: D, dtype: float64"
      ]
     },
     "execution_count": 75,
     "metadata": {},
     "output_type": "execute_result"
    }
   ],
   "source": [
    "s"
   ]
  },
  {
   "cell_type": "code",
   "execution_count": 76,
   "id": "cc24d074",
   "metadata": {},
   "outputs": [
    {
     "data": {
      "text/html": [
       "<div>\n",
       "<style scoped>\n",
       "    .dataframe tbody tr th:only-of-type {\n",
       "        vertical-align: middle;\n",
       "    }\n",
       "\n",
       "    .dataframe tbody tr th {\n",
       "        vertical-align: top;\n",
       "    }\n",
       "\n",
       "    .dataframe thead th {\n",
       "        text-align: right;\n",
       "    }\n",
       "</style>\n",
       "<table border=\"1\" class=\"dataframe\">\n",
       "  <thead>\n",
       "    <tr style=\"text-align: right;\">\n",
       "      <th></th>\n",
       "      <th>A</th>\n",
       "      <th>B</th>\n",
       "      <th>C</th>\n",
       "      <th>D</th>\n",
       "      <th>F</th>\n",
       "      <th>E</th>\n",
       "    </tr>\n",
       "  </thead>\n",
       "  <tbody>\n",
       "    <tr>\n",
       "      <th>2013-01-01</th>\n",
       "      <td>NaN</td>\n",
       "      <td>NaN</td>\n",
       "      <td>NaN</td>\n",
       "      <td>NaN</td>\n",
       "      <td>NaN</td>\n",
       "      <td>NaN</td>\n",
       "    </tr>\n",
       "    <tr>\n",
       "      <th>2013-01-02</th>\n",
       "      <td>NaN</td>\n",
       "      <td>NaN</td>\n",
       "      <td>NaN</td>\n",
       "      <td>NaN</td>\n",
       "      <td>NaN</td>\n",
       "      <td>NaN</td>\n",
       "    </tr>\n",
       "    <tr>\n",
       "      <th>2013-01-03</th>\n",
       "      <td>-2.050082</td>\n",
       "      <td>-2.281609</td>\n",
       "      <td>-1.415629</td>\n",
       "      <td>-6.0</td>\n",
       "      <td>-3.0</td>\n",
       "      <td>NaN</td>\n",
       "    </tr>\n",
       "    <tr>\n",
       "      <th>2013-01-04</th>\n",
       "      <td>-3.278468</td>\n",
       "      <td>-3.621267</td>\n",
       "      <td>-3.062605</td>\n",
       "      <td>-8.0</td>\n",
       "      <td>-6.0</td>\n",
       "      <td>NaN</td>\n",
       "    </tr>\n",
       "    <tr>\n",
       "      <th>2013-01-05</th>\n",
       "      <td>-5.045598</td>\n",
       "      <td>-5.691996</td>\n",
       "      <td>-5.566960</td>\n",
       "      <td>-10.0</td>\n",
       "      <td>-9.0</td>\n",
       "      <td>NaN</td>\n",
       "    </tr>\n",
       "    <tr>\n",
       "      <th>2013-01-06</th>\n",
       "      <td>NaN</td>\n",
       "      <td>NaN</td>\n",
       "      <td>NaN</td>\n",
       "      <td>NaN</td>\n",
       "      <td>NaN</td>\n",
       "      <td>NaN</td>\n",
       "    </tr>\n",
       "  </tbody>\n",
       "</table>\n",
       "</div>"
      ],
      "text/plain": [
       "                   A         B         C     D    F   E\n",
       "2013-01-01       NaN       NaN       NaN   NaN  NaN NaN\n",
       "2013-01-02       NaN       NaN       NaN   NaN  NaN NaN\n",
       "2013-01-03 -2.050082 -2.281609 -1.415629  -6.0 -3.0 NaN\n",
       "2013-01-04 -3.278468 -3.621267 -3.062605  -8.0 -6.0 NaN\n",
       "2013-01-05 -5.045598 -5.691996 -5.566960 -10.0 -9.0 NaN\n",
       "2013-01-06       NaN       NaN       NaN   NaN  NaN NaN"
      ]
     },
     "execution_count": 76,
     "metadata": {},
     "output_type": "execute_result"
    }
   ],
   "source": [
    "df.sub(s, axis='index')"
   ]
  },
  {
   "cell_type": "code",
   "execution_count": 77,
   "id": "c6800625",
   "metadata": {},
   "outputs": [
    {
     "data": {
      "text/html": [
       "<div>\n",
       "<style scoped>\n",
       "    .dataframe tbody tr th:only-of-type {\n",
       "        vertical-align: middle;\n",
       "    }\n",
       "\n",
       "    .dataframe tbody tr th {\n",
       "        vertical-align: top;\n",
       "    }\n",
       "\n",
       "    .dataframe thead th {\n",
       "        text-align: right;\n",
       "    }\n",
       "</style>\n",
       "<table border=\"1\" class=\"dataframe\">\n",
       "  <thead>\n",
       "    <tr style=\"text-align: right;\">\n",
       "      <th></th>\n",
       "      <th>A</th>\n",
       "      <th>B</th>\n",
       "      <th>C</th>\n",
       "      <th>D</th>\n",
       "      <th>F</th>\n",
       "      <th>E</th>\n",
       "    </tr>\n",
       "  </thead>\n",
       "  <tbody>\n",
       "    <tr>\n",
       "      <th>2013-01-01</th>\n",
       "      <td>0.000000</td>\n",
       "      <td>0.000000</td>\n",
       "      <td>-0.484570</td>\n",
       "      <td>-5</td>\n",
       "      <td>NaN</td>\n",
       "      <td>1.0</td>\n",
       "    </tr>\n",
       "    <tr>\n",
       "      <th>2013-01-02</th>\n",
       "      <td>-2.028032</td>\n",
       "      <td>-0.343961</td>\n",
       "      <td>-0.638126</td>\n",
       "      <td>-10</td>\n",
       "      <td>-1.0</td>\n",
       "      <td>2.0</td>\n",
       "    </tr>\n",
       "    <tr>\n",
       "      <th>2013-01-03</th>\n",
       "      <td>-3.078114</td>\n",
       "      <td>-1.625570</td>\n",
       "      <td>-1.053755</td>\n",
       "      <td>-15</td>\n",
       "      <td>-3.0</td>\n",
       "      <td>NaN</td>\n",
       "    </tr>\n",
       "    <tr>\n",
       "      <th>2013-01-04</th>\n",
       "      <td>-3.356581</td>\n",
       "      <td>-2.246837</td>\n",
       "      <td>-1.116360</td>\n",
       "      <td>-20</td>\n",
       "      <td>-6.0</td>\n",
       "      <td>NaN</td>\n",
       "    </tr>\n",
       "    <tr>\n",
       "      <th>2013-01-05</th>\n",
       "      <td>-3.402179</td>\n",
       "      <td>-2.938834</td>\n",
       "      <td>-1.683320</td>\n",
       "      <td>-25</td>\n",
       "      <td>-10.0</td>\n",
       "      <td>NaN</td>\n",
       "    </tr>\n",
       "    <tr>\n",
       "      <th>2013-01-06</th>\n",
       "      <td>-4.848267</td>\n",
       "      <td>-3.573284</td>\n",
       "      <td>-2.720991</td>\n",
       "      <td>-30</td>\n",
       "      <td>-15.0</td>\n",
       "      <td>NaN</td>\n",
       "    </tr>\n",
       "  </tbody>\n",
       "</table>\n",
       "</div>"
      ],
      "text/plain": [
       "                   A         B         C   D     F    E\n",
       "2013-01-01  0.000000  0.000000 -0.484570  -5   NaN  1.0\n",
       "2013-01-02 -2.028032 -0.343961 -0.638126 -10  -1.0  2.0\n",
       "2013-01-03 -3.078114 -1.625570 -1.053755 -15  -3.0  NaN\n",
       "2013-01-04 -3.356581 -2.246837 -1.116360 -20  -6.0  NaN\n",
       "2013-01-05 -3.402179 -2.938834 -1.683320 -25 -10.0  NaN\n",
       "2013-01-06 -4.848267 -3.573284 -2.720991 -30 -15.0  NaN"
      ]
     },
     "execution_count": 77,
     "metadata": {},
     "output_type": "execute_result"
    }
   ],
   "source": [
    "df.apply(np.cumsum) # numpy 의 cumsum 함수 적용"
   ]
  },
  {
   "cell_type": "code",
   "execution_count": 79,
   "id": "1a068648",
   "metadata": {},
   "outputs": [
    {
     "data": {
      "text/plain": [
       "A    2.028032\n",
       "B    1.281609\n",
       "C    0.975067\n",
       "D    0.000000\n",
       "F    4.000000\n",
       "E    0.000000\n",
       "dtype: float64"
      ]
     },
     "execution_count": 79,
     "metadata": {},
     "output_type": "execute_result"
    }
   ],
   "source": [
    "df.apply(lambda x: x.max() - x.min()) #람다함수 적용 ( 각 열의 최댓값-최솟값 계산)"
   ]
  },
  {
   "cell_type": "code",
   "execution_count": 80,
   "id": "8c9a1e08",
   "metadata": {},
   "outputs": [],
   "source": [
    "s = pd.Series(np.random.randint(0,7, size = 10))"
   ]
  },
  {
   "cell_type": "code",
   "execution_count": 81,
   "id": "0fe8dc83",
   "metadata": {},
   "outputs": [
    {
     "data": {
      "text/plain": [
       "0    3\n",
       "1    6\n",
       "2    4\n",
       "3    5\n",
       "4    0\n",
       "5    6\n",
       "6    4\n",
       "7    5\n",
       "8    6\n",
       "9    6\n",
       "dtype: int32"
      ]
     },
     "execution_count": 81,
     "metadata": {},
     "output_type": "execute_result"
    }
   ],
   "source": [
    "s"
   ]
  },
  {
   "cell_type": "code",
   "execution_count": 82,
   "id": "f4ec2f59",
   "metadata": {},
   "outputs": [
    {
     "data": {
      "text/plain": [
       "6    4\n",
       "4    2\n",
       "5    2\n",
       "3    1\n",
       "0    1\n",
       "dtype: int64"
      ]
     },
     "execution_count": 82,
     "metadata": {},
     "output_type": "execute_result"
    }
   ],
   "source": [
    "s.value_counts() # value_counts 로 각 값의 분포를 알 수 있다."
   ]
  },
  {
   "cell_type": "code",
   "execution_count": 83,
   "id": "d941459f",
   "metadata": {},
   "outputs": [],
   "source": [
    "s = pd.Series(['A', 'B', 'C', 'Aaba', 'Baca', np.nan, 'CABA', 'dog', 'cat'])"
   ]
  },
  {
   "cell_type": "code",
   "execution_count": 84,
   "id": "901860fb",
   "metadata": {},
   "outputs": [
    {
     "data": {
      "text/plain": [
       "0       a\n",
       "1       b\n",
       "2       c\n",
       "3    aaba\n",
       "4    baca\n",
       "5     NaN\n",
       "6    caba\n",
       "7     dog\n",
       "8     cat\n",
       "dtype: object"
      ]
     },
     "execution_count": 84,
     "metadata": {},
     "output_type": "execute_result"
    }
   ],
   "source": [
    "s.str.lower() # 모든 문자를 소문자로 변경"
   ]
  },
  {
   "cell_type": "code",
   "execution_count": 85,
   "id": "c1c4fa04",
   "metadata": {},
   "outputs": [],
   "source": [
    "df = pd.DataFrame(np.random.randn(10, 4))"
   ]
  },
  {
   "cell_type": "code",
   "execution_count": 86,
   "id": "dcb69405",
   "metadata": {},
   "outputs": [
    {
     "data": {
      "text/html": [
       "<div>\n",
       "<style scoped>\n",
       "    .dataframe tbody tr th:only-of-type {\n",
       "        vertical-align: middle;\n",
       "    }\n",
       "\n",
       "    .dataframe tbody tr th {\n",
       "        vertical-align: top;\n",
       "    }\n",
       "\n",
       "    .dataframe thead th {\n",
       "        text-align: right;\n",
       "    }\n",
       "</style>\n",
       "<table border=\"1\" class=\"dataframe\">\n",
       "  <thead>\n",
       "    <tr style=\"text-align: right;\">\n",
       "      <th></th>\n",
       "      <th>0</th>\n",
       "      <th>1</th>\n",
       "      <th>2</th>\n",
       "      <th>3</th>\n",
       "    </tr>\n",
       "  </thead>\n",
       "  <tbody>\n",
       "    <tr>\n",
       "      <th>0</th>\n",
       "      <td>-0.980790</td>\n",
       "      <td>-0.565477</td>\n",
       "      <td>-0.152286</td>\n",
       "      <td>-1.415464</td>\n",
       "    </tr>\n",
       "    <tr>\n",
       "      <th>1</th>\n",
       "      <td>0.388114</td>\n",
       "      <td>-2.282572</td>\n",
       "      <td>-0.951545</td>\n",
       "      <td>0.987910</td>\n",
       "    </tr>\n",
       "    <tr>\n",
       "      <th>2</th>\n",
       "      <td>-0.879561</td>\n",
       "      <td>-0.653351</td>\n",
       "      <td>0.318086</td>\n",
       "      <td>0.312837</td>\n",
       "    </tr>\n",
       "    <tr>\n",
       "      <th>3</th>\n",
       "      <td>-0.356690</td>\n",
       "      <td>0.676962</td>\n",
       "      <td>1.334488</td>\n",
       "      <td>-0.620570</td>\n",
       "    </tr>\n",
       "    <tr>\n",
       "      <th>4</th>\n",
       "      <td>0.021074</td>\n",
       "      <td>0.698269</td>\n",
       "      <td>1.274051</td>\n",
       "      <td>-1.534792</td>\n",
       "    </tr>\n",
       "    <tr>\n",
       "      <th>5</th>\n",
       "      <td>1.055511</td>\n",
       "      <td>-0.369313</td>\n",
       "      <td>1.448603</td>\n",
       "      <td>-0.854302</td>\n",
       "    </tr>\n",
       "    <tr>\n",
       "      <th>6</th>\n",
       "      <td>0.154684</td>\n",
       "      <td>1.894781</td>\n",
       "      <td>-0.819639</td>\n",
       "      <td>0.611714</td>\n",
       "    </tr>\n",
       "    <tr>\n",
       "      <th>7</th>\n",
       "      <td>-2.602388</td>\n",
       "      <td>0.382186</td>\n",
       "      <td>-0.458782</td>\n",
       "      <td>0.386384</td>\n",
       "    </tr>\n",
       "    <tr>\n",
       "      <th>8</th>\n",
       "      <td>-1.157401</td>\n",
       "      <td>1.266547</td>\n",
       "      <td>1.311579</td>\n",
       "      <td>-0.612959</td>\n",
       "    </tr>\n",
       "    <tr>\n",
       "      <th>9</th>\n",
       "      <td>0.910061</td>\n",
       "      <td>0.501211</td>\n",
       "      <td>-0.595853</td>\n",
       "      <td>-1.062621</td>\n",
       "    </tr>\n",
       "  </tbody>\n",
       "</table>\n",
       "</div>"
      ],
      "text/plain": [
       "          0         1         2         3\n",
       "0 -0.980790 -0.565477 -0.152286 -1.415464\n",
       "1  0.388114 -2.282572 -0.951545  0.987910\n",
       "2 -0.879561 -0.653351  0.318086  0.312837\n",
       "3 -0.356690  0.676962  1.334488 -0.620570\n",
       "4  0.021074  0.698269  1.274051 -1.534792\n",
       "5  1.055511 -0.369313  1.448603 -0.854302\n",
       "6  0.154684  1.894781 -0.819639  0.611714\n",
       "7 -2.602388  0.382186 -0.458782  0.386384\n",
       "8 -1.157401  1.266547  1.311579 -0.612959\n",
       "9  0.910061  0.501211 -0.595853 -1.062621"
      ]
     },
     "execution_count": 86,
     "metadata": {},
     "output_type": "execute_result"
    }
   ],
   "source": [
    "df"
   ]
  },
  {
   "cell_type": "code",
   "execution_count": 87,
   "id": "97519a86",
   "metadata": {},
   "outputs": [],
   "source": [
    "pieces = [df[:3], df[3:7], df[7:]] # df 를 3조각으로 나눈다"
   ]
  },
  {
   "cell_type": "code",
   "execution_count": 88,
   "id": "d5766795",
   "metadata": {},
   "outputs": [
    {
     "data": {
      "text/html": [
       "<div>\n",
       "<style scoped>\n",
       "    .dataframe tbody tr th:only-of-type {\n",
       "        vertical-align: middle;\n",
       "    }\n",
       "\n",
       "    .dataframe tbody tr th {\n",
       "        vertical-align: top;\n",
       "    }\n",
       "\n",
       "    .dataframe thead th {\n",
       "        text-align: right;\n",
       "    }\n",
       "</style>\n",
       "<table border=\"1\" class=\"dataframe\">\n",
       "  <thead>\n",
       "    <tr style=\"text-align: right;\">\n",
       "      <th></th>\n",
       "      <th>0</th>\n",
       "      <th>1</th>\n",
       "      <th>2</th>\n",
       "      <th>3</th>\n",
       "    </tr>\n",
       "  </thead>\n",
       "  <tbody>\n",
       "    <tr>\n",
       "      <th>0</th>\n",
       "      <td>-0.980790</td>\n",
       "      <td>-0.565477</td>\n",
       "      <td>-0.152286</td>\n",
       "      <td>-1.415464</td>\n",
       "    </tr>\n",
       "    <tr>\n",
       "      <th>1</th>\n",
       "      <td>0.388114</td>\n",
       "      <td>-2.282572</td>\n",
       "      <td>-0.951545</td>\n",
       "      <td>0.987910</td>\n",
       "    </tr>\n",
       "    <tr>\n",
       "      <th>2</th>\n",
       "      <td>-0.879561</td>\n",
       "      <td>-0.653351</td>\n",
       "      <td>0.318086</td>\n",
       "      <td>0.312837</td>\n",
       "    </tr>\n",
       "    <tr>\n",
       "      <th>3</th>\n",
       "      <td>-0.356690</td>\n",
       "      <td>0.676962</td>\n",
       "      <td>1.334488</td>\n",
       "      <td>-0.620570</td>\n",
       "    </tr>\n",
       "    <tr>\n",
       "      <th>4</th>\n",
       "      <td>0.021074</td>\n",
       "      <td>0.698269</td>\n",
       "      <td>1.274051</td>\n",
       "      <td>-1.534792</td>\n",
       "    </tr>\n",
       "    <tr>\n",
       "      <th>5</th>\n",
       "      <td>1.055511</td>\n",
       "      <td>-0.369313</td>\n",
       "      <td>1.448603</td>\n",
       "      <td>-0.854302</td>\n",
       "    </tr>\n",
       "    <tr>\n",
       "      <th>6</th>\n",
       "      <td>0.154684</td>\n",
       "      <td>1.894781</td>\n",
       "      <td>-0.819639</td>\n",
       "      <td>0.611714</td>\n",
       "    </tr>\n",
       "    <tr>\n",
       "      <th>7</th>\n",
       "      <td>-2.602388</td>\n",
       "      <td>0.382186</td>\n",
       "      <td>-0.458782</td>\n",
       "      <td>0.386384</td>\n",
       "    </tr>\n",
       "    <tr>\n",
       "      <th>8</th>\n",
       "      <td>-1.157401</td>\n",
       "      <td>1.266547</td>\n",
       "      <td>1.311579</td>\n",
       "      <td>-0.612959</td>\n",
       "    </tr>\n",
       "    <tr>\n",
       "      <th>9</th>\n",
       "      <td>0.910061</td>\n",
       "      <td>0.501211</td>\n",
       "      <td>-0.595853</td>\n",
       "      <td>-1.062621</td>\n",
       "    </tr>\n",
       "  </tbody>\n",
       "</table>\n",
       "</div>"
      ],
      "text/plain": [
       "          0         1         2         3\n",
       "0 -0.980790 -0.565477 -0.152286 -1.415464\n",
       "1  0.388114 -2.282572 -0.951545  0.987910\n",
       "2 -0.879561 -0.653351  0.318086  0.312837\n",
       "3 -0.356690  0.676962  1.334488 -0.620570\n",
       "4  0.021074  0.698269  1.274051 -1.534792\n",
       "5  1.055511 -0.369313  1.448603 -0.854302\n",
       "6  0.154684  1.894781 -0.819639  0.611714\n",
       "7 -2.602388  0.382186 -0.458782  0.386384\n",
       "8 -1.157401  1.266547  1.311579 -0.612959\n",
       "9  0.910061  0.501211 -0.595853 -1.062621"
      ]
     },
     "execution_count": 88,
     "metadata": {},
     "output_type": "execute_result"
    }
   ],
   "source": [
    "pd.concat(pieces) #df 를 다시 합친다"
   ]
  },
  {
   "cell_type": "code",
   "execution_count": 89,
   "id": "e259016a",
   "metadata": {},
   "outputs": [],
   "source": [
    "left = pd.DataFrame({'key': ['foo','foo'],'lval':[1,2]})"
   ]
  },
  {
   "cell_type": "code",
   "execution_count": 93,
   "id": "24612b1b",
   "metadata": {},
   "outputs": [],
   "source": [
    "right = pd.DataFrame({'key':['foo','foo'], 'rval':[4,5]})"
   ]
  },
  {
   "cell_type": "code",
   "execution_count": 94,
   "id": "f0774afe",
   "metadata": {},
   "outputs": [
    {
     "data": {
      "text/html": [
       "<div>\n",
       "<style scoped>\n",
       "    .dataframe tbody tr th:only-of-type {\n",
       "        vertical-align: middle;\n",
       "    }\n",
       "\n",
       "    .dataframe tbody tr th {\n",
       "        vertical-align: top;\n",
       "    }\n",
       "\n",
       "    .dataframe thead th {\n",
       "        text-align: right;\n",
       "    }\n",
       "</style>\n",
       "<table border=\"1\" class=\"dataframe\">\n",
       "  <thead>\n",
       "    <tr style=\"text-align: right;\">\n",
       "      <th></th>\n",
       "      <th>key</th>\n",
       "      <th>lval</th>\n",
       "    </tr>\n",
       "  </thead>\n",
       "  <tbody>\n",
       "    <tr>\n",
       "      <th>0</th>\n",
       "      <td>foo</td>\n",
       "      <td>1</td>\n",
       "    </tr>\n",
       "    <tr>\n",
       "      <th>1</th>\n",
       "      <td>foo</td>\n",
       "      <td>2</td>\n",
       "    </tr>\n",
       "  </tbody>\n",
       "</table>\n",
       "</div>"
      ],
      "text/plain": [
       "   key  lval\n",
       "0  foo     1\n",
       "1  foo     2"
      ]
     },
     "execution_count": 94,
     "metadata": {},
     "output_type": "execute_result"
    }
   ],
   "source": [
    "left"
   ]
  },
  {
   "cell_type": "code",
   "execution_count": 95,
   "id": "170b3ed8",
   "metadata": {},
   "outputs": [
    {
     "data": {
      "text/html": [
       "<div>\n",
       "<style scoped>\n",
       "    .dataframe tbody tr th:only-of-type {\n",
       "        vertical-align: middle;\n",
       "    }\n",
       "\n",
       "    .dataframe tbody tr th {\n",
       "        vertical-align: top;\n",
       "    }\n",
       "\n",
       "    .dataframe thead th {\n",
       "        text-align: right;\n",
       "    }\n",
       "</style>\n",
       "<table border=\"1\" class=\"dataframe\">\n",
       "  <thead>\n",
       "    <tr style=\"text-align: right;\">\n",
       "      <th></th>\n",
       "      <th>key</th>\n",
       "      <th>rval</th>\n",
       "    </tr>\n",
       "  </thead>\n",
       "  <tbody>\n",
       "    <tr>\n",
       "      <th>0</th>\n",
       "      <td>foo</td>\n",
       "      <td>4</td>\n",
       "    </tr>\n",
       "    <tr>\n",
       "      <th>1</th>\n",
       "      <td>foo</td>\n",
       "      <td>5</td>\n",
       "    </tr>\n",
       "  </tbody>\n",
       "</table>\n",
       "</div>"
      ],
      "text/plain": [
       "   key  rval\n",
       "0  foo     4\n",
       "1  foo     5"
      ]
     },
     "execution_count": 95,
     "metadata": {},
     "output_type": "execute_result"
    }
   ],
   "source": [
    "right # "
   ]
  },
  {
   "cell_type": "code",
   "execution_count": 97,
   "id": "d1e08704",
   "metadata": {},
   "outputs": [
    {
     "data": {
      "text/html": [
       "<div>\n",
       "<style scoped>\n",
       "    .dataframe tbody tr th:only-of-type {\n",
       "        vertical-align: middle;\n",
       "    }\n",
       "\n",
       "    .dataframe tbody tr th {\n",
       "        vertical-align: top;\n",
       "    }\n",
       "\n",
       "    .dataframe thead th {\n",
       "        text-align: right;\n",
       "    }\n",
       "</style>\n",
       "<table border=\"1\" class=\"dataframe\">\n",
       "  <thead>\n",
       "    <tr style=\"text-align: right;\">\n",
       "      <th></th>\n",
       "      <th>key</th>\n",
       "      <th>lval</th>\n",
       "      <th>rval</th>\n",
       "    </tr>\n",
       "  </thead>\n",
       "  <tbody>\n",
       "    <tr>\n",
       "      <th>0</th>\n",
       "      <td>foo</td>\n",
       "      <td>1</td>\n",
       "      <td>4</td>\n",
       "    </tr>\n",
       "    <tr>\n",
       "      <th>1</th>\n",
       "      <td>foo</td>\n",
       "      <td>1</td>\n",
       "      <td>5</td>\n",
       "    </tr>\n",
       "    <tr>\n",
       "      <th>2</th>\n",
       "      <td>foo</td>\n",
       "      <td>2</td>\n",
       "      <td>4</td>\n",
       "    </tr>\n",
       "    <tr>\n",
       "      <th>3</th>\n",
       "      <td>foo</td>\n",
       "      <td>2</td>\n",
       "      <td>5</td>\n",
       "    </tr>\n",
       "  </tbody>\n",
       "</table>\n",
       "</div>"
      ],
      "text/plain": [
       "   key  lval  rval\n",
       "0  foo     1     4\n",
       "1  foo     1     5\n",
       "2  foo     2     4\n",
       "3  foo     2     5"
      ]
     },
     "execution_count": 97,
     "metadata": {},
     "output_type": "execute_result"
    }
   ],
   "source": [
    "pd.merge(left, right, on='key') # SQL의 join과 같은 방식으로 데이터를 merge()로 결합"
   ]
  },
  {
   "cell_type": "code",
   "execution_count": 98,
   "id": "d0b6056d",
   "metadata": {},
   "outputs": [],
   "source": [
    "df = pd.DataFrame(np.random.randn(8, 4), columns=['A', 'B', 'C', 'D'])"
   ]
  },
  {
   "cell_type": "code",
   "execution_count": 99,
   "id": "c9b78b71",
   "metadata": {},
   "outputs": [
    {
     "data": {
      "text/html": [
       "<div>\n",
       "<style scoped>\n",
       "    .dataframe tbody tr th:only-of-type {\n",
       "        vertical-align: middle;\n",
       "    }\n",
       "\n",
       "    .dataframe tbody tr th {\n",
       "        vertical-align: top;\n",
       "    }\n",
       "\n",
       "    .dataframe thead th {\n",
       "        text-align: right;\n",
       "    }\n",
       "</style>\n",
       "<table border=\"1\" class=\"dataframe\">\n",
       "  <thead>\n",
       "    <tr style=\"text-align: right;\">\n",
       "      <th></th>\n",
       "      <th>A</th>\n",
       "      <th>B</th>\n",
       "      <th>C</th>\n",
       "      <th>D</th>\n",
       "    </tr>\n",
       "  </thead>\n",
       "  <tbody>\n",
       "    <tr>\n",
       "      <th>0</th>\n",
       "      <td>-0.817125</td>\n",
       "      <td>0.598743</td>\n",
       "      <td>0.594677</td>\n",
       "      <td>-0.057363</td>\n",
       "    </tr>\n",
       "    <tr>\n",
       "      <th>1</th>\n",
       "      <td>0.884680</td>\n",
       "      <td>-0.033687</td>\n",
       "      <td>-0.575746</td>\n",
       "      <td>-1.448753</td>\n",
       "    </tr>\n",
       "    <tr>\n",
       "      <th>2</th>\n",
       "      <td>-0.563345</td>\n",
       "      <td>0.603564</td>\n",
       "      <td>-0.114379</td>\n",
       "      <td>1.149306</td>\n",
       "    </tr>\n",
       "    <tr>\n",
       "      <th>3</th>\n",
       "      <td>-1.316877</td>\n",
       "      <td>0.534407</td>\n",
       "      <td>-2.031526</td>\n",
       "      <td>-0.238852</td>\n",
       "    </tr>\n",
       "    <tr>\n",
       "      <th>4</th>\n",
       "      <td>0.952328</td>\n",
       "      <td>0.420534</td>\n",
       "      <td>-0.955228</td>\n",
       "      <td>0.296828</td>\n",
       "    </tr>\n",
       "    <tr>\n",
       "      <th>5</th>\n",
       "      <td>-1.198430</td>\n",
       "      <td>-0.770167</td>\n",
       "      <td>-0.980345</td>\n",
       "      <td>-1.319123</td>\n",
       "    </tr>\n",
       "    <tr>\n",
       "      <th>6</th>\n",
       "      <td>-0.756657</td>\n",
       "      <td>-0.879340</td>\n",
       "      <td>-0.571500</td>\n",
       "      <td>0.297677</td>\n",
       "    </tr>\n",
       "    <tr>\n",
       "      <th>7</th>\n",
       "      <td>0.766789</td>\n",
       "      <td>-0.285086</td>\n",
       "      <td>0.721729</td>\n",
       "      <td>-0.581121</td>\n",
       "    </tr>\n",
       "  </tbody>\n",
       "</table>\n",
       "</div>"
      ],
      "text/plain": [
       "          A         B         C         D\n",
       "0 -0.817125  0.598743  0.594677 -0.057363\n",
       "1  0.884680 -0.033687 -0.575746 -1.448753\n",
       "2 -0.563345  0.603564 -0.114379  1.149306\n",
       "3 -1.316877  0.534407 -2.031526 -0.238852\n",
       "4  0.952328  0.420534 -0.955228  0.296828\n",
       "5 -1.198430 -0.770167 -0.980345 -1.319123\n",
       "6 -0.756657 -0.879340 -0.571500  0.297677\n",
       "7  0.766789 -0.285086  0.721729 -0.581121"
      ]
     },
     "execution_count": 99,
     "metadata": {},
     "output_type": "execute_result"
    }
   ],
   "source": [
    "df # 새로운 행 추가"
   ]
  },
  {
   "cell_type": "code",
   "execution_count": 100,
   "id": "f6324399",
   "metadata": {},
   "outputs": [],
   "source": [
    "s = df.iloc[3]"
   ]
  },
  {
   "cell_type": "code",
   "execution_count": 101,
   "id": "e25b486a",
   "metadata": {},
   "outputs": [
    {
     "name": "stderr",
     "output_type": "stream",
     "text": [
      "C:\\Users\\wjdrl\\AppData\\Local\\Temp/ipykernel_13260/840664371.py:1: FutureWarning: The frame.append method is deprecated and will be removed from pandas in a future version. Use pandas.concat instead.\n",
      "  df.append(s, ignore_index= True)\n"
     ]
    },
    {
     "data": {
      "text/html": [
       "<div>\n",
       "<style scoped>\n",
       "    .dataframe tbody tr th:only-of-type {\n",
       "        vertical-align: middle;\n",
       "    }\n",
       "\n",
       "    .dataframe tbody tr th {\n",
       "        vertical-align: top;\n",
       "    }\n",
       "\n",
       "    .dataframe thead th {\n",
       "        text-align: right;\n",
       "    }\n",
       "</style>\n",
       "<table border=\"1\" class=\"dataframe\">\n",
       "  <thead>\n",
       "    <tr style=\"text-align: right;\">\n",
       "      <th></th>\n",
       "      <th>A</th>\n",
       "      <th>B</th>\n",
       "      <th>C</th>\n",
       "      <th>D</th>\n",
       "    </tr>\n",
       "  </thead>\n",
       "  <tbody>\n",
       "    <tr>\n",
       "      <th>0</th>\n",
       "      <td>-0.817125</td>\n",
       "      <td>0.598743</td>\n",
       "      <td>0.594677</td>\n",
       "      <td>-0.057363</td>\n",
       "    </tr>\n",
       "    <tr>\n",
       "      <th>1</th>\n",
       "      <td>0.884680</td>\n",
       "      <td>-0.033687</td>\n",
       "      <td>-0.575746</td>\n",
       "      <td>-1.448753</td>\n",
       "    </tr>\n",
       "    <tr>\n",
       "      <th>2</th>\n",
       "      <td>-0.563345</td>\n",
       "      <td>0.603564</td>\n",
       "      <td>-0.114379</td>\n",
       "      <td>1.149306</td>\n",
       "    </tr>\n",
       "    <tr>\n",
       "      <th>3</th>\n",
       "      <td>-1.316877</td>\n",
       "      <td>0.534407</td>\n",
       "      <td>-2.031526</td>\n",
       "      <td>-0.238852</td>\n",
       "    </tr>\n",
       "    <tr>\n",
       "      <th>4</th>\n",
       "      <td>0.952328</td>\n",
       "      <td>0.420534</td>\n",
       "      <td>-0.955228</td>\n",
       "      <td>0.296828</td>\n",
       "    </tr>\n",
       "    <tr>\n",
       "      <th>5</th>\n",
       "      <td>-1.198430</td>\n",
       "      <td>-0.770167</td>\n",
       "      <td>-0.980345</td>\n",
       "      <td>-1.319123</td>\n",
       "    </tr>\n",
       "    <tr>\n",
       "      <th>6</th>\n",
       "      <td>-0.756657</td>\n",
       "      <td>-0.879340</td>\n",
       "      <td>-0.571500</td>\n",
       "      <td>0.297677</td>\n",
       "    </tr>\n",
       "    <tr>\n",
       "      <th>7</th>\n",
       "      <td>0.766789</td>\n",
       "      <td>-0.285086</td>\n",
       "      <td>0.721729</td>\n",
       "      <td>-0.581121</td>\n",
       "    </tr>\n",
       "    <tr>\n",
       "      <th>8</th>\n",
       "      <td>-1.316877</td>\n",
       "      <td>0.534407</td>\n",
       "      <td>-2.031526</td>\n",
       "      <td>-0.238852</td>\n",
       "    </tr>\n",
       "  </tbody>\n",
       "</table>\n",
       "</div>"
      ],
      "text/plain": [
       "          A         B         C         D\n",
       "0 -0.817125  0.598743  0.594677 -0.057363\n",
       "1  0.884680 -0.033687 -0.575746 -1.448753\n",
       "2 -0.563345  0.603564 -0.114379  1.149306\n",
       "3 -1.316877  0.534407 -2.031526 -0.238852\n",
       "4  0.952328  0.420534 -0.955228  0.296828\n",
       "5 -1.198430 -0.770167 -0.980345 -1.319123\n",
       "6 -0.756657 -0.879340 -0.571500  0.297677\n",
       "7  0.766789 -0.285086  0.721729 -0.581121\n",
       "8 -1.316877  0.534407 -2.031526 -0.238852"
      ]
     },
     "execution_count": 101,
     "metadata": {},
     "output_type": "execute_result"
    }
   ],
   "source": [
    "df.append(s, ignore_index= True)"
   ]
  },
  {
   "cell_type": "code",
   "execution_count": 103,
   "id": "f5190b4f",
   "metadata": {},
   "outputs": [],
   "source": [
    "df = pd.DataFrame({'A':['foo','bar','foo','bar',\n",
    "                       'foo','bar','foo','foo'],\n",
    "                  'B':['one','one','two','three',\n",
    "                      'two','two','one','three'],\n",
    "                  'C':np.random.randn(8),\n",
    "                  'D':np.random.randn(8)})"
   ]
  },
  {
   "cell_type": "code",
   "execution_count": 104,
   "id": "a9babab4",
   "metadata": {},
   "outputs": [
    {
     "data": {
      "text/html": [
       "<div>\n",
       "<style scoped>\n",
       "    .dataframe tbody tr th:only-of-type {\n",
       "        vertical-align: middle;\n",
       "    }\n",
       "\n",
       "    .dataframe tbody tr th {\n",
       "        vertical-align: top;\n",
       "    }\n",
       "\n",
       "    .dataframe thead th {\n",
       "        text-align: right;\n",
       "    }\n",
       "</style>\n",
       "<table border=\"1\" class=\"dataframe\">\n",
       "  <thead>\n",
       "    <tr style=\"text-align: right;\">\n",
       "      <th></th>\n",
       "      <th>A</th>\n",
       "      <th>B</th>\n",
       "      <th>C</th>\n",
       "      <th>D</th>\n",
       "    </tr>\n",
       "  </thead>\n",
       "  <tbody>\n",
       "    <tr>\n",
       "      <th>0</th>\n",
       "      <td>foo</td>\n",
       "      <td>one</td>\n",
       "      <td>0.510730</td>\n",
       "      <td>-0.651968</td>\n",
       "    </tr>\n",
       "    <tr>\n",
       "      <th>1</th>\n",
       "      <td>bar</td>\n",
       "      <td>one</td>\n",
       "      <td>-0.265784</td>\n",
       "      <td>1.084557</td>\n",
       "    </tr>\n",
       "    <tr>\n",
       "      <th>2</th>\n",
       "      <td>foo</td>\n",
       "      <td>two</td>\n",
       "      <td>1.804348</td>\n",
       "      <td>-1.031119</td>\n",
       "    </tr>\n",
       "    <tr>\n",
       "      <th>3</th>\n",
       "      <td>bar</td>\n",
       "      <td>three</td>\n",
       "      <td>0.546307</td>\n",
       "      <td>0.031326</td>\n",
       "    </tr>\n",
       "    <tr>\n",
       "      <th>4</th>\n",
       "      <td>foo</td>\n",
       "      <td>two</td>\n",
       "      <td>-1.069148</td>\n",
       "      <td>-1.395102</td>\n",
       "    </tr>\n",
       "    <tr>\n",
       "      <th>5</th>\n",
       "      <td>bar</td>\n",
       "      <td>two</td>\n",
       "      <td>-1.802521</td>\n",
       "      <td>-0.377568</td>\n",
       "    </tr>\n",
       "    <tr>\n",
       "      <th>6</th>\n",
       "      <td>foo</td>\n",
       "      <td>one</td>\n",
       "      <td>-0.411380</td>\n",
       "      <td>-1.271970</td>\n",
       "    </tr>\n",
       "    <tr>\n",
       "      <th>7</th>\n",
       "      <td>foo</td>\n",
       "      <td>three</td>\n",
       "      <td>-1.028133</td>\n",
       "      <td>0.231374</td>\n",
       "    </tr>\n",
       "  </tbody>\n",
       "</table>\n",
       "</div>"
      ],
      "text/plain": [
       "     A      B         C         D\n",
       "0  foo    one  0.510730 -0.651968\n",
       "1  bar    one -0.265784  1.084557\n",
       "2  foo    two  1.804348 -1.031119\n",
       "3  bar  three  0.546307  0.031326\n",
       "4  foo    two -1.069148 -1.395102\n",
       "5  bar    two -1.802521 -0.377568\n",
       "6  foo    one -0.411380 -1.271970\n",
       "7  foo  three -1.028133  0.231374"
      ]
     },
     "execution_count": 104,
     "metadata": {},
     "output_type": "execute_result"
    }
   ],
   "source": [
    "df"
   ]
  },
  {
   "cell_type": "code",
   "execution_count": 105,
   "id": "83dbc589",
   "metadata": {},
   "outputs": [
    {
     "data": {
      "text/html": [
       "<div>\n",
       "<style scoped>\n",
       "    .dataframe tbody tr th:only-of-type {\n",
       "        vertical-align: middle;\n",
       "    }\n",
       "\n",
       "    .dataframe tbody tr th {\n",
       "        vertical-align: top;\n",
       "    }\n",
       "\n",
       "    .dataframe thead th {\n",
       "        text-align: right;\n",
       "    }\n",
       "</style>\n",
       "<table border=\"1\" class=\"dataframe\">\n",
       "  <thead>\n",
       "    <tr style=\"text-align: right;\">\n",
       "      <th></th>\n",
       "      <th>C</th>\n",
       "      <th>D</th>\n",
       "    </tr>\n",
       "    <tr>\n",
       "      <th>A</th>\n",
       "      <th></th>\n",
       "      <th></th>\n",
       "    </tr>\n",
       "  </thead>\n",
       "  <tbody>\n",
       "    <tr>\n",
       "      <th>bar</th>\n",
       "      <td>-1.521998</td>\n",
       "      <td>0.738315</td>\n",
       "    </tr>\n",
       "    <tr>\n",
       "      <th>foo</th>\n",
       "      <td>-0.193584</td>\n",
       "      <td>-4.118785</td>\n",
       "    </tr>\n",
       "  </tbody>\n",
       "</table>\n",
       "</div>"
      ],
      "text/plain": [
       "            C         D\n",
       "A                      \n",
       "bar -1.521998  0.738315\n",
       "foo -0.193584 -4.118785"
      ]
     },
     "execution_count": 105,
     "metadata": {},
     "output_type": "execute_result"
    }
   ],
   "source": [
    "df.groupby('A').sum()"
   ]
  },
  {
   "cell_type": "code",
   "execution_count": 106,
   "id": "9cc5bded",
   "metadata": {},
   "outputs": [],
   "source": [
    "# 그룹화는 여러 기준에 따라 데이터를 여러 기준으로 분할하거나 각 그룹에 독립적으로   함수를 적용하거나 연산의 결과물들을 하나의 자료구조로 결합하는 것을 의미한다"
   ]
  },
  {
   "cell_type": "code",
   "execution_count": 107,
   "id": "ac15cd4c",
   "metadata": {},
   "outputs": [
    {
     "data": {
      "text/html": [
       "<div>\n",
       "<style scoped>\n",
       "    .dataframe tbody tr th:only-of-type {\n",
       "        vertical-align: middle;\n",
       "    }\n",
       "\n",
       "    .dataframe tbody tr th {\n",
       "        vertical-align: top;\n",
       "    }\n",
       "\n",
       "    .dataframe thead th {\n",
       "        text-align: right;\n",
       "    }\n",
       "</style>\n",
       "<table border=\"1\" class=\"dataframe\">\n",
       "  <thead>\n",
       "    <tr style=\"text-align: right;\">\n",
       "      <th></th>\n",
       "      <th></th>\n",
       "      <th>C</th>\n",
       "      <th>D</th>\n",
       "    </tr>\n",
       "    <tr>\n",
       "      <th>A</th>\n",
       "      <th>B</th>\n",
       "      <th></th>\n",
       "      <th></th>\n",
       "    </tr>\n",
       "  </thead>\n",
       "  <tbody>\n",
       "    <tr>\n",
       "      <th rowspan=\"3\" valign=\"top\">bar</th>\n",
       "      <th>one</th>\n",
       "      <td>-0.265784</td>\n",
       "      <td>1.084557</td>\n",
       "    </tr>\n",
       "    <tr>\n",
       "      <th>three</th>\n",
       "      <td>0.546307</td>\n",
       "      <td>0.031326</td>\n",
       "    </tr>\n",
       "    <tr>\n",
       "      <th>two</th>\n",
       "      <td>-1.802521</td>\n",
       "      <td>-0.377568</td>\n",
       "    </tr>\n",
       "    <tr>\n",
       "      <th rowspan=\"3\" valign=\"top\">foo</th>\n",
       "      <th>one</th>\n",
       "      <td>0.099350</td>\n",
       "      <td>-1.923938</td>\n",
       "    </tr>\n",
       "    <tr>\n",
       "      <th>three</th>\n",
       "      <td>-1.028133</td>\n",
       "      <td>0.231374</td>\n",
       "    </tr>\n",
       "    <tr>\n",
       "      <th>two</th>\n",
       "      <td>0.735199</td>\n",
       "      <td>-2.426220</td>\n",
       "    </tr>\n",
       "  </tbody>\n",
       "</table>\n",
       "</div>"
      ],
      "text/plain": [
       "                  C         D\n",
       "A   B                        \n",
       "bar one   -0.265784  1.084557\n",
       "    three  0.546307  0.031326\n",
       "    two   -1.802521 -0.377568\n",
       "foo one    0.099350 -1.923938\n",
       "    three -1.028133  0.231374\n",
       "    two    0.735199 -2.426220"
      ]
     },
     "execution_count": 107,
     "metadata": {},
     "output_type": "execute_result"
    }
   ],
   "source": [
    "df.groupby(['A', 'B']).sum()"
   ]
  }
 ],
 "metadata": {
  "kernelspec": {
   "display_name": "Python 3 (ipykernel)",
   "language": "python",
   "name": "python3"
  },
  "language_info": {
   "codemirror_mode": {
    "name": "ipython",
    "version": 3
   },
   "file_extension": ".py",
   "mimetype": "text/x-python",
   "name": "python",
   "nbconvert_exporter": "python",
   "pygments_lexer": "ipython3",
   "version": "3.9.7"
  }
 },
 "nbformat": 4,
 "nbformat_minor": 5
}
