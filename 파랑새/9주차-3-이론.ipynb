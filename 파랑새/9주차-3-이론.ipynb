{
 "cells": [
  {
   "cell_type": "code",
   "execution_count": 1,
   "id": "f9a06621",
   "metadata": {},
   "outputs": [],
   "source": [
    "# numpy 유니버셜 함수"
   ]
  },
  {
   "cell_type": "code",
   "execution_count": null,
   "id": "d1152181",
   "metadata": {},
   "outputs": [],
   "source": [
    "#시계열 데이터를 Numpy Universal 함수로 분석\n"
   ]
  }
 ],
 "metadata": {
  "kernelspec": {
   "display_name": "Python 3 (ipykernel)",
   "language": "python",
   "name": "python3"
  },
  "language_info": {
   "codemirror_mode": {
    "name": "ipython",
    "version": 3
   },
   "file_extension": ".py",
   "mimetype": "text/x-python",
   "name": "python",
   "nbconvert_exporter": "python",
   "pygments_lexer": "ipython3",
   "version": "3.9.7"
  }
 },
 "nbformat": 4,
 "nbformat_minor": 5
}
