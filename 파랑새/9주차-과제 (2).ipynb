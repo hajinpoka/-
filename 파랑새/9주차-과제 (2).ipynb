{
 "cells": [
  {
   "cell_type": "code",
   "execution_count": 3,
   "id": "33e66935",
   "metadata": {},
   "outputs": [
    {
     "name": "stdout",
     "output_type": "stream",
     "text": [
      "10 5 -10 7 8 3 -5 -1 0 1\n",
      "Avg= 1.80, Var=34.16, Std_dev= 5.84\n"
     ]
    }
   ],
   "source": [
    "import math\n",
    "Sq_diff_sum = 0\n",
    "\n",
    "n = list(map(int, input().split()))\n",
    "\n",
    "for i in range(len(n)): \n",
    "    diff = n[i] - Avg\n",
    "    sq_diff = diff * diff\n",
    "    Sq_diff_sum += sq_diff\n",
    "    \n",
    "Var = Sq_diff_sum / len(n)\n",
    "Std_dev = math.sqrt(Var)\n",
    "Avg = sum(n) / len(n)\n",
    "\n",
    "print(\"Avg={:5.2f}, Var={:5.2f}, Std_dev={:5.2f}\".format(Avg, Var, Std_dev))"
   ]
  }
 ],
 "metadata": {
  "kernelspec": {
   "display_name": "Python 3 (ipykernel)",
   "language": "python",
   "name": "python3"
  },
  "language_info": {
   "codemirror_mode": {
    "name": "ipython",
    "version": 3
   },
   "file_extension": ".py",
   "mimetype": "text/x-python",
   "name": "python",
   "nbconvert_exporter": "python",
   "pygments_lexer": "ipython3",
   "version": "3.9.7"
  }
 },
 "nbformat": 4,
 "nbformat_minor": 5
}
