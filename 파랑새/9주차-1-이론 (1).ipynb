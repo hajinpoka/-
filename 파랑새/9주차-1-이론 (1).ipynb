{
 "cells": [
  {
   "cell_type": "code",
   "execution_count": 7,
   "id": "42705477",
   "metadata": {},
   "outputs": [],
   "source": [
    "import math\n",
    "L = [-2.5, 0.2, 3.4, 3.6, 2.7, 2.2, 1.4, 7.0, 7.9, 3.2, 2.2, 3.3, \n",
    "     2.7, 2.1, 1.6, 0.9, 0.3, 1.4, 3.1, 3.2, \n",
    "     4.6, 1.9, 2.9, 5.0, 6.1, 7.2, 6.7, 6.2, 7.4]"
   ]
  },
  {
   "cell_type": "code",
   "execution_count": 10,
   "id": "784597e4",
   "metadata": {},
   "outputs": [
    {
     "name": "stdout",
     "output_type": "stream",
     "text": [
      "Min=-2.50, Max=7.90\n"
     ]
    }
   ],
   "source": [
    "#최대, 최소 구하기 알고리즘\n",
    "Min = Max = L[0] # 두개의 변수\n",
    "for i in range(1, len(L)):\n",
    "    if L[i] < Min:\n",
    "        Min = L[i]\n",
    "    if L[i] > Max:\n",
    "        Max = L[i]\n",
    "\n",
    "print(\"Min={:.2f}, Max={:.2f}\".format(Min, Max))"
   ]
  },
  {
   "cell_type": "code",
   "execution_count": 11,
   "id": "e1e3cbf5",
   "metadata": {},
   "outputs": [
    {
     "name": "stdout",
     "output_type": "stream",
     "text": [
      "Avg= 3.38, Var= 6.00, Std_dev= 2.45\n"
     ]
    }
   ],
   "source": [
    "# 평균, 분산, 표준편차 구하기 알고리즘\n",
    "Sum = 0\n",
    "for i in range(len(L)): # 평균 \n",
    "    Sum += L[i]\n",
    "Avg = Sum / len(L)\n",
    "\n",
    "Sq_diff_sum = 0\n",
    "for i in range(len(L)): \n",
    "    diff = L[i] - Avg\n",
    "    sq_diff = diff * diff\n",
    "    Sq_diff_sum += sq_diff\n",
    "Var = Sq_diff_sum / len(L) # 분산\n",
    "Std_dev = math.sqrt(Var) # 표준편차\n",
    "\n",
    "print(\"Avg={:5.2f}, Var={:5.2f}, Std_dev={:5.2f}\".format(Avg, Var, Std_dev))"
   ]
  },
  {
   "cell_type": "code",
   "execution_count": 16,
   "id": "f6d03509",
   "metadata": {},
   "outputs": [
    {
     "name": "stdout",
     "output_type": "stream",
     "text": [
      "List of datd: [-2.5, 0.2, 3.4, 3.6, 2.7, 2.2, 1.4, 7.0, 7.9, 3.2, 2.2, 3.3, 2.7, 2.1, 1.6, 0.9, 0.3, 1.4, 3.1, 3.2, 4.6, 1.9, 2.9, 5.0, 6.1, 7.2, 6.7, 6.2, 7.4]\n"
     ]
    },
    {
     "ename": "UnboundLocalError",
     "evalue": "local variable 'sq_diff_sum' referenced before assignment",
     "output_type": "error",
     "traceback": [
      "\u001b[1;31m---------------------------------------------------------------------------\u001b[0m",
      "\u001b[1;31mUnboundLocalError\u001b[0m                         Traceback (most recent call last)",
      "\u001b[1;32m~\\AppData\\Local\\Temp/ipykernel_17688/2681480148.py\u001b[0m in \u001b[0;36m<module>\u001b[1;34m\u001b[0m\n\u001b[0;32m     18\u001b[0m \u001b[0mprint\u001b[0m\u001b[1;33m(\u001b[0m\u001b[1;34m\"List of datd:\"\u001b[0m\u001b[1;33m,\u001b[0m \u001b[0mL\u001b[0m\u001b[1;33m)\u001b[0m\u001b[1;33m\u001b[0m\u001b[1;33m\u001b[0m\u001b[0m\n\u001b[0;32m     19\u001b[0m \u001b[1;33m\u001b[0m\u001b[0m\n\u001b[1;32m---> 20\u001b[1;33m \u001b[0mMin\u001b[0m\u001b[1;33m,\u001b[0m \u001b[0mMax\u001b[0m\u001b[1;33m,\u001b[0m \u001b[0mAvg\u001b[0m\u001b[1;33m,\u001b[0m \u001b[0mVar\u001b[0m\u001b[1;33m,\u001b[0m \u001b[0mStd_dev\u001b[0m \u001b[1;33m=\u001b[0m \u001b[0mstatistics\u001b[0m\u001b[1;33m(\u001b[0m\u001b[0mL\u001b[0m\u001b[1;33m)\u001b[0m\u001b[1;33m\u001b[0m\u001b[1;33m\u001b[0m\u001b[0m\n\u001b[0m\u001b[0;32m     21\u001b[0m \u001b[0mprint\u001b[0m\u001b[1;33m(\u001b[0m\u001b[1;34m\"Min={:.2f}, Max={:.2f}\"\u001b[0m\u001b[1;33m.\u001b[0m\u001b[0mformat\u001b[0m\u001b[1;33m(\u001b[0m\u001b[0mMin\u001b[0m\u001b[1;33m,\u001b[0m \u001b[0mMax\u001b[0m\u001b[1;33m)\u001b[0m\u001b[1;33m)\u001b[0m\u001b[1;33m\u001b[0m\u001b[1;33m\u001b[0m\u001b[0m\n\u001b[0;32m     22\u001b[0m \u001b[0mprint\u001b[0m\u001b[1;33m(\u001b[0m\u001b[1;34m\"Avg={:5.2f}, Var={:5.2f}, Std_dev={:5.2f}\"\u001b[0m\u001b[1;33m.\u001b[0m\u001b[0mformat\u001b[0m\u001b[1;33m(\u001b[0m\u001b[0mAvg\u001b[0m\u001b[1;33m,\u001b[0m \u001b[0mVar\u001b[0m\u001b[1;33m,\u001b[0m \u001b[0mStd_dev\u001b[0m\u001b[1;33m)\u001b[0m\u001b[1;33m)\u001b[0m\u001b[1;33m\u001b[0m\u001b[1;33m\u001b[0m\u001b[0m\n",
      "\u001b[1;32m~\\AppData\\Local\\Temp/ipykernel_17688/2681480148.py\u001b[0m in \u001b[0;36mstatistics\u001b[1;34m(L)\u001b[0m\n\u001b[0;32m      7\u001b[0m     \u001b[1;32mfor\u001b[0m \u001b[0mi\u001b[0m \u001b[1;32min\u001b[0m \u001b[0mrange\u001b[0m\u001b[1;33m(\u001b[0m\u001b[0mlen\u001b[0m\u001b[1;33m(\u001b[0m\u001b[0mL\u001b[0m\u001b[1;33m)\u001b[0m\u001b[1;33m)\u001b[0m\u001b[1;33m:\u001b[0m\u001b[1;33m\u001b[0m\u001b[1;33m\u001b[0m\u001b[0m\n\u001b[0;32m      8\u001b[0m         \u001b[0mdiff\u001b[0m \u001b[1;33m=\u001b[0m \u001b[0mL\u001b[0m\u001b[1;33m[\u001b[0m\u001b[0mi\u001b[0m\u001b[1;33m]\u001b[0m \u001b[1;33m-\u001b[0m \u001b[0mavg_L\u001b[0m\u001b[1;33m\u001b[0m\u001b[1;33m\u001b[0m\u001b[0m\n\u001b[1;32m----> 9\u001b[1;33m         \u001b[0msq_diff_sum\u001b[0m \u001b[1;33m+=\u001b[0m \u001b[0mpow\u001b[0m\u001b[1;33m(\u001b[0m\u001b[0mdiff\u001b[0m\u001b[1;33m,\u001b[0m \u001b[1;36m2\u001b[0m\u001b[1;33m)\u001b[0m\u001b[1;33m\u001b[0m\u001b[1;33m\u001b[0m\u001b[0m\n\u001b[0m\u001b[0;32m     10\u001b[0m     \u001b[0mvar\u001b[0m \u001b[1;33m=\u001b[0m \u001b[0msq_diff_sum\u001b[0m \u001b[1;33m/\u001b[0m \u001b[0mlen_L\u001b[0m\u001b[1;33m\u001b[0m\u001b[1;33m\u001b[0m\u001b[0m\n\u001b[0;32m     11\u001b[0m     \u001b[0mstd_dev\u001b[0m \u001b[1;33m=\u001b[0m \u001b[0mmath\u001b[0m\u001b[1;33m.\u001b[0m\u001b[0msqrt\u001b[0m\u001b[1;33m(\u001b[0m\u001b[0mvar\u001b[0m\u001b[1;33m)\u001b[0m\u001b[1;33m\u001b[0m\u001b[1;33m\u001b[0m\u001b[0m\n",
      "\u001b[1;31mUnboundLocalError\u001b[0m: local variable 'sq_diff_sum' referenced before assignment"
     ]
    }
   ],
   "source": [
    "#내장 함수\n",
    "def statistics(L):\n",
    "    sum_L, len_L = sum(L), len(L)\n",
    "    Min_L, Max_L = min(L), max(L)\n",
    "    avg_L = sum_L / len_L\n",
    "    Sq_diff_sum = 0\n",
    "    for i in range(len(L)):\n",
    "        diff = L[i] - avg_L\n",
    "        sq_diff_sum += pow(diff, 2)\n",
    "    var = sq_diff_sum / len_L\n",
    "    std_dev = math.sqrt(var)\n",
    "    return min_L, max_L, avg_L, var, std_dev\n",
    "\n",
    "L = [-2.5, 0.2, 3.4, 3.6, 2.7, 2.2, 1.4, 7.0, \n",
    "     7.9, 3.2, 2.2, 3.3, 2.7, 2.1, 1.6, 0.9, \n",
    "     0.3, 1.4, 3.1, 3.2, 4.6, 1.9, 2.9, 5.0, \n",
    "     6.1, 7.2, 6.7, 6.2, 7.4]\n",
    "print(\"List of datd:\", L)\n",
    "\n",
    "Min, Max, Avg, Var, Std_dev = statistics(L)\n",
    "print(\"Min={:.2f}, Max={:.2f}\".format(Min, Max))\n",
    "print(\"Avg={:5.2f}, Var={:5.2f}, Std_dev={:5.2f}\".format(Avg, Var, Std_dev))"
   ]
  },
  {
   "cell_type": "code",
   "execution_count": null,
   "id": "6a9ea88f",
   "metadata": {},
   "outputs": [],
   "source": [
    "#데이터 분석 결과의 그래프 표현\n",
    "import matplotilb.pyplot as plt\n",
    "import csv\n"
   ]
  }
 ],
 "metadata": {
  "kernelspec": {
   "display_name": "Python 3 (ipykernel)",
   "language": "python",
   "name": "python3"
  },
  "language_info": {
   "codemirror_mode": {
    "name": "ipython",
    "version": 3
   },
   "file_extension": ".py",
   "mimetype": "text/x-python",
   "name": "python",
   "nbconvert_exporter": "python",
   "pygments_lexer": "ipython3",
   "version": "3.9.7"
  }
 },
 "nbformat": 4,
 "nbformat_minor": 5
}
