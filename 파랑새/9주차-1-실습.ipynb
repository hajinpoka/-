{
 "cells": [
  {
   "cell_type": "code",
   "execution_count": 1,
   "id": "b6e42e62",
   "metadata": {},
   "outputs": [
    {
     "name": "stdout",
     "output_type": "stream",
     "text": [
      "3 10 20\n"
     ]
    }
   ],
   "source": [
    "# 1. 최대, 최소, 평균\n",
    "L = list(map(int, input().split()))"
   ]
  },
  {
   "cell_type": "code",
   "execution_count": 2,
   "id": "40952351",
   "metadata": {},
   "outputs": [
    {
     "data": {
      "text/plain": [
       "[3, 10, 20]"
      ]
     },
     "execution_count": 2,
     "metadata": {},
     "output_type": "execute_result"
    }
   ],
   "source": [
    "L"
   ]
  },
  {
   "cell_type": "code",
   "execution_count": 3,
   "id": "d48d8eea",
   "metadata": {},
   "outputs": [
    {
     "name": "stdout",
     "output_type": "stream",
     "text": [
      "Max=3, Min=20, Sum=11.0\n"
     ]
    }
   ],
   "source": [
    "Min = Max = Sum = L[0]\n",
    "\n",
    "for i in range(1, len(L)):\n",
    "    Sum += L[i]\n",
    "    if L[i] < Min:\n",
    "        Min = L[i]\n",
    "    if L[i] > Max:\n",
    "        Max = L[i]\n",
    "        \n",
    "Avg = Sum / len(L)\n",
    "print(\"Max={}, Min={}, Sum={}\".format(Min, Max, Avg))"
   ]
  },
  {
   "cell_type": "code",
   "execution_count": 4,
   "id": "c8b17057",
   "metadata": {},
   "outputs": [],
   "source": [
    "#3. 월별 기온 출력하기\n",
    "import matplotlib.pyplot as plt\n",
    "import csv\n",
    "data_file_name=\"daegu.csv\"\n",
    "f = open(data_file_name)"
   ]
  },
  {
   "cell_type": "code",
   "execution_count": 5,
   "id": "9243fc03",
   "metadata": {},
   "outputs": [],
   "source": [
    "temp_data = csv.reader(f) # csv 파일 불러오기\n",
    "header = next(temp_data) # next 는 한 줄씩 넘어가는것"
   ]
  },
  {
   "cell_type": "code",
   "execution_count": 6,
   "id": "fd931620",
   "metadata": {},
   "outputs": [
    {
     "data": {
      "text/plain": [
       "['날짜', '지점', '평균기온(℃)', '최저기온(℃)', '최고기온(℃)']"
      ]
     },
     "execution_count": 6,
     "metadata": {},
     "output_type": "execute_result"
    }
   ],
   "source": [
    "header"
   ]
  },
  {
   "cell_type": "code",
   "execution_count": 9,
   "id": "c5739a97",
   "metadata": {},
   "outputs": [],
   "source": [
    "temp_month = [[],[],[],[],[],[],[],[],[],[],[],[]] # 리스트 안에 12개의 리스트"
   ]
  },
  {
   "cell_type": "code",
   "execution_count": 10,
   "id": "760f217f",
   "metadata": {},
   "outputs": [],
   "source": [
    "for row in temp_data:\n",
    "    if row[2] != '':\n",
    "        m =int(row[0].split('-')[1]) - 1 # 2021-02-02 에서 '-' 를 기준으로 구분\n",
    "        temp_month[m].append(float(row[2]))"
   ]
  },
  {
   "cell_type": "code",
   "execution_count": 16,
   "id": "3cf0a6ef",
   "metadata": {},
   "outputs": [
    {
     "data": {
      "image/png": "[encoded data removed]",
      "text/plain": [
       "<Figure size 432x288 with 1 Axes>"
      ]
     },
     "metadata": {
      "needs_background": "light"
     },
     "output_type": "display_data"
    }
   ],
   "source": [
    "plt.rcParams['font.family'] = 'NanumGothic'\n",
    "plt.rcParams['font.size'] = 14\n",
    "plt.rcParams['axes.unicode_minus'] = False # 한글이 표시되지 않을때 사용 (위 3줄)\n",
    "---\n",
    "plt.boxplot(temp_month)\n",
    "plt.title('월별 기온 분포(2021.1~2021.12)')\n",
    "plt.show()"
   ]
  }
 ],
 "metadata": {
  "kernelspec": {
   "display_name": "Python 3 (ipykernel)",
   "language": "python",
   "name": "python3"
  },
  "language_info": {
   "codemirror_mode": {
    "name": "ipython",
    "version": 3
   },
   "file_extension": ".py",
   "mimetype": "text/x-python",
   "name": "python",
   "nbconvert_exporter": "python",
   "pygments_lexer": "ipython3",
   "version": "3.9.7"
  }
 },
 "nbformat": 4,
 "nbformat_minor": 5
}
